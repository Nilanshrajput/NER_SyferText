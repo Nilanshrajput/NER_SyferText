{
  "nbformat": 4,
  "nbformat_minor": 0,
  "metadata": {
    "colab": {
      "name": "lSTM_colab.ipynb",
      "provenance": [],
      "authorship_tag": "ABX9TyNY2b+2Y+r1RcsG3zd6ULOX",
      "include_colab_link": true
    },
    "kernelspec": {
      "name": "python3",
      "display_name": "Python 3"
    },
    "accelerator": "GPU"
  },
  "cells": [
    {
      "cell_type": "markdown",
      "metadata": {
        "id": "view-in-github",
        "colab_type": "text"
      },
      "source": [
        "<a href=\"https://colab.research.google.com/github/Nilanshrajput/NER_SyferText/blob/master/lSTM_colab.ipynb\" target=\"_parent\"><img src=\"https://colab.research.google.com/assets/colab-badge.svg\" alt=\"Open In Colab\"/></a>"
      ]
    },
    {
      "cell_type": "code",
      "metadata": {
        "id": "jBGOlkdKCP9O",
        "colab_type": "code",
        "outputId": "ff57ec17-7590-4907-84d6-989e44bd1366",
        "colab": {
          "base_uri": "https://localhost:8080/",
          "height": 121
        }
      },
      "source": [
        "!git clone https://github.com/synalp/NER.git"
      ],
      "execution_count": 1,
      "outputs": [
        {
          "output_type": "stream",
          "text": [
            "Cloning into 'NER'...\n",
            "remote: Enumerating objects: 3148, done.\u001b[K\n",
            "remote: Total 3148 (delta 0), reused 0 (delta 0), pack-reused 3148\u001b[K\n",
            "Receiving objects: 100% (3148/3148), 281.51 MiB | 38.66 MiB/s, done.\n",
            "Resolving deltas: 100% (2066/2066), done.\n",
            "Checking out files: 100% (189/189), done.\n"
          ],
          "name": "stdout"
        }
      ]
    },
    {
      "cell_type": "code",
      "metadata": {
        "id": "viGkubaPGPWl",
        "colab_type": "code",
        "colab": {}
      },
      "source": [
        "\n",
        "from __future__ import print_function\n",
        "from collections import OrderedDict\n",
        "\n",
        "import torch\n",
        "import torch.nn as nn\n",
        "from torch.nn import init\n",
        "from torch.autograd import Variable\n",
        "from torch import autograd\n",
        "\n",
        "import time\n",
        "import _pickle as cPickle\n",
        "\n",
        "import urllib\n",
        "import matplotlib.pyplot as plt\n",
        "\n",
        "\n",
        "import os\n",
        "import sys\n",
        "import codecs\n",
        "import re\n",
        "import numpy as np\n",
        "import spacy\n",
        "from sklearn.metrics import f1_score"
      ],
      "execution_count": 0,
      "outputs": []
    },
    {
      "cell_type": "code",
      "metadata": {
        "id": "_PqRap7oC-1F",
        "colab_type": "code",
        "colab": {
          "base_uri": "https://localhost:8080/",
          "height": 181
        },
        "outputId": "e48a6976-7bc8-4de4-838b-92100f74847a"
      },
      "source": [
        "while 1:\n",
        "  continue"
      ],
      "execution_count": 3,
      "outputs": [
        {
          "output_type": "error",
          "ename": "KeyboardInterrupt",
          "evalue": "ignored",
          "traceback": [
            "\u001b[0;31m---------------------------------------------------------------------------\u001b[0m",
            "\u001b[0;31mKeyboardInterrupt\u001b[0m                         Traceback (most recent call last)",
            "\u001b[0;32m<ipython-input-3-de7f810681bb>\u001b[0m in \u001b[0;36m<module>\u001b[0;34m()\u001b[0m\n\u001b[1;32m      1\u001b[0m \u001b[0;32mwhile\u001b[0m \u001b[0;36m1\u001b[0m\u001b[0;34m:\u001b[0m\u001b[0;34m\u001b[0m\u001b[0;34m\u001b[0m\u001b[0m\n\u001b[0;32m----> 2\u001b[0;31m   \u001b[0;32mcontinue\u001b[0m\u001b[0;34m\u001b[0m\u001b[0;34m\u001b[0m\u001b[0m\n\u001b[0m",
            "\u001b[0;31mKeyboardInterrupt\u001b[0m: "
          ]
        }
      ]
    },
    {
      "cell_type": "code",
      "metadata": {
        "id": "lW7VtQ2yCiPL",
        "colab_type": "code",
        "colab": {}
      },
      "source": [
        "\n",
        "import torch\n",
        "from torchtext import data\n",
        "from torchtext.datasets import SequenceTaggingDataset\n",
        "from torchtext.vocab import Vectors, GloVe\n",
        "\n",
        "import numpy as np\n",
        "import random\n",
        "import logging\n",
        "logger = logging.getLogger(__name__)\n",
        "\n",
        "\n",
        "def conll2003_dataset(tag_type, batch_size, root='/content/NER/corpus/CoNLL-2003', \n",
        "                          train_file='eng.train', \n",
        "                          validation_file='eng.testa',\n",
        "                          test_file='eng.testb',\n",
        "                          convert_digits=True):\n",
        "    \"\"\"\n",
        "    conll2003: Conll 2003 (Parser only. You must place the files)\n",
        "    Extract Conll2003 dataset using torchtext. Applies GloVe 6B.200d and Char N-gram\n",
        "    pretrained vectors. Also sets up per word character Field\n",
        "    Parameters:\n",
        "        tag_type: Type of tag to pick as task [pos, chunk, ner]\n",
        "        batch_size: Batch size to return from iterator\n",
        "        root: Dataset root directory\n",
        "        train_file: Train filename\n",
        "        validation_file: Validation filename\n",
        "        test_file: Test filename\n",
        "        convert_digits: If True will convert numbers to single 0's\n",
        "    Returns:\n",
        "        A dict containing:\n",
        "            task: 'conll2003.' + tag_type\n",
        "            iters: (train iter, validation iter, test iter)\n",
        "            vocabs: (Inputs word vocabulary, Inputs character vocabulary, \n",
        "                    Tag vocabulary )\n",
        "    \"\"\"\n",
        "    \n",
        "    # Setup fields with batch dimension first\n",
        "    inputs_word = data.Field(  lower=True)\n",
        "\n",
        "    inputs_char_nesting = data.Field(tokenize=list)\n",
        "\n",
        "    inputs_char = data.NestedField(inputs_char_nesting)\n",
        "                        \n",
        "\n",
        "    labels = data.Field(unk_token = None, is_target=True)\n",
        "\n",
        "    fields = ([(('inputs_word', 'inputs_char'), (inputs_word, inputs_char))] + \n",
        "                [('labels', labels) if label == tag_type else (None, None) \n",
        "                for label in ['pos', 'chunk', 'ner']])\n",
        "\n",
        "    # Load the data\n",
        "    train, val, test = SequenceTaggingDataset.splits(\n",
        "                                path=root, \n",
        "                                train=train_file, \n",
        "                                validation=validation_file, \n",
        "                                test=test_file,\n",
        "                                separator=' ',\n",
        "                                fields=tuple(fields))\n",
        "\n",
        "\n",
        "    \n",
        "    # Build vocab\n",
        "    inputs_char.build_vocab(train.inputs_char, val.inputs_char, test.inputs_char)\n",
        "    inputs_word.build_vocab(train.inputs_word, val.inputs_word, test.inputs_word, max_size=50000,\n",
        "                        vectors= \"glove.6B.300d\")\n",
        "    \n",
        "    labels.build_vocab(train)\n",
        "  \n",
        "\n",
        "    # Get iterators\n",
        "    train_iter, val_iter, test_iter = data.BucketIterator.splits(\n",
        "                            (train, val, test), batch_size=batch_size, \n",
        "                            device=torch.device(\"cuda\"))\n",
        "    train_iter.repeat = False\n",
        "    \n",
        "    return {\n",
        "        'task': 'conll2003.%s'%tag_type,\n",
        "        'iters': (train_iter, val_iter, test_iter), \n",
        "        'vocabs': (inputs_word.vocab, inputs_char.vocab, labels.vocab), \n",
        "        'fields': (inputs_word,labels)\n",
        "        }\n"
      ],
      "execution_count": 0,
      "outputs": []
    },
    {
      "cell_type": "code",
      "metadata": {
        "id": "hC6qOKHrc5sN",
        "colab_type": "code",
        "colab": {}
      },
      "source": [
        "dic = conll2003_dataset('ner', batch_size = 64)"
      ],
      "execution_count": 0,
      "outputs": []
    },
    {
      "cell_type": "code",
      "metadata": {
        "id": "QbTwNX2TPFUq",
        "colab_type": "code",
        "outputId": "67f08e7a-715c-45a0-999e-6989a9a13f6f",
        "colab": {
          "base_uri": "https://localhost:8080/",
          "height": 431
        }
      },
      "source": [
        "a,_,_= dic['iters']\n",
        "\n",
        "for i,t in enumerate(a):\n",
        "  print(t)\n",
        "  if i == 1:\n",
        "    break\n",
        "\n",
        "  "
      ],
      "execution_count": 74,
      "outputs": [
        {
          "output_type": "stream",
          "text": [
            "\n",
            "[torchtext.data.batch.Batch of size 64]\n",
            "\t[.labels]:[torch.LongTensor of size 44x64]\n",
            "\t[.inputs_word]:[torch.LongTensor of size 44x64]\n",
            "\t[.inputs_char]:[torch.LongTensor of size 64x44x15]\n",
            "tensor([ 1646,   264,    20,  3672,  2015,   670, 26767,    17,    17,  1560,\n",
            "        21912,   135,  2161,     1,     3,  2637,    17,     6,    14,     3,\n",
            "         4314,     6,     1,   625,  1334,    65,    14,     1,     9,     1,\n",
            "           98,    64,    31,   527, 12176,   107,   255,    15,  3865, 21049,\n",
            "         4150,  2579,    25,  5961, 22291,  8596,    71,   177,    77,  1211,\n",
            "         2513,     3,  6063,   248,   372, 19870,   397,     9,    44,  1027,\n",
            "            3,   248,   547,     5])\n",
            "\n",
            "[torchtext.data.batch.Batch of size 64]\n",
            "\t[.labels]:[torch.LongTensor of size 40x64]\n",
            "\t[.inputs_word]:[torch.LongTensor of size 40x64]\n",
            "\t[.inputs_char]:[torch.LongTensor of size 64x40x16]\n",
            "tensor([ 2699,  4952,     3, 19028,   242,    24, 12126,    10,  8641,   939,\n",
            "         1850,     5,     2,    24,  6911,  5710,    17,    60,     1,  5694,\n",
            "            9,   169, 25363,  1324,  4727,    51,  3812,     1,     1,   321,\n",
            "         5755,  4769,  1547,  4137,   992,   842,   757,    65,    71,     1,\n",
            "            1,    14,  3701,    17,  3091,     1,   459,    14,    69,  1159,\n",
            "           19,    37,   864,   615,    22,  7259,  1966,   313,     1,    71,\n",
            "         1467,    14,     1,  6695])\n"
          ],
          "name": "stdout"
        }
      ]
    },
    {
      "cell_type": "code",
      "metadata": {
        "id": "5TNnvi7LdubP",
        "colab_type": "code",
        "colab": {}
      },
      "source": [
        "d_,_,label_=dic['vocabs']"
      ],
      "execution_count": 0,
      "outputs": []
    },
    {
      "cell_type": "code",
      "metadata": {
        "id": "oME92UbOd6kE",
        "colab_type": "code",
        "outputId": "4c0a151b-13cc-4536-d35a-7d5679976ede",
        "colab": {
          "base_uri": "https://localhost:8080/",
          "height": 34
        }
      },
      "source": [
        "len(label_)"
      ],
      "execution_count": 76,
      "outputs": [
        {
          "output_type": "execute_result",
          "data": {
            "text/plain": [
              "9"
            ]
          },
          "metadata": {
            "tags": []
          },
          "execution_count": 76
        }
      ]
    },
    {
      "cell_type": "code",
      "metadata": {
        "id": "ly3jDoY6eHhn",
        "colab_type": "code",
        "colab": {
          "base_uri": "https://localhost:8080/",
          "height": 34
        },
        "outputId": "c06d2c1e-fdbd-4800-ea43-0b6828807618"
      },
      "source": [
        "label_.itos"
      ],
      "execution_count": 77,
      "outputs": [
        {
          "output_type": "execute_result",
          "data": {
            "text/plain": [
              "['<pad>', 'O', 'I-PER', 'I-ORG', 'I-LOC', 'I-MISC', 'B-MISC', 'B-ORG', 'B-LOC']"
            ]
          },
          "metadata": {
            "tags": []
          },
          "execution_count": 77
        }
      ]
    },
    {
      "cell_type": "code",
      "metadata": {
        "id": "ER3ElFk6ZocS",
        "colab_type": "code",
        "colab": {
          "base_uri": "https://localhost:8080/",
          "height": 155
        },
        "outputId": "33302a89-bffd-400e-b408-c2505bd3b37b"
      },
      "source": [
        "label_.freqs.most_common()"
      ],
      "execution_count": 78,
      "outputs": [
        {
          "output_type": "execute_result",
          "data": {
            "text/plain": [
              "[('O', 170524),\n",
              " ('I-PER', 11128),\n",
              " ('I-ORG', 10001),\n",
              " ('I-LOC', 8286),\n",
              " ('I-MISC', 4556),\n",
              " ('B-MISC', 37),\n",
              " ('B-ORG', 24),\n",
              " ('B-LOC', 11)]"
            ]
          },
          "metadata": {
            "tags": []
          },
          "execution_count": 78
        }
      ]
    },
    {
      "cell_type": "code",
      "metadata": {
        "id": "t8oGzecjlZyr",
        "colab_type": "code",
        "colab": {}
      },
      "source": [
        "train_iter,valid_iter,test_iter = dic['iters']\n",
        "text_vocab,_,labels = dic['vocabs']\n",
        "input_field,label_field = dic['fields']"
      ],
      "execution_count": 0,
      "outputs": []
    },
    {
      "cell_type": "code",
      "metadata": {
        "id": "B5H9FyaZQw01",
        "colab_type": "code",
        "colab": {}
      },
      "source": [
        "import torch.nn as nn\n",
        "import torch.nn.functional as F\n",
        "\n",
        "class LSTM_Tagger(nn.Module):\n",
        "    def __init__(self, \n",
        "                 input_dim, \n",
        "                 embedding_dim, \n",
        "                 hidden_dim, \n",
        "                 output_dim, \n",
        "                 n_layers, \n",
        "                 dropout, \n",
        "                 pad_idx):\n",
        "        \n",
        "        super().__init__()\n",
        "        \n",
        "        self.embedding = nn.Embedding(input_dim, embedding_dim, padding_idx = pad_idx)\n",
        "        \n",
        "        self.lstm = nn.LSTM(embedding_dim, \n",
        "                            hidden_dim, \n",
        "                            num_layers = n_layers,\n",
        "                            dropout = dropout if n_layers > 1 else 0)\n",
        "        \n",
        "        self.fc = nn.Linear(hidden_dim, output_dim)\n",
        "        \n",
        "        self.dropout = nn.Dropout(dropout)\n",
        "        \n",
        "    def forward(self, text):\n",
        "\n",
        "        #text = [sent len, batch size]\n",
        "        \n",
        "        #pass text through embedding layer\n",
        "        embedded = self.dropout(self.embedding(text))\n",
        "        \n",
        "        #embedded = [sent len, batch size, emb dim]\n",
        "        \n",
        "        #pass embeddings into LSTM\n",
        "        outputs, (hidden, cell) = self.lstm(embedded)\n",
        "        \n",
        "        #outputs holds the backward and forward hidden states in the final layer\n",
        "        #hidden and cell are the backward and forward hidden and cell states at the final time-step\n",
        "        \n",
        "        #output = [sent len, batch size, hid dim * n directions]\n",
        "        #hidden/cell = [n layers * n directions, batch size, hid dim]\n",
        "        \n",
        "        #we use our outputs to make a prediction of what the tag should be\n",
        "        predictions = self.fc(self.dropout(outputs))\n",
        "        \n",
        "        #predictions = [sent len, batch size, output dim]\n",
        "        \n",
        "        return predictions\n"
      ],
      "execution_count": 0,
      "outputs": []
    },
    {
      "cell_type": "code",
      "metadata": {
        "id": "2aqKhIL2oGHO",
        "colab_type": "code",
        "colab": {}
      },
      "source": [
        "\n",
        "INPUT_DIM = len(text_vocab)\n",
        "EMBEDDING_DIM = 300\n",
        "HIDDEN_DIM = 256\n",
        "OUTPUT_DIM = len(labels)\n",
        "N_LAYERS = 2\n",
        "\n",
        "DROPOUT = 0.25\n",
        "PAD_IDX = text_vocab.stoi[input_field.pad_token]\n",
        "model = LSTM_Tagger(INPUT_DIM, \n",
        "                        EMBEDDING_DIM, \n",
        "                        HIDDEN_DIM, \n",
        "                        OUTPUT_DIM, \n",
        "                        N_LAYERS,\n",
        "                        DROPOUT, \n",
        "                        PAD_IDX)"
      ],
      "execution_count": 0,
      "outputs": []
    },
    {
      "cell_type": "code",
      "metadata": {
        "id": "WThHQcnhX0YQ",
        "colab_type": "code",
        "outputId": "704d6778-d39b-4f92-ae1d-e3e60cf5628b",
        "colab": {
          "base_uri": "https://localhost:8080/",
          "height": 34
        }
      },
      "source": [
        "pretrained_embeddings = text_vocab.vectors\n",
        "\n",
        "print(pretrained_embeddings.shape)"
      ],
      "execution_count": 24,
      "outputs": [
        {
          "output_type": "stream",
          "text": [
            "torch.Size([26872, 300])\n"
          ],
          "name": "stdout"
        }
      ]
    },
    {
      "cell_type": "code",
      "metadata": {
        "id": "51cdRoCyX0YT",
        "colab_type": "code",
        "outputId": "46c54a7c-509d-4a55-bfd6-50b594eecad2",
        "colab": {
          "base_uri": "https://localhost:8080/",
          "height": 138
        }
      },
      "source": [
        "model.embedding.weight.data.copy_(pretrained_embeddings)"
      ],
      "execution_count": 25,
      "outputs": [
        {
          "output_type": "execute_result",
          "data": {
            "text/plain": [
              "tensor([[ 0.0000,  0.0000,  0.0000,  ...,  0.0000,  0.0000,  0.0000],\n",
              "        [ 0.0000,  0.0000,  0.0000,  ...,  0.0000,  0.0000,  0.0000],\n",
              "        [ 0.0466,  0.2132, -0.0074,  ...,  0.0091, -0.2099,  0.0539],\n",
              "        ...,\n",
              "        [ 0.0702, -0.0498,  0.2675,  ...,  0.2944, -0.4164,  0.3202],\n",
              "        [-0.1881, -0.4332, -0.4754,  ...,  0.6583,  0.2311,  0.1486],\n",
              "        [ 0.0000,  0.0000,  0.0000,  ...,  0.0000,  0.0000,  0.0000]])"
            ]
          },
          "metadata": {
            "tags": []
          },
          "execution_count": 25
        }
      ]
    },
    {
      "cell_type": "code",
      "metadata": {
        "id": "hhr-6NRyX0YW",
        "colab_type": "code",
        "outputId": "659ee12f-ec26-447d-8173-d3ed25546ef4",
        "colab": {
          "base_uri": "https://localhost:8080/",
          "height": 138
        }
      },
      "source": [
        "model.embedding.weight.data[PAD_IDX] = torch.zeros(EMBEDDING_DIM)\n",
        "\n",
        "print(model.embedding.weight.data)"
      ],
      "execution_count": 26,
      "outputs": [
        {
          "output_type": "stream",
          "text": [
            "tensor([[ 0.0000,  0.0000,  0.0000,  ...,  0.0000,  0.0000,  0.0000],\n",
            "        [ 0.0000,  0.0000,  0.0000,  ...,  0.0000,  0.0000,  0.0000],\n",
            "        [ 0.0466,  0.2132, -0.0074,  ...,  0.0091, -0.2099,  0.0539],\n",
            "        ...,\n",
            "        [ 0.0702, -0.0498,  0.2675,  ...,  0.2944, -0.4164,  0.3202],\n",
            "        [-0.1881, -0.4332, -0.4754,  ...,  0.6583,  0.2311,  0.1486],\n",
            "        [ 0.0000,  0.0000,  0.0000,  ...,  0.0000,  0.0000,  0.0000]])\n"
          ],
          "name": "stdout"
        }
      ]
    },
    {
      "cell_type": "code",
      "metadata": {
        "id": "zsS_V0Ocooff",
        "colab_type": "code",
        "colab": {}
      },
      "source": [
        "device = torch.device(\"cuda\")"
      ],
      "execution_count": 0,
      "outputs": []
    },
    {
      "cell_type": "code",
      "metadata": {
        "id": "FqvjwF894_fc",
        "colab_type": "code",
        "colab": {}
      },
      "source": [
        ""
      ],
      "execution_count": 0,
      "outputs": []
    },
    {
      "cell_type": "code",
      "metadata": {
        "id": "2jd_2AkSX0YZ",
        "colab_type": "code",
        "colab": {}
      },
      "source": [
        "optimizer = torch.optim.Adam(model.parameters(),lr = 2e-5)"
      ],
      "execution_count": 0,
      "outputs": []
    },
    {
      "cell_type": "code",
      "metadata": {
        "id": "Lzxy1i2YX0Yc",
        "colab_type": "code",
        "colab": {}
      },
      "source": [
        "TAG_PAD_IDX = labels.stoi[label_field.pad_token]\n",
        "\n",
        "criterion = nn.CrossEntropyLoss(ignore_index = TAG_PAD_IDX)"
      ],
      "execution_count": 0,
      "outputs": []
    },
    {
      "cell_type": "code",
      "metadata": {
        "id": "rw_Ku0uiX0Yf",
        "colab_type": "code",
        "colab": {}
      },
      "source": [
        "model = model.to(device)\n",
        "criterion = criterion.to(device)"
      ],
      "execution_count": 0,
      "outputs": []
    },
    {
      "cell_type": "code",
      "metadata": {
        "id": "WWBOvVsKX0Yi",
        "colab_type": "code",
        "colab": {}
      },
      "source": [
        "def categorical_accuracy(preds, y, tag_pad_idx):\n",
        "    \"\"\"\n",
        "    Returns accuracy per batch, i.e. if you get 8/10 right, this returns 0.8, NOT 8\n",
        "    \"\"\"\n",
        "    max_preds = preds.argmax(dim = 1, keepdim = True) # get the index of the max probability\n",
        "    non_pad_elements = (y != tag_pad_idx).nonzero()\n",
        "    correct = max_preds[non_pad_elements].squeeze(1).eq(y[non_pad_elements])\n",
        "    return correct.sum() / torch.FloatTensor([y[non_pad_elements].shape[0]])"
      ],
      "execution_count": 0,
      "outputs": []
    },
    {
      "cell_type": "code",
      "metadata": {
        "id": "6qxr7S_yvxC1",
        "colab_type": "code",
        "colab": {}
      },
      "source": [
        "def metric_f1(preds, y, tag_pad_idx):\n",
        "  preds=preds.to('cpu')\n",
        "  y = y.to('cpu')\n",
        "  max_preds = preds.argmax(dim = 1, keepdim = True) # get the index of the max probability\n",
        "  non_pad_elements = (y != tag_pad_idx).nonzero()\n",
        "  shape = max_preds[non_pad_elements].shape[0]\n",
        "  #print(max_preds[non_pad_elements])\n",
        "  #print(max_preds[non_pad_elements].view(shape).shape)\n",
        "  #print(y[non_pad_elements])\n",
        "  #print(y[non_pad_elements].view(shape).shape)\n",
        "  return f1_score(y[non_pad_elements].detach().view(shape).numpy(),max_preds[non_pad_elements].detach().view(shape).numpy(),average='macro')"
      ],
      "execution_count": 0,
      "outputs": []
    },
    {
      "cell_type": "code",
      "metadata": {
        "id": "hsX6rKVBX0Yl",
        "colab_type": "code",
        "colab": {}
      },
      "source": [
        "def clip_gradient(model, clip_value):\n",
        "    params = list(filter(lambda p: p.grad is not None, model.parameters()))\n",
        "    for p in params:\n",
        "        p.grad.data.clamp_(-clip_value, clip_value)\n",
        "\n",
        "def train(model, iterator, optimizer, criterion, tag_pad_idx):\n",
        "    \n",
        "    epoch_loss = 0\n",
        "    epoch_acc = 0\n",
        "    epoch_f1 = 0\n",
        "    \n",
        "    model.train()\n",
        "    \n",
        "    for batch in iterator:\n",
        "        \n",
        "        text = batch.inputs_word\n",
        "        tags = batch.labels\n",
        "        \n",
        "        optimizer.zero_grad()\n",
        "        \n",
        "        #text = [sent len, batch size]\n",
        "        \n",
        "        predictions = model(text)\n",
        "        \n",
        "        #predictions = [sent len, batch size, output dim]\n",
        "        #tags = [sent len, batch size]\n",
        "        \n",
        "        predictions = predictions.view(-1, predictions.shape[-1])\n",
        "        tags = tags.view(-1)\n",
        "        \n",
        "        #predictions = [sent len * batch size, output dim]\n",
        "        #tags = [sent len * batch size]\n",
        "        \n",
        "        loss = criterion(predictions, tags)\n",
        "                \n",
        "        acc = categorical_accuracy(predictions, tags, tag_pad_idx)\n",
        "        f1 = metric_f1(predictions, tags, tag_pad_idx)\n",
        "        \n",
        "        loss.backward()\n",
        "        clip_gradient(model, 1e-1)\n",
        "        optimizer.step()\n",
        "        \n",
        "        epoch_loss += loss.item()\n",
        "        epoch_acc += acc.item()\n",
        "        epoch_f1 += f1\n",
        "        \n",
        "    return epoch_loss / len(iterator), epoch_acc / len(iterator), epoch_f1 / len(iterator)"
      ],
      "execution_count": 0,
      "outputs": []
    },
    {
      "cell_type": "code",
      "metadata": {
        "id": "gHLt5qCwX0Yo",
        "colab_type": "code",
        "colab": {}
      },
      "source": [
        "def evaluate(model, iterator, criterion, tag_pad_idx):\n",
        "    \n",
        "    epoch_loss = 0\n",
        "    epoch_acc = 0\n",
        "    epoch_f1 = 0\n",
        "    \n",
        "    model.eval()\n",
        "    \n",
        "    with torch.no_grad():\n",
        "    \n",
        "        for batch in iterator:\n",
        "\n",
        "            text = batch.inputs_word\n",
        "            tags = batch.labels\n",
        "            \n",
        "            predictions = model(text)\n",
        "            \n",
        "            predictions = predictions.view(-1, predictions.shape[-1])\n",
        "            tags = tags.view(-1)\n",
        "            \n",
        "            loss = criterion(predictions, tags)\n",
        "            \n",
        "            acc = categorical_accuracy(predictions, tags, tag_pad_idx)\n",
        "            f1 = metric_f1(predictions, tags, tag_pad_idx)\n",
        "\n",
        "            epoch_loss += loss.item()\n",
        "            epoch_acc += acc.item()\n",
        "            epoch_f1 += f1\n",
        "        \n",
        "    return epoch_loss / len(iterator), epoch_acc / len(iterator), epoch_f1 / len(iterator)"
      ],
      "execution_count": 0,
      "outputs": []
    },
    {
      "cell_type": "code",
      "metadata": {
        "id": "xJA1lbSyX0Ys",
        "colab_type": "code",
        "colab": {}
      },
      "source": [
        "def epoch_time(start_time, end_time):\n",
        "    elapsed_time = end_time - start_time\n",
        "    elapsed_mins = int(elapsed_time / 60)\n",
        "    elapsed_secs = int(elapsed_time - (elapsed_mins * 60))\n",
        "    return elapsed_mins, elapsed_secs"
      ],
      "execution_count": 0,
      "outputs": []
    },
    {
      "cell_type": "code",
      "metadata": {
        "id": "vAFacwnuX0Yu",
        "colab_type": "code",
        "outputId": "36d6cbe3-61fd-4e31-b0a9-e783bac85995",
        "colab": {
          "base_uri": "https://localhost:8080/",
          "height": 1000
        }
      },
      "source": [
        "N_EPOCHS = 100\n",
        "\n",
        "best_valid_f1 = float(0)\n",
        "\n",
        "for epoch in range(N_EPOCHS):\n",
        "\n",
        "    start_time = time.time()\n",
        "    \n",
        "    train_loss, train_acc, train_f1 = train(model, train_iter, optimizer, criterion, TAG_PAD_IDX)\n",
        "    valid_loss, valid_acc, valid_f1 = evaluate(model, valid_iter, criterion, TAG_PAD_IDX)\n",
        "    \n",
        "    end_time = time.time()\n",
        "\n",
        "    epoch_mins, epoch_secs = epoch_time(start_time, end_time)\n",
        "    \n",
        "    if valid_f1 > best_valid_f1:\n",
        "        best_valid_f1 = valid_f1\n",
        "        torch.save(model.state_dict(), 'tut1-model.pt')\n",
        "    \n",
        "    print(f'Epoch: {epoch+1:02} | Epoch Time: {epoch_mins}m {epoch_secs}s')\n",
        "    print(f'\\tTrain Loss: {train_loss:.3f} | Train Acc: {train_acc*100:.2f}% | Train_F1{train_f1}')\n",
        "    print(f'\\t Val. Loss: {valid_loss:.3f} |  Val. Acc: {valid_acc*100:.2f}% | Valid_F1{valid_f1}')"
      ],
      "execution_count": 134,
      "outputs": [
        {
          "output_type": "stream",
          "text": [
            "Epoch: 01 | Epoch Time: 0m 6s\n",
            "\tTrain Loss: 0.027 | Train Acc: 99.12% | Train_F10.9437439717642565\n",
            "\t Val. Loss: 0.122 |  Val. Acc: 97.08% | Valid_F10.8643226586334629\n",
            "Epoch: 02 | Epoch Time: 0m 6s\n",
            "\tTrain Loss: 0.026 | Train Acc: 99.12% | Train_F10.9393977596870954\n",
            "\t Val. Loss: 0.121 |  Val. Acc: 97.06% | Valid_F10.8633842595430773\n",
            "Epoch: 03 | Epoch Time: 0m 6s\n",
            "\tTrain Loss: 0.025 | Train Acc: 99.14% | Train_F10.9392811145735339\n",
            "\t Val. Loss: 0.122 |  Val. Acc: 97.10% | Valid_F10.8651628940248051\n",
            "Epoch: 04 | Epoch Time: 0m 6s\n",
            "\tTrain Loss: 0.025 | Train Acc: 99.15% | Train_F10.9391243111827356\n",
            "\t Val. Loss: 0.123 |  Val. Acc: 97.09% | Valid_F10.8649493565264573\n",
            "Epoch: 05 | Epoch Time: 0m 6s\n",
            "\tTrain Loss: 0.025 | Train Acc: 99.19% | Train_F10.9427857706903399\n",
            "\t Val. Loss: 0.123 |  Val. Acc: 97.12% | Valid_F10.8668761967904146\n",
            "Epoch: 06 | Epoch Time: 0m 6s\n",
            "\tTrain Loss: 0.024 | Train Acc: 99.18% | Train_F10.9414130344771089\n",
            "\t Val. Loss: 0.124 |  Val. Acc: 97.12% | Valid_F10.8667963129448963\n",
            "Epoch: 07 | Epoch Time: 0m 6s\n",
            "\tTrain Loss: 0.024 | Train Acc: 99.18% | Train_F10.9430343623405545\n",
            "\t Val. Loss: 0.124 |  Val. Acc: 97.12% | Valid_F10.8668223116196495\n",
            "Epoch: 08 | Epoch Time: 0m 6s\n",
            "\tTrain Loss: 0.024 | Train Acc: 99.21% | Train_F10.9452719232852401\n",
            "\t Val. Loss: 0.124 |  Val. Acc: 97.11% | Valid_F10.8658844833298905\n",
            "Epoch: 09 | Epoch Time: 0m 6s\n",
            "\tTrain Loss: 0.024 | Train Acc: 99.19% | Train_F10.9497046759127667\n",
            "\t Val. Loss: 0.125 |  Val. Acc: 97.13% | Valid_F10.8672113482195846\n",
            "Epoch: 10 | Epoch Time: 0m 6s\n",
            "\tTrain Loss: 0.024 | Train Acc: 99.21% | Train_F10.9490169842489719\n",
            "\t Val. Loss: 0.126 |  Val. Acc: 97.14% | Valid_F10.8675227871023302\n",
            "Epoch: 11 | Epoch Time: 0m 6s\n",
            "\tTrain Loss: 0.023 | Train Acc: 99.23% | Train_F10.9449875031737041\n",
            "\t Val. Loss: 0.126 |  Val. Acc: 97.14% | Valid_F10.8667596687795541\n",
            "Epoch: 12 | Epoch Time: 0m 6s\n",
            "\tTrain Loss: 0.022 | Train Acc: 99.24% | Train_F10.9490673008819936\n",
            "\t Val. Loss: 0.126 |  Val. Acc: 97.15% | Valid_F10.8680767475325118\n",
            "Epoch: 13 | Epoch Time: 0m 6s\n",
            "\tTrain Loss: 0.022 | Train Acc: 99.24% | Train_F10.948887470349471\n",
            "\t Val. Loss: 0.126 |  Val. Acc: 97.14% | Valid_F10.8675315598811733\n",
            "Epoch: 14 | Epoch Time: 0m 6s\n",
            "\tTrain Loss: 0.022 | Train Acc: 99.25% | Train_F10.9436723641391448\n",
            "\t Val. Loss: 0.127 |  Val. Acc: 97.14% | Valid_F10.8669892200483502\n",
            "Epoch: 15 | Epoch Time: 0m 6s\n",
            "\tTrain Loss: 0.022 | Train Acc: 99.26% | Train_F10.9465812339442297\n",
            "\t Val. Loss: 0.127 |  Val. Acc: 97.12% | Valid_F10.8666237084296065\n",
            "Epoch: 16 | Epoch Time: 0m 6s\n",
            "\tTrain Loss: 0.022 | Train Acc: 99.24% | Train_F10.9468390055430032\n",
            "\t Val. Loss: 0.128 |  Val. Acc: 97.14% | Valid_F10.8674796903391467\n",
            "Epoch: 17 | Epoch Time: 0m 6s\n",
            "\tTrain Loss: 0.021 | Train Acc: 99.27% | Train_F10.9466526842230898\n",
            "\t Val. Loss: 0.128 |  Val. Acc: 97.14% | Valid_F10.8675534692227044\n",
            "Epoch: 18 | Epoch Time: 0m 6s\n",
            "\tTrain Loss: 0.021 | Train Acc: 99.28% | Train_F10.9494999211675418\n",
            "\t Val. Loss: 0.128 |  Val. Acc: 97.13% | Valid_F10.8673815491656308\n",
            "Epoch: 19 | Epoch Time: 0m 6s\n",
            "\tTrain Loss: 0.021 | Train Acc: 99.27% | Train_F10.9458904801766567\n",
            "\t Val. Loss: 0.129 |  Val. Acc: 97.15% | Valid_F10.867420960945459\n",
            "Epoch: 20 | Epoch Time: 0m 6s\n",
            "\tTrain Loss: 0.021 | Train Acc: 99.29% | Train_F10.9464453078688079\n",
            "\t Val. Loss: 0.128 |  Val. Acc: 97.11% | Valid_F10.8664132954612791\n",
            "Epoch: 21 | Epoch Time: 0m 6s\n",
            "\tTrain Loss: 0.021 | Train Acc: 99.30% | Train_F10.9491203187247729\n",
            "\t Val. Loss: 0.129 |  Val. Acc: 97.14% | Valid_F10.8674816911169548\n",
            "Epoch: 22 | Epoch Time: 0m 6s\n",
            "\tTrain Loss: 0.021 | Train Acc: 99.30% | Train_F10.9519757123135275\n",
            "\t Val. Loss: 0.130 |  Val. Acc: 97.13% | Valid_F10.8667937016178401\n",
            "Epoch: 23 | Epoch Time: 0m 6s\n",
            "\tTrain Loss: 0.021 | Train Acc: 99.30% | Train_F10.9552491527643943\n",
            "\t Val. Loss: 0.130 |  Val. Acc: 97.14% | Valid_F10.8679843504154142\n",
            "Epoch: 24 | Epoch Time: 0m 6s\n",
            "\tTrain Loss: 0.021 | Train Acc: 99.30% | Train_F10.9532899145556407\n",
            "\t Val. Loss: 0.129 |  Val. Acc: 97.13% | Valid_F10.8674510909673436\n",
            "Epoch: 25 | Epoch Time: 0m 6s\n",
            "\tTrain Loss: 0.021 | Train Acc: 99.30% | Train_F10.950586997997584\n",
            "\t Val. Loss: 0.130 |  Val. Acc: 97.13% | Valid_F10.8669456575601118\n",
            "Epoch: 26 | Epoch Time: 0m 6s\n",
            "\tTrain Loss: 0.020 | Train Acc: 99.31% | Train_F10.9505569947739871\n",
            "\t Val. Loss: 0.130 |  Val. Acc: 97.14% | Valid_F10.8676387948920214\n",
            "Epoch: 27 | Epoch Time: 0m 6s\n",
            "\tTrain Loss: 0.020 | Train Acc: 99.32% | Train_F10.9528039789510826\n",
            "\t Val. Loss: 0.131 |  Val. Acc: 97.13% | Valid_F10.8672023953285611\n",
            "Epoch: 28 | Epoch Time: 0m 6s\n",
            "\tTrain Loss: 0.020 | Train Acc: 99.33% | Train_F10.954987768642201\n",
            "\t Val. Loss: 0.131 |  Val. Acc: 97.15% | Valid_F10.8676078472184175\n",
            "Epoch: 29 | Epoch Time: 0m 6s\n",
            "\tTrain Loss: 0.020 | Train Acc: 99.31% | Train_F10.9539363479201617\n",
            "\t Val. Loss: 0.132 |  Val. Acc: 97.15% | Valid_F10.8667644682995127\n",
            "Epoch: 30 | Epoch Time: 0m 6s\n",
            "\tTrain Loss: 0.019 | Train Acc: 99.34% | Train_F10.9531198835989652\n",
            "\t Val. Loss: 0.132 |  Val. Acc: 97.11% | Valid_F10.8662634786237703\n",
            "Epoch: 31 | Epoch Time: 0m 6s\n",
            "\tTrain Loss: 0.020 | Train Acc: 99.33% | Train_F10.9529064378928316\n",
            "\t Val. Loss: 0.132 |  Val. Acc: 97.14% | Valid_F10.8673415578176233\n",
            "Epoch: 32 | Epoch Time: 0m 6s\n",
            "\tTrain Loss: 0.020 | Train Acc: 99.34% | Train_F10.955228222575097\n",
            "\t Val. Loss: 0.132 |  Val. Acc: 97.12% | Valid_F10.8662610499789356\n",
            "Epoch: 33 | Epoch Time: 0m 6s\n",
            "\tTrain Loss: 0.019 | Train Acc: 99.34% | Train_F10.9561656762097974\n",
            "\t Val. Loss: 0.132 |  Val. Acc: 97.12% | Valid_F10.8668486922762824\n",
            "Epoch: 34 | Epoch Time: 0m 6s\n",
            "\tTrain Loss: 0.019 | Train Acc: 99.34% | Train_F10.9551246891954307\n",
            "\t Val. Loss: 0.133 |  Val. Acc: 97.11% | Valid_F10.8659193229946507\n",
            "Epoch: 35 | Epoch Time: 0m 6s\n",
            "\tTrain Loss: 0.019 | Train Acc: 99.35% | Train_F10.956241874721634\n",
            "\t Val. Loss: 0.134 |  Val. Acc: 97.12% | Valid_F10.8666363239738091\n",
            "Epoch: 36 | Epoch Time: 0m 6s\n",
            "\tTrain Loss: 0.019 | Train Acc: 99.35% | Train_F10.9511772107502796\n",
            "\t Val. Loss: 0.134 |  Val. Acc: 97.12% | Valid_F10.8661840097069889\n",
            "Epoch: 37 | Epoch Time: 0m 6s\n",
            "\tTrain Loss: 0.019 | Train Acc: 99.37% | Train_F10.9515035397499569\n",
            "\t Val. Loss: 0.134 |  Val. Acc: 97.13% | Valid_F10.8665274190138158\n",
            "Epoch: 38 | Epoch Time: 0m 6s\n",
            "\tTrain Loss: 0.019 | Train Acc: 99.37% | Train_F10.9542146926723822\n",
            "\t Val. Loss: 0.134 |  Val. Acc: 97.12% | Valid_F10.8665362961624541\n",
            "Epoch: 39 | Epoch Time: 0m 6s\n",
            "\tTrain Loss: 0.019 | Train Acc: 99.37% | Train_F10.9574705202083162\n",
            "\t Val. Loss: 0.134 |  Val. Acc: 97.12% | Valid_F10.8687853301274746\n",
            "Epoch: 40 | Epoch Time: 0m 6s\n",
            "\tTrain Loss: 0.019 | Train Acc: 99.34% | Train_F10.9533651777687455\n",
            "\t Val. Loss: 0.135 |  Val. Acc: 97.13% | Valid_F10.869725897896104\n",
            "Epoch: 41 | Epoch Time: 0m 6s\n",
            "\tTrain Loss: 0.019 | Train Acc: 99.36% | Train_F10.9555072567044252\n",
            "\t Val. Loss: 0.134 |  Val. Acc: 97.13% | Valid_F10.8691369267839861\n",
            "Epoch: 42 | Epoch Time: 0m 6s\n",
            "\tTrain Loss: 0.018 | Train Acc: 99.38% | Train_F10.9561017133803408\n",
            "\t Val. Loss: 0.135 |  Val. Acc: 97.13% | Valid_F10.8698448183451842\n",
            "Epoch: 43 | Epoch Time: 0m 6s\n",
            "\tTrain Loss: 0.019 | Train Acc: 99.35% | Train_F10.9538877866870753\n",
            "\t Val. Loss: 0.136 |  Val. Acc: 97.12% | Valid_F10.8702219248576275\n",
            "Epoch: 44 | Epoch Time: 0m 6s\n",
            "\tTrain Loss: 0.018 | Train Acc: 99.38% | Train_F10.9598698012387405\n",
            "\t Val. Loss: 0.136 |  Val. Acc: 97.11% | Valid_F10.8688778114391142\n",
            "Epoch: 45 | Epoch Time: 0m 6s\n",
            "\tTrain Loss: 0.018 | Train Acc: 99.39% | Train_F10.9556044588298999\n",
            "\t Val. Loss: 0.136 |  Val. Acc: 97.12% | Valid_F10.8699407153133986\n",
            "Epoch: 46 | Epoch Time: 0m 6s\n",
            "\tTrain Loss: 0.018 | Train Acc: 99.39% | Train_F10.9545021532916772\n",
            "\t Val. Loss: 0.136 |  Val. Acc: 97.08% | Valid_F10.8675876280049509\n",
            "Epoch: 47 | Epoch Time: 0m 6s\n",
            "\tTrain Loss: 0.017 | Train Acc: 99.40% | Train_F10.9550890334149589\n",
            "\t Val. Loss: 0.136 |  Val. Acc: 97.09% | Valid_F10.8635731263291481\n",
            "Epoch: 48 | Epoch Time: 0m 6s\n",
            "\tTrain Loss: 0.018 | Train Acc: 99.38% | Train_F10.9563561274301396\n",
            "\t Val. Loss: 0.137 |  Val. Acc: 97.10% | Valid_F10.8677718035739626\n",
            "Epoch: 49 | Epoch Time: 0m 6s\n",
            "\tTrain Loss: 0.017 | Train Acc: 99.39% | Train_F10.9589880420459608\n",
            "\t Val. Loss: 0.138 |  Val. Acc: 97.12% | Valid_F10.868298188012533\n",
            "Epoch: 50 | Epoch Time: 0m 6s\n",
            "\tTrain Loss: 0.017 | Train Acc: 99.42% | Train_F10.959147640115055\n",
            "\t Val. Loss: 0.137 |  Val. Acc: 97.10% | Valid_F10.8638936344354982\n",
            "Epoch: 51 | Epoch Time: 0m 6s\n",
            "\tTrain Loss: 0.017 | Train Acc: 99.39% | Train_F10.9544432146152444\n",
            "\t Val. Loss: 0.138 |  Val. Acc: 97.11% | Valid_F10.8641556111051009\n",
            "Epoch: 52 | Epoch Time: 0m 6s\n",
            "\tTrain Loss: 0.017 | Train Acc: 99.41% | Train_F10.9609283915650382\n",
            "\t Val. Loss: 0.138 |  Val. Acc: 97.10% | Valid_F10.8636776639999196\n",
            "Epoch: 53 | Epoch Time: 0m 6s\n",
            "\tTrain Loss: 0.017 | Train Acc: 99.40% | Train_F10.9567368130745346\n",
            "\t Val. Loss: 0.138 |  Val. Acc: 97.08% | Valid_F10.8631425579971365\n",
            "Epoch: 54 | Epoch Time: 0m 6s\n",
            "\tTrain Loss: 0.017 | Train Acc: 99.43% | Train_F10.9596431133426291\n",
            "\t Val. Loss: 0.138 |  Val. Acc: 97.09% | Valid_F10.8630312615960019\n",
            "Epoch: 55 | Epoch Time: 0m 6s\n",
            "\tTrain Loss: 0.017 | Train Acc: 99.41% | Train_F10.9565273636724213\n",
            "\t Val. Loss: 0.140 |  Val. Acc: 97.10% | Valid_F10.8631967420527233\n",
            "Epoch: 56 | Epoch Time: 0m 6s\n",
            "\tTrain Loss: 0.016 | Train Acc: 99.43% | Train_F10.9593825811969056\n",
            "\t Val. Loss: 0.140 |  Val. Acc: 97.10% | Valid_F10.863529437001824\n",
            "Epoch: 57 | Epoch Time: 0m 6s\n",
            "\tTrain Loss: 0.016 | Train Acc: 99.44% | Train_F10.9599008261189558\n",
            "\t Val. Loss: 0.141 |  Val. Acc: 97.12% | Valid_F10.8637710527431463\n",
            "Epoch: 58 | Epoch Time: 0m 6s\n",
            "\tTrain Loss: 0.016 | Train Acc: 99.43% | Train_F10.9578429263518972\n",
            "\t Val. Loss: 0.141 |  Val. Acc: 97.12% | Valid_F10.8651773109222649\n",
            "Epoch: 59 | Epoch Time: 0m 6s\n",
            "\tTrain Loss: 0.016 | Train Acc: 99.44% | Train_F10.9614469259734548\n",
            "\t Val. Loss: 0.141 |  Val. Acc: 97.11% | Valid_F10.864790368868283\n",
            "Epoch: 60 | Epoch Time: 0m 6s\n",
            "\tTrain Loss: 0.016 | Train Acc: 99.43% | Train_F10.9584105203522215\n",
            "\t Val. Loss: 0.141 |  Val. Acc: 97.09% | Valid_F10.8630367850846367\n",
            "Epoch: 61 | Epoch Time: 0m 6s\n",
            "\tTrain Loss: 0.017 | Train Acc: 99.42% | Train_F10.9571552397071631\n",
            "\t Val. Loss: 0.140 |  Val. Acc: 97.10% | Valid_F10.8638892565270578\n",
            "Epoch: 62 | Epoch Time: 0m 6s\n",
            "\tTrain Loss: 0.016 | Train Acc: 99.43% | Train_F10.961376876984343\n",
            "\t Val. Loss: 0.142 |  Val. Acc: 97.11% | Valid_F10.8641880287919543\n",
            "Epoch: 63 | Epoch Time: 0m 6s\n",
            "\tTrain Loss: 0.016 | Train Acc: 99.45% | Train_F10.9605089317850444\n",
            "\t Val. Loss: 0.141 |  Val. Acc: 97.11% | Valid_F10.8635483335998845\n",
            "Epoch: 64 | Epoch Time: 0m 6s\n",
            "\tTrain Loss: 0.016 | Train Acc: 99.45% | Train_F10.9595751799757046\n",
            "\t Val. Loss: 0.142 |  Val. Acc: 97.11% | Valid_F10.8639625885249255\n",
            "Epoch: 65 | Epoch Time: 0m 6s\n",
            "\tTrain Loss: 0.015 | Train Acc: 99.47% | Train_F10.9603869280882216\n",
            "\t Val. Loss: 0.144 |  Val. Acc: 97.14% | Valid_F10.8651964332767644\n",
            "Epoch: 66 | Epoch Time: 0m 6s\n",
            "\tTrain Loss: 0.016 | Train Acc: 99.43% | Train_F10.9622028274923751\n",
            "\t Val. Loss: 0.143 |  Val. Acc: 97.10% | Valid_F10.8632488003095347\n",
            "Epoch: 67 | Epoch Time: 0m 6s\n",
            "\tTrain Loss: 0.016 | Train Acc: 99.43% | Train_F10.9614240923742748\n",
            "\t Val. Loss: 0.143 |  Val. Acc: 97.10% | Valid_F10.8639659576735602\n",
            "Epoch: 68 | Epoch Time: 0m 6s\n",
            "\tTrain Loss: 0.016 | Train Acc: 99.44% | Train_F10.9638869772145541\n",
            "\t Val. Loss: 0.143 |  Val. Acc: 97.11% | Valid_F10.8650731395047947\n",
            "Epoch: 69 | Epoch Time: 0m 6s\n",
            "\tTrain Loss: 0.015 | Train Acc: 99.46% | Train_F10.9598849603673204\n",
            "\t Val. Loss: 0.143 |  Val. Acc: 97.09% | Valid_F10.8637868685121876\n",
            "Epoch: 70 | Epoch Time: 0m 6s\n",
            "\tTrain Loss: 0.015 | Train Acc: 99.47% | Train_F10.957886905124558\n",
            "\t Val. Loss: 0.143 |  Val. Acc: 97.11% | Valid_F10.8643834875771698\n",
            "Epoch: 71 | Epoch Time: 0m 6s\n",
            "\tTrain Loss: 0.016 | Train Acc: 99.45% | Train_F10.9606559467374666\n",
            "\t Val. Loss: 0.143 |  Val. Acc: 97.13% | Valid_F10.864030321740601\n",
            "Epoch: 72 | Epoch Time: 0m 6s\n",
            "\tTrain Loss: 0.015 | Train Acc: 99.49% | Train_F10.963859990075974\n",
            "\t Val. Loss: 0.145 |  Val. Acc: 97.13% | Valid_F10.8644145671001386\n",
            "Epoch: 73 | Epoch Time: 0m 6s\n",
            "\tTrain Loss: 0.016 | Train Acc: 99.45% | Train_F10.9613293300602844\n",
            "\t Val. Loss: 0.144 |  Val. Acc: 97.12% | Valid_F10.8645454095659266\n",
            "Epoch: 74 | Epoch Time: 0m 6s\n",
            "\tTrain Loss: 0.015 | Train Acc: 99.46% | Train_F10.9627188793414069\n",
            "\t Val. Loss: 0.144 |  Val. Acc: 97.10% | Valid_F10.8627594026496036\n",
            "Epoch: 75 | Epoch Time: 0m 6s\n",
            "\tTrain Loss: 0.015 | Train Acc: 99.48% | Train_F10.9644128008382701\n",
            "\t Val. Loss: 0.144 |  Val. Acc: 97.11% | Valid_F10.8640113469689683\n",
            "Epoch: 76 | Epoch Time: 0m 6s\n",
            "\tTrain Loss: 0.015 | Train Acc: 99.46% | Train_F10.9638244059321344\n",
            "\t Val. Loss: 0.146 |  Val. Acc: 97.12% | Valid_F10.8641893156414927\n",
            "Epoch: 77 | Epoch Time: 0m 6s\n",
            "\tTrain Loss: 0.015 | Train Acc: 99.48% | Train_F10.9664143008500061\n",
            "\t Val. Loss: 0.146 |  Val. Acc: 97.10% | Valid_F10.8627241454222961\n",
            "Epoch: 78 | Epoch Time: 0m 6s\n",
            "\tTrain Loss: 0.015 | Train Acc: 99.49% | Train_F10.9641814095227758\n",
            "\t Val. Loss: 0.146 |  Val. Acc: 97.11% | Valid_F10.8626277906644608\n",
            "Epoch: 79 | Epoch Time: 0m 6s\n",
            "\tTrain Loss: 0.014 | Train Acc: 99.50% | Train_F10.9676819305454163\n",
            "\t Val. Loss: 0.147 |  Val. Acc: 97.12% | Valid_F10.8637817878986677\n",
            "Epoch: 80 | Epoch Time: 0m 6s\n",
            "\tTrain Loss: 0.015 | Train Acc: 99.48% | Train_F10.9675795253611265\n",
            "\t Val. Loss: 0.147 |  Val. Acc: 97.10% | Valid_F10.8630689385917474\n",
            "Epoch: 81 | Epoch Time: 0m 6s\n",
            "\tTrain Loss: 0.015 | Train Acc: 99.49% | Train_F10.966894563486128\n",
            "\t Val. Loss: 0.147 |  Val. Acc: 97.11% | Valid_F10.8651089558645898\n",
            "Epoch: 82 | Epoch Time: 0m 6s\n",
            "\tTrain Loss: 0.014 | Train Acc: 99.51% | Train_F10.9658220593423239\n",
            "\t Val. Loss: 0.148 |  Val. Acc: 97.14% | Valid_F10.8645678665948726\n",
            "Epoch: 83 | Epoch Time: 0m 6s\n",
            "\tTrain Loss: 0.015 | Train Acc: 99.48% | Train_F10.9652230142690857\n",
            "\t Val. Loss: 0.147 |  Val. Acc: 97.11% | Valid_F10.8635794260791184\n",
            "Epoch: 84 | Epoch Time: 0m 6s\n",
            "\tTrain Loss: 0.015 | Train Acc: 99.47% | Train_F10.9642602203108498\n",
            "\t Val. Loss: 0.148 |  Val. Acc: 97.09% | Valid_F10.86250336346724\n",
            "Epoch: 85 | Epoch Time: 0m 6s\n",
            "\tTrain Loss: 0.014 | Train Acc: 99.49% | Train_F10.9696308748448723\n",
            "\t Val. Loss: 0.148 |  Val. Acc: 97.14% | Valid_F10.8656035597670106\n",
            "Epoch: 86 | Epoch Time: 0m 6s\n",
            "\tTrain Loss: 0.014 | Train Acc: 99.51% | Train_F10.9660195557627744\n",
            "\t Val. Loss: 0.148 |  Val. Acc: 97.09% | Valid_F10.8630895102335222\n",
            "Epoch: 87 | Epoch Time: 0m 6s\n",
            "\tTrain Loss: 0.014 | Train Acc: 99.50% | Train_F10.9646493115248361\n",
            "\t Val. Loss: 0.148 |  Val. Acc: 97.12% | Valid_F10.8639319546484364\n",
            "Epoch: 88 | Epoch Time: 0m 6s\n",
            "\tTrain Loss: 0.014 | Train Acc: 99.51% | Train_F10.962221348574888\n",
            "\t Val. Loss: 0.149 |  Val. Acc: 97.15% | Valid_F10.8652781522980256\n",
            "Epoch: 89 | Epoch Time: 0m 6s\n",
            "\tTrain Loss: 0.014 | Train Acc: 99.51% | Train_F10.9646936900279388\n",
            "\t Val. Loss: 0.149 |  Val. Acc: 97.14% | Valid_F10.8647107402472735\n",
            "Epoch: 90 | Epoch Time: 0m 6s\n",
            "\tTrain Loss: 0.014 | Train Acc: 99.51% | Train_F10.9703494368182707\n",
            "\t Val. Loss: 0.149 |  Val. Acc: 97.12% | Valid_F10.8643385774059148\n",
            "Epoch: 91 | Epoch Time: 0m 6s\n",
            "\tTrain Loss: 0.014 | Train Acc: 99.52% | Train_F10.9677770753172052\n",
            "\t Val. Loss: 0.150 |  Val. Acc: 97.13% | Valid_F10.8645430197226228\n",
            "Epoch: 92 | Epoch Time: 0m 6s\n",
            "\tTrain Loss: 0.014 | Train Acc: 99.53% | Train_F10.9668618500072635\n",
            "\t Val. Loss: 0.150 |  Val. Acc: 97.12% | Valid_F10.8641675139398898\n",
            "Epoch: 93 | Epoch Time: 0m 6s\n",
            "\tTrain Loss: 0.014 | Train Acc: 99.52% | Train_F10.9676497670280542\n",
            "\t Val. Loss: 0.151 |  Val. Acc: 97.15% | Valid_F10.8647776051140508\n",
            "Epoch: 94 | Epoch Time: 0m 6s\n",
            "\tTrain Loss: 0.014 | Train Acc: 99.52% | Train_F10.9658034798901093\n",
            "\t Val. Loss: 0.150 |  Val. Acc: 97.12% | Valid_F10.8638150459982217\n",
            "Epoch: 95 | Epoch Time: 0m 6s\n",
            "\tTrain Loss: 0.014 | Train Acc: 99.51% | Train_F10.9641735743153188\n",
            "\t Val. Loss: 0.151 |  Val. Acc: 97.11% | Valid_F10.8640698293596959\n",
            "Epoch: 96 | Epoch Time: 0m 6s\n",
            "\tTrain Loss: 0.013 | Train Acc: 99.51% | Train_F10.9638651774006001\n",
            "\t Val. Loss: 0.151 |  Val. Acc: 97.12% | Valid_F10.8648715958423556\n",
            "Epoch: 97 | Epoch Time: 0m 6s\n",
            "\tTrain Loss: 0.014 | Train Acc: 99.51% | Train_F10.9666284604645773\n",
            "\t Val. Loss: 0.151 |  Val. Acc: 97.10% | Valid_F10.8638732377352267\n",
            "Epoch: 98 | Epoch Time: 0m 6s\n",
            "\tTrain Loss: 0.013 | Train Acc: 99.55% | Train_F10.9667561980634856\n",
            "\t Val. Loss: 0.152 |  Val. Acc: 97.14% | Valid_F10.8655043075610664\n",
            "Epoch: 99 | Epoch Time: 0m 6s\n",
            "\tTrain Loss: 0.013 | Train Acc: 99.53% | Train_F10.9705173155717776\n",
            "\t Val. Loss: 0.152 |  Val. Acc: 97.13% | Valid_F10.8646265090893763\n",
            "Epoch: 100 | Epoch Time: 0m 6s\n",
            "\tTrain Loss: 0.014 | Train Acc: 99.53% | Train_F10.9671868612095623\n",
            "\t Val. Loss: 0.151 |  Val. Acc: 97.10% | Valid_F10.8641315939902947\n"
          ],
          "name": "stdout"
        }
      ]
    },
    {
      "cell_type": "code",
      "metadata": {
        "id": "EnbNBGFoteFX",
        "colab_type": "code",
        "colab": {
          "base_uri": "https://localhost:8080/",
          "height": 34
        },
        "outputId": "bf196d3d-d41d-400e-8a40-7e779eefc17e"
      },
      "source": [
        "model.load_state_dict(torch.load('tut1-model.pt'))\n",
        "\n",
        "test_loss, test_acc,test_f1 = evaluate(model, test_iter, criterion, TAG_PAD_IDX)\n",
        "\n",
        "print(f'Test Loss: {test_loss:.3f} |  Test Acc: {test_acc*100:.2f}% | Test_F1{test_f1}')"
      ],
      "execution_count": 135,
      "outputs": [
        {
          "output_type": "stream",
          "text": [
            "Test Loss: 0.241 |  Test Acc: 94.54% | Test_F10.7548314286647613\n"
          ],
          "name": "stdout"
        }
      ]
    },
    {
      "cell_type": "code",
      "metadata": {
        "id": "J9kf6M7PteCC",
        "colab_type": "code",
        "colab": {}
      },
      "source": [
        ""
      ],
      "execution_count": 0,
      "outputs": []
    },
    {
      "cell_type": "code",
      "metadata": {
        "id": "IaMRwC5MX0Y1",
        "colab_type": "code",
        "colab": {}
      },
      "source": [
        "def tag_sentence(model, device, sentence, text_field, tag_field):\n",
        "    \n",
        "    model.eval()\n",
        "    \n",
        "    if isinstance(sentence, str):\n",
        "        nlp = spacy.load('en')\n",
        "        tokens = [token.text for token in nlp(sentence)]\n",
        "    else:\n",
        "        tokens = [token for token in sentence]\n",
        "\n",
        "    if text_field.lower:\n",
        "        tokens = [t.lower() for t in tokens]\n",
        "        \n",
        "    numericalized_tokens = [text_field.vocab.stoi[t] for t in tokens]\n",
        "\n",
        "    unk_idx = text_field.vocab.stoi[text_field.unk_token]\n",
        "    \n",
        "    unks = [t for t, n in zip(tokens, numericalized_tokens) if n == unk_idx]\n",
        "    \n",
        "    token_tensor = torch.LongTensor(numericalized_tokens)\n",
        "    \n",
        "    token_tensor = token_tensor.unsqueeze(-1).to(device)\n",
        "         \n",
        "    predictions = model(token_tensor)\n",
        "    \n",
        "    top_predictions = predictions.argmax(-1)\n",
        "    \n",
        "    predicted_tags = [tag_field.vocab.itos[t.item()] for t in top_predictions]\n",
        "    \n",
        "    return tokens, predicted_tags, unks"
      ],
      "execution_count": 0,
      "outputs": []
    },
    {
      "cell_type": "code",
      "metadata": {
        "id": "johHmAKHX0Y3",
        "colab_type": "code",
        "outputId": "ac7c3208-b3dc-48ca-921c-fef8e54f3dde",
        "colab": {
          "base_uri": "https://localhost:8080/",
          "height": 34
        }
      },
      "source": [
        "example_index = 1\n",
        "\n",
        "sentence = 'The Queen will deliver a speech about the conflict in North Korea at 1pm tomorrow.'\n",
        "\n",
        "\n",
        "print(sentence)"
      ],
      "execution_count": 41,
      "outputs": [
        {
          "output_type": "stream",
          "text": [
            "The Queen will deliver a speech about the conflict in North Korea at 1pm tomorrow.\n"
          ],
          "name": "stdout"
        }
      ]
    },
    {
      "cell_type": "code",
      "metadata": {
        "id": "-TlCvtpYX0Y6",
        "colab_type": "code",
        "outputId": "6f4181a7-05b3-451d-a056-fc7162d09b57",
        "colab": {
          "base_uri": "https://localhost:8080/",
          "height": 52
        }
      },
      "source": [
        "import spacy\n",
        "tokens, pred_tags, unks = tag_sentence(model, \n",
        "                                       device, \n",
        "                                       sentence, \n",
        "                                       input_field, \n",
        "                                       label_field)\n",
        "\n",
        "print(pred_tags)\n",
        "print(tokens)"
      ],
      "execution_count": 47,
      "outputs": [
        {
          "output_type": "stream",
          "text": [
            "['O', 'O', 'O', 'O', 'O', 'O', 'O', 'O', 'O', 'O', 'O', 'I-LOC', 'O', 'O', 'O', 'O', 'O']\n",
            "['the', 'queen', 'will', 'deliver', 'a', 'speech', 'about', 'the', 'conflict', 'in', 'north', 'korea', 'at', '1', 'pm', 'tomorrow', '.']\n"
          ],
          "name": "stdout"
        }
      ]
    },
    {
      "cell_type": "code",
      "metadata": {
        "id": "U1UqTJhnX0Y9",
        "colab_type": "code",
        "outputId": "f7b770c3-a59a-46bc-eae8-6761c05b7d29",
        "colab": {}
      },
      "source": [
        "print(\"Pred. Tag\\tActual Tag\\tCorrect?\\tToken\\n\")\n",
        "\n",
        "for token, pred_tag, actual_tag in zip(tokens, pred_tags, actual_tags):\n",
        "    correct = '✔' if pred_tag == actual_tag else '✘'\n",
        "    print(f\"{pred_tag}\\t\\t{actual_tag}\\t\\t{correct}\\t\\t{token}\")"
      ],
      "execution_count": 0,
      "outputs": [
        {
          "output_type": "stream",
          "text": [
            "Pred. Tag\tActual Tag\tCorrect?\tToken\n",
            "\n",
            "PUNCT\t\tPUNCT\t\t✔\t\t[\n",
            "DET\t\tDET\t\t✔\t\tthis\n",
            "NOUN\t\tNOUN\t\t✔\t\tkilling\n",
            "ADP\t\tADP\t\t✔\t\tof\n",
            "DET\t\tDET\t\t✔\t\ta\n",
            "ADJ\t\tADJ\t\t✔\t\trespected\n",
            "NOUN\t\tNOUN\t\t✔\t\tcleric\n",
            "AUX\t\tAUX\t\t✔\t\twill\n",
            "AUX\t\tAUX\t\t✔\t\tbe\n",
            "VERB\t\tVERB\t\t✔\t\tcausing\n",
            "PRON\t\tPRON\t\t✔\t\tus\n",
            "NOUN\t\tNOUN\t\t✔\t\ttrouble\n",
            "ADP\t\tADP\t\t✔\t\tfor\n",
            "NOUN\t\tNOUN\t\t✔\t\tyears\n",
            "PART\t\tPART\t\t✔\t\tto\n",
            "VERB\t\tVERB\t\t✔\t\tcome\n",
            "PUNCT\t\tPUNCT\t\t✔\t\t.\n",
            "PUNCT\t\tPUNCT\t\t✔\t\t]\n"
          ],
          "name": "stdout"
        }
      ]
    },
    {
      "cell_type": "code",
      "metadata": {
        "id": "NOQBmbWLX0Y_",
        "colab_type": "code",
        "outputId": "cdebf044-42f1-4713-b8f2-b2b781bf41bb",
        "colab": {}
      },
      "source": [
        "sentence = 'The Queen will deliver a speech about the conflict in North Korea at 1pm tomorrow.'\n",
        "\n",
        "tokens, tags, unks = tag_sentence(model, \n",
        "                                  device, \n",
        "                                  sentence, \n",
        "                                  TEXT, \n",
        "                                  UD_TAGS)\n",
        "\n",
        "print(unks)"
      ],
      "execution_count": 0,
      "outputs": [
        {
          "output_type": "stream",
          "text": [
            "[]\n"
          ],
          "name": "stdout"
        }
      ]
    },
    {
      "cell_type": "code",
      "metadata": {
        "id": "wu9_5I4CX0ZC",
        "colab_type": "code",
        "outputId": "37486a25-fd87-4d9a-9f1f-0e72aefef369",
        "colab": {}
      },
      "source": [
        "print(\"Pred. Tag\\tToken\\n\")\n",
        "\n",
        "for token, tag in zip(tokens, tags):\n",
        "    print(f\"{tag}\\t\\t{token}\")"
      ],
      "execution_count": 0,
      "outputs": [
        {
          "output_type": "stream",
          "text": [
            "Pred. Tag\tToken\n",
            "\n",
            "DET\t\tthe\n",
            "NOUN\t\tqueen\n",
            "AUX\t\twill\n",
            "VERB\t\tdeliver\n",
            "DET\t\ta\n",
            "NOUN\t\tspeech\n",
            "ADP\t\tabout\n",
            "DET\t\tthe\n",
            "NOUN\t\tconflict\n",
            "ADP\t\tin\n",
            "PROPN\t\tnorth\n",
            "PROPN\t\tkorea\n",
            "ADP\t\tat\n",
            "NUM\t\t1\n",
            "NOUN\t\tpm\n",
            "NOUN\t\ttomorrow\n",
            "PUNCT\t\t.\n"
          ],
          "name": "stdout"
        }
      ]
    },
    {
      "cell_type": "code",
      "metadata": {
        "id": "3bBXEUhYtd_X",
        "colab_type": "code",
        "colab": {}
      },
      "source": [
        ""
      ],
      "execution_count": 0,
      "outputs": []
    },
    {
      "cell_type": "code",
      "metadata": {
        "id": "yep9Q0Zgtd8Y",
        "colab_type": "code",
        "colab": {}
      },
      "source": [
        ""
      ],
      "execution_count": 0,
      "outputs": []
    },
    {
      "cell_type": "code",
      "metadata": {
        "id": "1HSUqqwMtd3F",
        "colab_type": "code",
        "colab": {}
      },
      "source": [
        ""
      ],
      "execution_count": 0,
      "outputs": []
    },
    {
      "cell_type": "code",
      "metadata": {
        "id": "HneFG4BRtdzm",
        "colab_type": "code",
        "colab": {}
      },
      "source": [
        ""
      ],
      "execution_count": 0,
      "outputs": []
    },
    {
      "cell_type": "code",
      "metadata": {
        "id": "uFytRdKrUwHO",
        "colab_type": "code",
        "colab": {}
      },
      "source": [
        "device = torch.device(\"cpu\")\n",
        "def loss_fn(outputs, labels):\n",
        "  TAG_PAD_IDX =text_vocab.stoi[input_field.pad_token]\n",
        "  criterion = nn.CrossEntropyLoss(ignore_index = TAG_PAD_IDX)\n",
        "  criterion = criterion.to(device)\n",
        "  scores = criterion(outputs, labels)\n",
        "  return scores\n",
        "\n",
        "def clip_gradient(model, clip_value):\n",
        "    params = list(filter(lambda p: p.grad is not None, model.parameters()))\n",
        "    for p in params:\n",
        "        p.grad.data.clamp_(-clip_value, clip_value)\n",
        "    \n",
        "def train_model(model, train_iter, epoch):\n",
        "    total_epoch_loss = 0\n",
        "    total_epoch_acc = 0\n",
        "    model.to(device)\n",
        "    \n",
        "    optim = torch.optim.Adam(filter(lambda p: p.requires_grad, model.parameters()))\n",
        "    steps = 0\n",
        "    model.train()\n",
        "    for idx, batch in enumerate(train_iter):\n",
        "        text = batch.inputs_word\n",
        "       \n",
        "        target = batch.labels\n",
        "        target = torch.autograd.Variable(target).long()\n",
        "        if torch.cuda.is_available():\n",
        "            text = text.to(device)\n",
        "            target = target.to(device)\n",
        "        if (text.size()[0] is not 64):# One of the batch returned by BucketIterator has length different than 32.\n",
        "            continue\n",
        "        optim.zero_grad()\n",
        "        prediction = model(text)\n",
        "        loss = loss_fn(prediction, target)\n",
        "        num_corrects = (torch.max(prediction, 1)[1].view(target.size()).data == target.data).float().sum()\n",
        "        acc = 100.0 * num_corrects/len(batch)\n",
        "        loss.backward()\n",
        "        clip_gradient(model, 1e-1)\n",
        "        optim.step()\n",
        "        steps += 1\n",
        "        \n",
        "        if steps % 100 == 0:\n",
        "            print (f'Epoch: {epoch+1}, Idx: {idx+1}, Training Loss: {loss.item():.4f}, Training Accuracy: {acc.item(): .2f}%')\n",
        "        \n",
        "        total_epoch_loss += loss.item()\n",
        "        total_epoch_acc += acc.item()\n",
        "        \n",
        "    return total_epoch_loss/len(train_iter), total_epoch_acc/len(train_iter)\n",
        "\n",
        "def eval_model(model, val_iter):\n",
        "    total_epoch_loss = 0\n",
        "    total_epoch_acc = 0\n",
        "    model.eval()\n",
        "    with torch.no_grad():\n",
        "        for idx, batch in enumerate(val_iter):\n",
        "            text = batch.inputs_word\n",
        "            if (text.size()[0] is not 64):\n",
        "                continue\n",
        "            target = batch.labels\n",
        "            target = torch.autograd.Variable(target).long()\n",
        "            if torch.cuda.is_available():\n",
        "                text = text.cuda()\n",
        "                target = target.cuda()\n",
        "            predictions = model(text)\n",
        "\n",
        "            predictions = predictions.view(-1, predictions.shape[-1])\n",
        "            target = target.view(-1)\n",
        "            \n",
        "            loss = loss_fn(predictions, target)\n",
        "            num_corrects = (torch.max(predictions, 1)[1].view(target.size()).data == target.data).sum()\n",
        "            acc = 100.0 * num_corrects/len(batch)\n",
        "            total_epoch_loss += loss.item()\n",
        "            total_epoch_acc += acc.item()\n",
        "\n",
        "    return total_epoch_loss/len(val_iter), total_epoch_acc/len(val_iter)\n",
        "\t\n",
        "\n"
      ],
      "execution_count": 0,
      "outputs": []
    },
    {
      "cell_type": "code",
      "metadata": {
        "id": "USEclqAO6Xo4",
        "colab_type": "code",
        "outputId": "60a85f29-ab42-4ec6-9315-2967d75125dd",
        "colab": {
          "base_uri": "https://localhost:8080/",
          "height": 430
        }
      },
      "source": [
        "learning_rate = 2e-5\n",
        "batch_size = 64\n",
        "\n",
        "\n",
        "for epoch in range(10):\n",
        "    train_loss, train_acc = train_model(model, train_iter, epoch)\n",
        "    val_loss, val_acc = eval_model(model, valid_iter)\n",
        "    \n",
        "    print(f'Epoch: {epoch+1:02}, Train Loss: {train_loss:.3f}, Train Acc: {train_acc:.2f}%, Val. Loss: {val_loss:3f}, Val. Acc: {val_acc:.2f}%')\n",
        "    \n",
        "test_loss, test_acc = eval_model(model, test_iter)\n",
        "print(f'Test Loss: {test_loss:.3f}, Test Acc: {test_acc:.2f}%')"
      ],
      "execution_count": 87,
      "outputs": [
        {
          "output_type": "stream",
          "text": [
            "Epoch: 01, Train Loss: 0.000, Train Acc: 0.00%, Val. Loss: 0.000000, Val. Acc: 0.00%\n",
            "Epoch: 02, Train Loss: 0.000, Train Acc: 0.00%, Val. Loss: 0.000000, Val. Acc: 0.00%\n",
            "Epoch: 03, Train Loss: 0.000, Train Acc: 0.00%, Val. Loss: 0.000000, Val. Acc: 0.00%\n"
          ],
          "name": "stdout"
        },
        {
          "output_type": "error",
          "ename": "KeyboardInterrupt",
          "evalue": "ignored",
          "traceback": [
            "\u001b[0;31m---------------------------------------------------------------------------\u001b[0m",
            "\u001b[0;31mKeyboardInterrupt\u001b[0m                         Traceback (most recent call last)",
            "\u001b[0;32m<ipython-input-87-6644f8df5110>\u001b[0m in \u001b[0;36m<module>\u001b[0;34m()\u001b[0m\n\u001b[1;32m      4\u001b[0m \u001b[0;34m\u001b[0m\u001b[0m\n\u001b[1;32m      5\u001b[0m \u001b[0;32mfor\u001b[0m \u001b[0mepoch\u001b[0m \u001b[0;32min\u001b[0m \u001b[0mrange\u001b[0m\u001b[0;34m(\u001b[0m\u001b[0;36m10\u001b[0m\u001b[0;34m)\u001b[0m\u001b[0;34m:\u001b[0m\u001b[0;34m\u001b[0m\u001b[0;34m\u001b[0m\u001b[0m\n\u001b[0;32m----> 6\u001b[0;31m     \u001b[0mtrain_loss\u001b[0m\u001b[0;34m,\u001b[0m \u001b[0mtrain_acc\u001b[0m \u001b[0;34m=\u001b[0m \u001b[0mtrain_model\u001b[0m\u001b[0;34m(\u001b[0m\u001b[0mmodel\u001b[0m\u001b[0;34m,\u001b[0m \u001b[0mtrain_iter\u001b[0m\u001b[0;34m,\u001b[0m \u001b[0mepoch\u001b[0m\u001b[0;34m)\u001b[0m\u001b[0;34m\u001b[0m\u001b[0;34m\u001b[0m\u001b[0m\n\u001b[0m\u001b[1;32m      7\u001b[0m     \u001b[0mval_loss\u001b[0m\u001b[0;34m,\u001b[0m \u001b[0mval_acc\u001b[0m \u001b[0;34m=\u001b[0m \u001b[0meval_model\u001b[0m\u001b[0;34m(\u001b[0m\u001b[0mmodel\u001b[0m\u001b[0;34m,\u001b[0m \u001b[0mvalid_iter\u001b[0m\u001b[0;34m)\u001b[0m\u001b[0;34m\u001b[0m\u001b[0;34m\u001b[0m\u001b[0m\n\u001b[1;32m      8\u001b[0m \u001b[0;34m\u001b[0m\u001b[0m\n",
            "\u001b[0;32m<ipython-input-86-313cefe7a521>\u001b[0m in \u001b[0;36mtrain_model\u001b[0;34m(model, train_iter, epoch)\u001b[0m\n\u001b[1;32m     20\u001b[0m     \u001b[0msteps\u001b[0m \u001b[0;34m=\u001b[0m \u001b[0;36m0\u001b[0m\u001b[0;34m\u001b[0m\u001b[0;34m\u001b[0m\u001b[0m\n\u001b[1;32m     21\u001b[0m     \u001b[0mmodel\u001b[0m\u001b[0;34m.\u001b[0m\u001b[0mtrain\u001b[0m\u001b[0;34m(\u001b[0m\u001b[0;34m)\u001b[0m\u001b[0;34m\u001b[0m\u001b[0;34m\u001b[0m\u001b[0m\n\u001b[0;32m---> 22\u001b[0;31m     \u001b[0;32mfor\u001b[0m \u001b[0midx\u001b[0m\u001b[0;34m,\u001b[0m \u001b[0mbatch\u001b[0m \u001b[0;32min\u001b[0m \u001b[0menumerate\u001b[0m\u001b[0;34m(\u001b[0m\u001b[0mtrain_iter\u001b[0m\u001b[0;34m)\u001b[0m\u001b[0;34m:\u001b[0m\u001b[0;34m\u001b[0m\u001b[0;34m\u001b[0m\u001b[0m\n\u001b[0m\u001b[1;32m     23\u001b[0m         \u001b[0mtext\u001b[0m \u001b[0;34m=\u001b[0m \u001b[0mbatch\u001b[0m\u001b[0;34m.\u001b[0m\u001b[0minputs_word\u001b[0m\u001b[0;34m\u001b[0m\u001b[0;34m\u001b[0m\u001b[0m\n\u001b[1;32m     24\u001b[0m \u001b[0;34m\u001b[0m\u001b[0m\n",
            "\u001b[0;32m/usr/local/lib/python3.6/dist-packages/torchtext/data/iterator.py\u001b[0m in \u001b[0;36m__iter__\u001b[0;34m(self)\u001b[0m\n\u001b[1;32m    155\u001b[0m                     \u001b[0;32melse\u001b[0m\u001b[0;34m:\u001b[0m\u001b[0;34m\u001b[0m\u001b[0;34m\u001b[0m\u001b[0m\n\u001b[1;32m    156\u001b[0m                         \u001b[0mminibatch\u001b[0m\u001b[0;34m.\u001b[0m\u001b[0msort\u001b[0m\u001b[0;34m(\u001b[0m\u001b[0mkey\u001b[0m\u001b[0;34m=\u001b[0m\u001b[0mself\u001b[0m\u001b[0;34m.\u001b[0m\u001b[0msort_key\u001b[0m\u001b[0;34m,\u001b[0m \u001b[0mreverse\u001b[0m\u001b[0;34m=\u001b[0m\u001b[0;32mTrue\u001b[0m\u001b[0;34m)\u001b[0m\u001b[0;34m\u001b[0m\u001b[0;34m\u001b[0m\u001b[0m\n\u001b[0;32m--> 157\u001b[0;31m                 \u001b[0;32myield\u001b[0m \u001b[0mBatch\u001b[0m\u001b[0;34m(\u001b[0m\u001b[0mminibatch\u001b[0m\u001b[0;34m,\u001b[0m \u001b[0mself\u001b[0m\u001b[0;34m.\u001b[0m\u001b[0mdataset\u001b[0m\u001b[0;34m,\u001b[0m \u001b[0mself\u001b[0m\u001b[0;34m.\u001b[0m\u001b[0mdevice\u001b[0m\u001b[0;34m)\u001b[0m\u001b[0;34m\u001b[0m\u001b[0;34m\u001b[0m\u001b[0m\n\u001b[0m\u001b[1;32m    158\u001b[0m             \u001b[0;32mif\u001b[0m \u001b[0;32mnot\u001b[0m \u001b[0mself\u001b[0m\u001b[0;34m.\u001b[0m\u001b[0mrepeat\u001b[0m\u001b[0;34m:\u001b[0m\u001b[0;34m\u001b[0m\u001b[0;34m\u001b[0m\u001b[0m\n\u001b[1;32m    159\u001b[0m                 \u001b[0;32mreturn\u001b[0m\u001b[0;34m\u001b[0m\u001b[0;34m\u001b[0m\u001b[0m\n",
            "\u001b[0;32m/usr/local/lib/python3.6/dist-packages/torchtext/data/batch.py\u001b[0m in \u001b[0;36m__init__\u001b[0;34m(self, data, dataset, device)\u001b[0m\n\u001b[1;32m     32\u001b[0m                 \u001b[0;32mif\u001b[0m \u001b[0mfield\u001b[0m \u001b[0;32mis\u001b[0m \u001b[0;32mnot\u001b[0m \u001b[0;32mNone\u001b[0m\u001b[0;34m:\u001b[0m\u001b[0;34m\u001b[0m\u001b[0;34m\u001b[0m\u001b[0m\n\u001b[1;32m     33\u001b[0m                     \u001b[0mbatch\u001b[0m \u001b[0;34m=\u001b[0m \u001b[0;34m[\u001b[0m\u001b[0mgetattr\u001b[0m\u001b[0;34m(\u001b[0m\u001b[0mx\u001b[0m\u001b[0;34m,\u001b[0m \u001b[0mname\u001b[0m\u001b[0;34m)\u001b[0m \u001b[0;32mfor\u001b[0m \u001b[0mx\u001b[0m \u001b[0;32min\u001b[0m \u001b[0mdata\u001b[0m\u001b[0;34m]\u001b[0m\u001b[0;34m\u001b[0m\u001b[0;34m\u001b[0m\u001b[0m\n\u001b[0;32m---> 34\u001b[0;31m                     \u001b[0msetattr\u001b[0m\u001b[0;34m(\u001b[0m\u001b[0mself\u001b[0m\u001b[0;34m,\u001b[0m \u001b[0mname\u001b[0m\u001b[0;34m,\u001b[0m \u001b[0mfield\u001b[0m\u001b[0;34m.\u001b[0m\u001b[0mprocess\u001b[0m\u001b[0;34m(\u001b[0m\u001b[0mbatch\u001b[0m\u001b[0;34m,\u001b[0m \u001b[0mdevice\u001b[0m\u001b[0;34m=\u001b[0m\u001b[0mdevice\u001b[0m\u001b[0;34m)\u001b[0m\u001b[0;34m)\u001b[0m\u001b[0;34m\u001b[0m\u001b[0;34m\u001b[0m\u001b[0m\n\u001b[0m\u001b[1;32m     35\u001b[0m \u001b[0;34m\u001b[0m\u001b[0m\n\u001b[1;32m     36\u001b[0m     \u001b[0;34m@\u001b[0m\u001b[0mclassmethod\u001b[0m\u001b[0;34m\u001b[0m\u001b[0;34m\u001b[0m\u001b[0m\n",
            "\u001b[0;32m/usr/local/lib/python3.6/dist-packages/torchtext/data/field.py\u001b[0m in \u001b[0;36mprocess\u001b[0;34m(self, batch, device)\u001b[0m\n\u001b[1;32m    198\u001b[0m             \u001b[0;32mand\u001b[0m \u001b[0mcustom\u001b[0m \u001b[0mpostprocessing\u001b[0m \u001b[0mPipeline\u001b[0m\u001b[0;34m.\u001b[0m\u001b[0;34m\u001b[0m\u001b[0;34m\u001b[0m\u001b[0m\n\u001b[1;32m    199\u001b[0m         \"\"\"\n\u001b[0;32m--> 200\u001b[0;31m         \u001b[0mpadded\u001b[0m \u001b[0;34m=\u001b[0m \u001b[0mself\u001b[0m\u001b[0;34m.\u001b[0m\u001b[0mpad\u001b[0m\u001b[0;34m(\u001b[0m\u001b[0mbatch\u001b[0m\u001b[0;34m)\u001b[0m\u001b[0;34m\u001b[0m\u001b[0;34m\u001b[0m\u001b[0m\n\u001b[0m\u001b[1;32m    201\u001b[0m         \u001b[0mtensor\u001b[0m \u001b[0;34m=\u001b[0m \u001b[0mself\u001b[0m\u001b[0;34m.\u001b[0m\u001b[0mnumericalize\u001b[0m\u001b[0;34m(\u001b[0m\u001b[0mpadded\u001b[0m\u001b[0;34m,\u001b[0m \u001b[0mdevice\u001b[0m\u001b[0;34m=\u001b[0m\u001b[0mdevice\u001b[0m\u001b[0;34m)\u001b[0m\u001b[0;34m\u001b[0m\u001b[0;34m\u001b[0m\u001b[0m\n\u001b[1;32m    202\u001b[0m         \u001b[0;32mreturn\u001b[0m \u001b[0mtensor\u001b[0m\u001b[0;34m\u001b[0m\u001b[0;34m\u001b[0m\u001b[0m\n",
            "\u001b[0;32m/usr/local/lib/python3.6/dist-packages/torchtext/data/field.py\u001b[0m in \u001b[0;36mpad\u001b[0;34m(self, minibatch)\u001b[0m\n\u001b[1;32m    572\u001b[0m         \u001b[0mself\u001b[0m\u001b[0;34m.\u001b[0m\u001b[0mnesting_field\u001b[0m\u001b[0;34m.\u001b[0m\u001b[0minclude_lengths\u001b[0m \u001b[0;34m=\u001b[0m \u001b[0;32mTrue\u001b[0m\u001b[0;34m\u001b[0m\u001b[0;34m\u001b[0m\u001b[0m\n\u001b[1;32m    573\u001b[0m         \u001b[0mpadded\u001b[0m\u001b[0;34m,\u001b[0m \u001b[0msentence_lengths\u001b[0m \u001b[0;34m=\u001b[0m \u001b[0msuper\u001b[0m\u001b[0;34m(\u001b[0m\u001b[0mNestedField\u001b[0m\u001b[0;34m,\u001b[0m \u001b[0mself\u001b[0m\u001b[0;34m)\u001b[0m\u001b[0;34m.\u001b[0m\u001b[0mpad\u001b[0m\u001b[0;34m(\u001b[0m\u001b[0mminibatch\u001b[0m\u001b[0;34m)\u001b[0m\u001b[0;34m\u001b[0m\u001b[0;34m\u001b[0m\u001b[0m\n\u001b[0;32m--> 574\u001b[0;31m         \u001b[0mpadded_with_lengths\u001b[0m \u001b[0;34m=\u001b[0m \u001b[0;34m[\u001b[0m\u001b[0mself\u001b[0m\u001b[0;34m.\u001b[0m\u001b[0mnesting_field\u001b[0m\u001b[0;34m.\u001b[0m\u001b[0mpad\u001b[0m\u001b[0;34m(\u001b[0m\u001b[0mex\u001b[0m\u001b[0;34m)\u001b[0m \u001b[0;32mfor\u001b[0m \u001b[0mex\u001b[0m \u001b[0;32min\u001b[0m \u001b[0mpadded\u001b[0m\u001b[0;34m]\u001b[0m\u001b[0;34m\u001b[0m\u001b[0;34m\u001b[0m\u001b[0m\n\u001b[0m\u001b[1;32m    575\u001b[0m         \u001b[0mword_lengths\u001b[0m \u001b[0;34m=\u001b[0m \u001b[0;34m[\u001b[0m\u001b[0;34m]\u001b[0m\u001b[0;34m\u001b[0m\u001b[0;34m\u001b[0m\u001b[0m\n\u001b[1;32m    576\u001b[0m         \u001b[0mfinal_padded\u001b[0m \u001b[0;34m=\u001b[0m \u001b[0;34m[\u001b[0m\u001b[0;34m]\u001b[0m\u001b[0;34m\u001b[0m\u001b[0;34m\u001b[0m\u001b[0m\n",
            "\u001b[0;32m/usr/local/lib/python3.6/dist-packages/torchtext/data/field.py\u001b[0m in \u001b[0;36m<listcomp>\u001b[0;34m(.0)\u001b[0m\n\u001b[1;32m    572\u001b[0m         \u001b[0mself\u001b[0m\u001b[0;34m.\u001b[0m\u001b[0mnesting_field\u001b[0m\u001b[0;34m.\u001b[0m\u001b[0minclude_lengths\u001b[0m \u001b[0;34m=\u001b[0m \u001b[0;32mTrue\u001b[0m\u001b[0;34m\u001b[0m\u001b[0;34m\u001b[0m\u001b[0m\n\u001b[1;32m    573\u001b[0m         \u001b[0mpadded\u001b[0m\u001b[0;34m,\u001b[0m \u001b[0msentence_lengths\u001b[0m \u001b[0;34m=\u001b[0m \u001b[0msuper\u001b[0m\u001b[0;34m(\u001b[0m\u001b[0mNestedField\u001b[0m\u001b[0;34m,\u001b[0m \u001b[0mself\u001b[0m\u001b[0;34m)\u001b[0m\u001b[0;34m.\u001b[0m\u001b[0mpad\u001b[0m\u001b[0;34m(\u001b[0m\u001b[0mminibatch\u001b[0m\u001b[0;34m)\u001b[0m\u001b[0;34m\u001b[0m\u001b[0;34m\u001b[0m\u001b[0m\n\u001b[0;32m--> 574\u001b[0;31m         \u001b[0mpadded_with_lengths\u001b[0m \u001b[0;34m=\u001b[0m \u001b[0;34m[\u001b[0m\u001b[0mself\u001b[0m\u001b[0;34m.\u001b[0m\u001b[0mnesting_field\u001b[0m\u001b[0;34m.\u001b[0m\u001b[0mpad\u001b[0m\u001b[0;34m(\u001b[0m\u001b[0mex\u001b[0m\u001b[0;34m)\u001b[0m \u001b[0;32mfor\u001b[0m \u001b[0mex\u001b[0m \u001b[0;32min\u001b[0m \u001b[0mpadded\u001b[0m\u001b[0;34m]\u001b[0m\u001b[0;34m\u001b[0m\u001b[0;34m\u001b[0m\u001b[0m\n\u001b[0m\u001b[1;32m    575\u001b[0m         \u001b[0mword_lengths\u001b[0m \u001b[0;34m=\u001b[0m \u001b[0;34m[\u001b[0m\u001b[0;34m]\u001b[0m\u001b[0;34m\u001b[0m\u001b[0;34m\u001b[0m\u001b[0m\n\u001b[1;32m    576\u001b[0m         \u001b[0mfinal_padded\u001b[0m \u001b[0;34m=\u001b[0m \u001b[0;34m[\u001b[0m\u001b[0;34m]\u001b[0m\u001b[0;34m\u001b[0m\u001b[0;34m\u001b[0m\u001b[0m\n",
            "\u001b[0;32m/usr/local/lib/python3.6/dist-packages/torchtext/data/field.py\u001b[0m in \u001b[0;36mpad\u001b[0;34m(self, minibatch)\u001b[0m\n\u001b[1;32m    233\u001b[0m                     \u001b[0mlist\u001b[0m\u001b[0;34m(\u001b[0m\u001b[0mx\u001b[0m\u001b[0;34m[\u001b[0m\u001b[0;34m-\u001b[0m\u001b[0mmax_len\u001b[0m\u001b[0;34m:\u001b[0m\u001b[0;34m]\u001b[0m \u001b[0;32mif\u001b[0m \u001b[0mself\u001b[0m\u001b[0;34m.\u001b[0m\u001b[0mtruncate_first\u001b[0m \u001b[0;32melse\u001b[0m \u001b[0mx\u001b[0m\u001b[0;34m[\u001b[0m\u001b[0;34m:\u001b[0m\u001b[0mmax_len\u001b[0m\u001b[0;34m]\u001b[0m\u001b[0;34m)\u001b[0m \u001b[0;34m+\u001b[0m\u001b[0;34m\u001b[0m\u001b[0;34m\u001b[0m\u001b[0m\n\u001b[1;32m    234\u001b[0m                     \u001b[0;34m(\u001b[0m\u001b[0;34m[\u001b[0m\u001b[0;34m]\u001b[0m \u001b[0;32mif\u001b[0m \u001b[0mself\u001b[0m\u001b[0;34m.\u001b[0m\u001b[0meos_token\u001b[0m \u001b[0;32mis\u001b[0m \u001b[0;32mNone\u001b[0m \u001b[0;32melse\u001b[0m \u001b[0;34m[\u001b[0m\u001b[0mself\u001b[0m\u001b[0;34m.\u001b[0m\u001b[0meos_token\u001b[0m\u001b[0;34m]\u001b[0m\u001b[0;34m)\u001b[0m \u001b[0;34m+\u001b[0m\u001b[0;34m\u001b[0m\u001b[0;34m\u001b[0m\u001b[0m\n\u001b[0;32m--> 235\u001b[0;31m                     [self.pad_token] * max(0, max_len - len(x)))\n\u001b[0m\u001b[1;32m    236\u001b[0m             \u001b[0mlengths\u001b[0m\u001b[0;34m.\u001b[0m\u001b[0mappend\u001b[0m\u001b[0;34m(\u001b[0m\u001b[0mlen\u001b[0m\u001b[0;34m(\u001b[0m\u001b[0mpadded\u001b[0m\u001b[0;34m[\u001b[0m\u001b[0;34m-\u001b[0m\u001b[0;36m1\u001b[0m\u001b[0;34m]\u001b[0m\u001b[0;34m)\u001b[0m \u001b[0;34m-\u001b[0m \u001b[0mmax\u001b[0m\u001b[0;34m(\u001b[0m\u001b[0;36m0\u001b[0m\u001b[0;34m,\u001b[0m \u001b[0mmax_len\u001b[0m \u001b[0;34m-\u001b[0m \u001b[0mlen\u001b[0m\u001b[0;34m(\u001b[0m\u001b[0mx\u001b[0m\u001b[0;34m)\u001b[0m\u001b[0;34m)\u001b[0m\u001b[0;34m)\u001b[0m\u001b[0;34m\u001b[0m\u001b[0;34m\u001b[0m\u001b[0m\n\u001b[1;32m    237\u001b[0m         \u001b[0;32mif\u001b[0m \u001b[0mself\u001b[0m\u001b[0;34m.\u001b[0m\u001b[0minclude_lengths\u001b[0m\u001b[0;34m:\u001b[0m\u001b[0;34m\u001b[0m\u001b[0;34m\u001b[0m\u001b[0m\n",
            "\u001b[0;31mKeyboardInterrupt\u001b[0m: "
          ]
        }
      ]
    },
    {
      "cell_type": "code",
      "metadata": {
        "id": "qrW7tPOc7jLg",
        "colab_type": "code",
        "outputId": "ca2a1f0b-b922-40dc-896e-938e8d4805a6",
        "colab": {
          "base_uri": "https://localhost:8080/",
          "height": 35
        }
      },
      "source": [
        "pred_cat = model.predict(X_te)\n",
        "pred = np.argmax(pred_cat, axis=-1)\n",
        "y_te_true = np.argmax(y_te, -1)\n",
        "from sklearn_crfsuite.metrics import flat_classification_report\n",
        "\n",
        "# Convert the index to tag\n",
        "pred_tag = [[idx2tag[i] for i in row] for row in pred]\n",
        "y_te_true_tag = [[idx2tag[i] for i in row] for row in y_te_true] \n",
        "\n",
        "report = flat_classification_report(y_pred=pred_tag, y_true=y_te_true_tag)\n",
        "print(report)"
      ],
      "execution_count": 0,
      "outputs": [
        {
          "output_type": "execute_result",
          "data": {
            "text/plain": [
              "3"
            ]
          },
          "metadata": {
            "tags": []
          },
          "execution_count": 23
        }
      ]
    },
    {
      "cell_type": "code",
      "metadata": {
        "id": "KxUqSGsNbZMp",
        "colab_type": "code",
        "colab": {}
      },
      "source": [
        ""
      ],
      "execution_count": 0,
      "outputs": []
    },
    {
      "cell_type": "code",
      "metadata": {
        "id": "iPfLM2mGCwqP",
        "colab_type": "code",
        "colab": {}
      },
      "source": [
        "def zero_digits(s):\n",
        "    \"\"\"\n",
        "    Replace every digit in a string by a zero.\n",
        "    \"\"\"\n",
        "    return re.sub('\\d', '0', s)\n",
        "\n",
        "def load_sentences(path, zeros):\n",
        "    \"\"\"\n",
        "    Load sentences. A line must contain at least a word and its tag.\n",
        "    Sentences are separated by empty lines.\n",
        "    \"\"\"\n",
        "\n",
        "    \n",
        "    sentences = []\n",
        "    sentence = []\n",
        "    for line in codecs.open(path, 'r', 'utf8'):\n",
        "        line = zero_digits(line.rstrip()) if zeros else line.rstrip()\n",
        "        if not line:\n",
        "            if len(sentence) > 0:\n",
        "                if 'DOCSTART' not in sentence[0][0]:\n",
        "                    sentences.append(sentence)\n",
        "                sentence = []\n",
        "        else:\n",
        "            word = line.split()\n",
        "            assert len(word) >= 2\n",
        "            sentence.append(word)\n",
        "    if len(sentence) > 0:\n",
        "        if 'DOCSTART' not in sentence[0][0]:\n",
        "            sentences.append(sentence)\n",
        "    return sentences"
      ],
      "execution_count": 0,
      "outputs": []
    },
    {
      "cell_type": "code",
      "metadata": {
        "id": "EHxaimwECgt1",
        "colab_type": "code",
        "colab": {}
      },
      "source": [
        "train_sentences = load_sentences('/content/NER/corpus/CoNLL-2003/eng.train',zeros=True)\n",
        "test_sentences = load_sentences('/content/NER/corpus/CoNLL-2003/eng.testb', zeros=True)\n",
        "dev_sentences = load_sentences('/content/NER/corpus/CoNLL-2003/eng.testa', zeros=True)"
      ],
      "execution_count": 0,
      "outputs": []
    },
    {
      "cell_type": "code",
      "metadata": {
        "id": "aFbtjfmgCgpV",
        "colab_type": "code",
        "outputId": "46d55c45-0c94-412f-8202-4b4e604f0613",
        "colab": {
          "base_uri": "https://localhost:8080/",
          "height": 35
        }
      },
      "source": [
        "len(train_sentences)"
      ],
      "execution_count": 0,
      "outputs": [
        {
          "output_type": "execute_result",
          "data": {
            "text/plain": [
              "14041"
            ]
          },
          "metadata": {
            "tags": []
          },
          "execution_count": 5
        }
      ]
    },
    {
      "cell_type": "code",
      "metadata": {
        "id": "Nu80JtNpCglv",
        "colab_type": "code",
        "outputId": "074008c2-99f3-4c04-d0ac-1cd72b75c79d",
        "colab": {
          "base_uri": "https://localhost:8080/",
          "height": 35
        }
      },
      "source": [
        "train_sentences[2]"
      ],
      "execution_count": 0,
      "outputs": [
        {
          "output_type": "execute_result",
          "data": {
            "text/plain": [
              "[['BRUSSELS', 'NNP', 'I-NP', 'I-LOC'], ['0000-00-00', 'CD', 'I-NP', 'O']]"
            ]
          },
          "metadata": {
            "tags": []
          },
          "execution_count": 6
        }
      ]
    },
    {
      "cell_type": "code",
      "metadata": {
        "id": "Q0_cfC5SCge6",
        "colab_type": "code",
        "outputId": "f86c927c-6ae0-4947-a032-a4d025e20f7b",
        "colab": {
          "base_uri": "https://localhost:8080/",
          "height": 235
        }
      },
      "source": [
        "def lower_case(x,lower=False):\n",
        "    if lower:\n",
        "        return x.lower()  \n",
        "    else:\n",
        "        return x\n",
        "\n",
        "def prepare_dataset(sentences, word_to_id, char_to_id, tag_to_id, lower=False):\n",
        "    \"\"\"\n",
        "    Prepare the dataset. Return a list of lists of dictionaries containing:\n",
        "        - word indexes\n",
        "        - word char indexes\n",
        "        - tag indexes\n",
        "    \"\"\"\n",
        "    data = []\n",
        "    for s in sentences:\n",
        "        str_words = [w[0] for w in s]\n",
        "        words = [word_to_id[lower_case(w,lower) if lower_case(w,lower) in word_to_id else '<UNK>']\n",
        "                 for w in str_words]\n",
        "        # Skip characters that are not in the training set\n",
        "        chars = [[char_to_id[c] for c in w if c in char_to_id]\n",
        "                 for w in str_words]\n",
        "        tags = [tag_to_id[w[-1]] for w in s]\n",
        "        data.append({\n",
        "            'str_words': str_words,\n",
        "            'words': words,\n",
        "            'chars': chars,\n",
        "            'tags': tags,\n",
        "        })\n",
        "    return data\n",
        "\n",
        "train_data = prepare_dataset(\n",
        "    train_sentences, word_to_id, char_to_id, tag_to_id, parameters['lower']\n",
        ")\n",
        "dev_data = prepare_dataset(\n",
        "    dev_sentences, word_to_id, char_to_id, tag_to_id, parameters['lower']\n",
        ")\n",
        "test_data = prepare_dataset(\n",
        "    test_sentences, word_to_id, char_to_id, tag_to_id, parameters['lower']\n",
        ")\n",
        "print(\"{} / {} / {} sentences in train / dev / test.\".format(len(train_data), len(dev_data), len(test_data)))"
      ],
      "execution_count": 0,
      "outputs": [
        {
          "output_type": "error",
          "ename": "NameError",
          "evalue": "ignored",
          "traceback": [
            "\u001b[0;31m---------------------------------------------------------------------------\u001b[0m",
            "\u001b[0;31mNameError\u001b[0m                                 Traceback (most recent call last)",
            "\u001b[0;32m<ipython-input-7-403e524c544c>\u001b[0m in \u001b[0;36m<module>\u001b[0;34m()\u001b[0m\n\u001b[1;32m     30\u001b[0m \u001b[0;34m\u001b[0m\u001b[0m\n\u001b[1;32m     31\u001b[0m train_data = prepare_dataset(\n\u001b[0;32m---> 32\u001b[0;31m     \u001b[0mtrain_sentences\u001b[0m\u001b[0;34m,\u001b[0m \u001b[0mword_to_id\u001b[0m\u001b[0;34m,\u001b[0m \u001b[0mchar_to_id\u001b[0m\u001b[0;34m,\u001b[0m \u001b[0mtag_to_id\u001b[0m\u001b[0;34m,\u001b[0m \u001b[0mparameters\u001b[0m\u001b[0;34m[\u001b[0m\u001b[0;34m'lower'\u001b[0m\u001b[0;34m]\u001b[0m\u001b[0;34m\u001b[0m\u001b[0;34m\u001b[0m\u001b[0m\n\u001b[0m\u001b[1;32m     33\u001b[0m )\n\u001b[1;32m     34\u001b[0m dev_data = prepare_dataset(\n",
            "\u001b[0;31mNameError\u001b[0m: name 'word_to_id' is not defined"
          ]
        }
      ]
    }
  ]
}