{
  "nbformat": 4,
  "nbformat_minor": 0,
  "metadata": {
    "colab": {
      "name": "lSTM_colab.ipynb",
      "provenance": [],
      "authorship_tag": "ABX9TyNWCNf00PWtXQMfUd2QnamJ",
      "include_colab_link": true
    },
    "kernelspec": {
      "name": "python3",
      "display_name": "Python 3"
    },
    "accelerator": "GPU"
  },
  "cells": [
    {
      "cell_type": "markdown",
      "metadata": {
        "id": "view-in-github",
        "colab_type": "text"
      },
      "source": [
        "<a href=\"https://colab.research.google.com/github/Nilanshrajput/NER_SyferText/blob/master/lSTM_colab.ipynb\" target=\"_parent\"><img src=\"https://colab.research.google.com/assets/colab-badge.svg\" alt=\"Open In Colab\"/></a>"
      ]
    },
    {
      "cell_type": "code",
      "metadata": {
        "id": "jBGOlkdKCP9O",
        "colab_type": "code",
        "outputId": "ff57ec17-7590-4907-84d6-989e44bd1366",
        "colab": {
          "base_uri": "https://localhost:8080/",
          "height": 121
        }
      },
      "source": [
        "!git clone https://github.com/synalp/NER.git"
      ],
      "execution_count": 1,
      "outputs": [
        {
          "output_type": "stream",
          "text": [
            "Cloning into 'NER'...\n",
            "remote: Enumerating objects: 3148, done.\u001b[K\n",
            "remote: Total 3148 (delta 0), reused 0 (delta 0), pack-reused 3148\u001b[K\n",
            "Receiving objects: 100% (3148/3148), 281.51 MiB | 38.66 MiB/s, done.\n",
            "Resolving deltas: 100% (2066/2066), done.\n",
            "Checking out files: 100% (189/189), done.\n"
          ],
          "name": "stdout"
        }
      ]
    },
    {
      "cell_type": "code",
      "metadata": {
        "id": "viGkubaPGPWl",
        "colab_type": "code",
        "colab": {}
      },
      "source": [
        "\n",
        "from __future__ import print_function\n",
        "from collections import OrderedDict\n",
        "\n",
        "import torch\n",
        "import torch.nn as nn\n",
        "from torch.nn import init\n",
        "from torch.autograd import Variable\n",
        "from torch import autograd\n",
        "\n",
        "import time\n",
        "import _pickle as cPickle\n",
        "\n",
        "import urllib\n",
        "import matplotlib.pyplot as plt\n",
        "\n",
        "\n",
        "import os\n",
        "import sys\n",
        "import codecs\n",
        "import re\n",
        "import numpy as np\n",
        "import spacy\n",
        "from sklearn.metrics import f1_score"
      ],
      "execution_count": 0,
      "outputs": []
    },
    {
      "cell_type": "code",
      "metadata": {
        "id": "_PqRap7oC-1F",
        "colab_type": "code",
        "colab": {
          "base_uri": "https://localhost:8080/",
          "height": 181
        },
        "outputId": "e48a6976-7bc8-4de4-838b-92100f74847a"
      },
      "source": [
        "while 1:\n",
        "  continue"
      ],
      "execution_count": 3,
      "outputs": [
        {
          "output_type": "error",
          "ename": "KeyboardInterrupt",
          "evalue": "ignored",
          "traceback": [
            "\u001b[0;31m---------------------------------------------------------------------------\u001b[0m",
            "\u001b[0;31mKeyboardInterrupt\u001b[0m                         Traceback (most recent call last)",
            "\u001b[0;32m<ipython-input-3-de7f810681bb>\u001b[0m in \u001b[0;36m<module>\u001b[0;34m()\u001b[0m\n\u001b[1;32m      1\u001b[0m \u001b[0;32mwhile\u001b[0m \u001b[0;36m1\u001b[0m\u001b[0;34m:\u001b[0m\u001b[0;34m\u001b[0m\u001b[0;34m\u001b[0m\u001b[0m\n\u001b[0;32m----> 2\u001b[0;31m   \u001b[0;32mcontinue\u001b[0m\u001b[0;34m\u001b[0m\u001b[0;34m\u001b[0m\u001b[0m\n\u001b[0m",
            "\u001b[0;31mKeyboardInterrupt\u001b[0m: "
          ]
        }
      ]
    },
    {
      "cell_type": "code",
      "metadata": {
        "id": "lW7VtQ2yCiPL",
        "colab_type": "code",
        "colab": {}
      },
      "source": [
        "\n",
        "import torch\n",
        "from torchtext import data\n",
        "from torchtext.datasets import SequenceTaggingDataset\n",
        "from torchtext.vocab import Vectors, GloVe\n",
        "\n",
        "import numpy as np\n",
        "import random\n",
        "import logging\n",
        "logger = logging.getLogger(__name__)\n",
        "\n",
        "\n",
        "def conll2003_dataset(tag_type, batch_size, root='/content/NER/corpus/CoNLL-2003', \n",
        "                          train_file='eng.train', \n",
        "                          validation_file='eng.testa',\n",
        "                          test_file='eng.testb',\n",
        "                          convert_digits=True):\n",
        "    \"\"\"\n",
        "    conll2003: Conll 2003 (Parser only. You must place the files)\n",
        "    Extract Conll2003 dataset using torchtext. Applies GloVe 6B.200d and Char N-gram\n",
        "    pretrained vectors. Also sets up per word character Field\n",
        "    Parameters:\n",
        "        tag_type: Type of tag to pick as task [pos, chunk, ner]\n",
        "        batch_size: Batch size to return from iterator\n",
        "        root: Dataset root directory\n",
        "        train_file: Train filename\n",
        "        validation_file: Validation filename\n",
        "        test_file: Test filename\n",
        "        convert_digits: If True will convert numbers to single 0's\n",
        "    Returns:\n",
        "        A dict containing:\n",
        "            task: 'conll2003.' + tag_type\n",
        "            iters: (train iter, validation iter, test iter)\n",
        "            vocabs: (Inputs word vocabulary, Inputs character vocabulary, \n",
        "                    Tag vocabulary )\n",
        "    \"\"\"\n",
        "    \n",
        "    # Setup fields with batch dimension first\n",
        "    inputs_word = data.Field(  lower=True)\n",
        "\n",
        "    inputs_char_nesting = data.Field(tokenize=list)\n",
        "\n",
        "    inputs_char = data.NestedField(inputs_char_nesting)\n",
        "                        \n",
        "\n",
        "    labels = data.Field(unk_token = None, is_target=True)\n",
        "\n",
        "    fields = ([(('inputs_word', 'inputs_char'), (inputs_word, inputs_char))] + \n",
        "                [('labels', labels) if label == tag_type else (None, None) \n",
        "                for label in ['pos', 'chunk', 'ner']])\n",
        "\n",
        "    # Load the data\n",
        "    train, val, test = SequenceTaggingDataset.splits(\n",
        "                                path=root, \n",
        "                                train=train_file, \n",
        "                                validation=validation_file, \n",
        "                                test=test_file,\n",
        "                                separator=' ',\n",
        "                                fields=tuple(fields))\n",
        "\n",
        "\n",
        "    \n",
        "    # Build vocab\n",
        "    inputs_char.build_vocab(train.inputs_char, val.inputs_char, test.inputs_char)\n",
        "    inputs_word.build_vocab(train.inputs_word, val.inputs_word, test.inputs_word, max_size=50000,\n",
        "                        vectors= \"glove.6B.300d\")\n",
        "    \n",
        "    labels.build_vocab(train)\n",
        "  \n",
        "\n",
        "    # Get iterators\n",
        "    train_iter, val_iter, test_iter = data.BucketIterator.splits(\n",
        "                            (train, val, test), batch_size=batch_size, \n",
        "                            device=torch.device(\"cuda\"))\n",
        "    train_iter.repeat = False\n",
        "    \n",
        "    return {\n",
        "        'task': 'conll2003.%s'%tag_type,\n",
        "        'iters': (train_iter, val_iter, test_iter), \n",
        "        'vocabs': (inputs_word.vocab, inputs_char.vocab, labels.vocab), \n",
        "        'fields': (inputs_word,labels)\n",
        "        }\n"
      ],
      "execution_count": 0,
      "outputs": []
    },
    {
      "cell_type": "code",
      "metadata": {
        "id": "hC6qOKHrc5sN",
        "colab_type": "code",
        "colab": {}
      },
      "source": [
        "dic = conll2003_dataset('ner', batch_size = 256)"
      ],
      "execution_count": 0,
      "outputs": []
    },
    {
      "cell_type": "code",
      "metadata": {
        "id": "QbTwNX2TPFUq",
        "colab_type": "code",
        "outputId": "67f08e7a-715c-45a0-999e-6989a9a13f6f",
        "colab": {
          "base_uri": "https://localhost:8080/",
          "height": 431
        }
      },
      "source": [
        "a,_,_= dic['iters']\n",
        "\n",
        "for i,t in enumerate(a):\n",
        "  print(t)\n",
        "  if i == 1:\n",
        "    break\n",
        "\n",
        "  "
      ],
      "execution_count": 74,
      "outputs": [
        {
          "output_type": "stream",
          "text": [
            "\n",
            "[torchtext.data.batch.Batch of size 64]\n",
            "\t[.labels]:[torch.LongTensor of size 44x64]\n",
            "\t[.inputs_word]:[torch.LongTensor of size 44x64]\n",
            "\t[.inputs_char]:[torch.LongTensor of size 64x44x15]\n",
            "tensor([ 1646,   264,    20,  3672,  2015,   670, 26767,    17,    17,  1560,\n",
            "        21912,   135,  2161,     1,     3,  2637,    17,     6,    14,     3,\n",
            "         4314,     6,     1,   625,  1334,    65,    14,     1,     9,     1,\n",
            "           98,    64,    31,   527, 12176,   107,   255,    15,  3865, 21049,\n",
            "         4150,  2579,    25,  5961, 22291,  8596,    71,   177,    77,  1211,\n",
            "         2513,     3,  6063,   248,   372, 19870,   397,     9,    44,  1027,\n",
            "            3,   248,   547,     5])\n",
            "\n",
            "[torchtext.data.batch.Batch of size 64]\n",
            "\t[.labels]:[torch.LongTensor of size 40x64]\n",
            "\t[.inputs_word]:[torch.LongTensor of size 40x64]\n",
            "\t[.inputs_char]:[torch.LongTensor of size 64x40x16]\n",
            "tensor([ 2699,  4952,     3, 19028,   242,    24, 12126,    10,  8641,   939,\n",
            "         1850,     5,     2,    24,  6911,  5710,    17,    60,     1,  5694,\n",
            "            9,   169, 25363,  1324,  4727,    51,  3812,     1,     1,   321,\n",
            "         5755,  4769,  1547,  4137,   992,   842,   757,    65,    71,     1,\n",
            "            1,    14,  3701,    17,  3091,     1,   459,    14,    69,  1159,\n",
            "           19,    37,   864,   615,    22,  7259,  1966,   313,     1,    71,\n",
            "         1467,    14,     1,  6695])\n"
          ],
          "name": "stdout"
        }
      ]
    },
    {
      "cell_type": "code",
      "metadata": {
        "id": "5TNnvi7LdubP",
        "colab_type": "code",
        "colab": {}
      },
      "source": [
        "d_,_,label_=dic['vocabs']"
      ],
      "execution_count": 0,
      "outputs": []
    },
    {
      "cell_type": "code",
      "metadata": {
        "id": "oME92UbOd6kE",
        "colab_type": "code",
        "outputId": "4c0a151b-13cc-4536-d35a-7d5679976ede",
        "colab": {
          "base_uri": "https://localhost:8080/",
          "height": 34
        }
      },
      "source": [
        "len(label_)"
      ],
      "execution_count": 76,
      "outputs": [
        {
          "output_type": "execute_result",
          "data": {
            "text/plain": [
              "9"
            ]
          },
          "metadata": {
            "tags": []
          },
          "execution_count": 76
        }
      ]
    },
    {
      "cell_type": "code",
      "metadata": {
        "id": "ly3jDoY6eHhn",
        "colab_type": "code",
        "colab": {
          "base_uri": "https://localhost:8080/",
          "height": 34
        },
        "outputId": "c06d2c1e-fdbd-4800-ea43-0b6828807618"
      },
      "source": [
        "label_.itos"
      ],
      "execution_count": 77,
      "outputs": [
        {
          "output_type": "execute_result",
          "data": {
            "text/plain": [
              "['<pad>', 'O', 'I-PER', 'I-ORG', 'I-LOC', 'I-MISC', 'B-MISC', 'B-ORG', 'B-LOC']"
            ]
          },
          "metadata": {
            "tags": []
          },
          "execution_count": 77
        }
      ]
    },
    {
      "cell_type": "code",
      "metadata": {
        "id": "ER3ElFk6ZocS",
        "colab_type": "code",
        "colab": {
          "base_uri": "https://localhost:8080/",
          "height": 155
        },
        "outputId": "33302a89-bffd-400e-b408-c2505bd3b37b"
      },
      "source": [
        "label_.freqs.most_common()"
      ],
      "execution_count": 78,
      "outputs": [
        {
          "output_type": "execute_result",
          "data": {
            "text/plain": [
              "[('O', 170524),\n",
              " ('I-PER', 11128),\n",
              " ('I-ORG', 10001),\n",
              " ('I-LOC', 8286),\n",
              " ('I-MISC', 4556),\n",
              " ('B-MISC', 37),\n",
              " ('B-ORG', 24),\n",
              " ('B-LOC', 11)]"
            ]
          },
          "metadata": {
            "tags": []
          },
          "execution_count": 78
        }
      ]
    },
    {
      "cell_type": "code",
      "metadata": {
        "id": "t8oGzecjlZyr",
        "colab_type": "code",
        "colab": {}
      },
      "source": [
        "train_iter,valid_iter,test_iter = dic['iters']\n",
        "text_vocab,_,labels = dic['vocabs']\n",
        "input_field,label_field = dic['fields']"
      ],
      "execution_count": 0,
      "outputs": []
    },
    {
      "cell_type": "code",
      "metadata": {
        "id": "B5H9FyaZQw01",
        "colab_type": "code",
        "colab": {}
      },
      "source": [
        "import torch.nn as nn\n",
        "import torch.nn.functional as F\n",
        "\n",
        "class LSTM_Tagger(nn.Module):\n",
        "    def __init__(self, \n",
        "                 input_dim, \n",
        "                 embedding_dim, \n",
        "                 hidden_dim, \n",
        "                 output_dim, \n",
        "                 n_layers, \n",
        "                 dropout, \n",
        "                 pad_idx):\n",
        "        \n",
        "        super().__init__()\n",
        "        \n",
        "        self.embedding = nn.Embedding(input_dim, embedding_dim, padding_idx = pad_idx)\n",
        "        \n",
        "        self.lstm = nn.LSTM(embedding_dim, \n",
        "                            hidden_dim, \n",
        "                            num_layers = n_layers,\n",
        "                            bidirectional = True,\n",
        "                            dropout = dropout if n_layers > 1 else 0)\n",
        "        \n",
        "        self.fc = nn.Linear(hidden_dim*2, output_dim)\n",
        "        \n",
        "        self.dropout = nn.Dropout(dropout)\n",
        "        \n",
        "    def forward(self, text):\n",
        "\n",
        "        #text = [sent len, batch size]\n",
        "        \n",
        "        #pass text through embedding layer\n",
        "        embedded = self.dropout(self.embedding(text))\n",
        "        \n",
        "        #embedded = [sent len, batch size, emb dim]\n",
        "        \n",
        "        #pass embeddings into LSTM\n",
        "        outputs, (hidden, cell) = self.lstm(embedded)\n",
        "        \n",
        "        #outputs holds the backward and forward hidden states in the final layer\n",
        "        #hidden and cell are the backward and forward hidden and cell states at the final time-step\n",
        "        \n",
        "        #output = [sent len, batch size, hid dim * n directions]\n",
        "        #hidden/cell = [n layers * n directions, batch size, hid dim]\n",
        "        \n",
        "        #we use our outputs to make a prediction of what the tag should be\n",
        "        predictions = self.fc(self.dropout(outputs))\n",
        "        \n",
        "        #predictions = [sent len, batch size, output dim]\n",
        "        \n",
        "        return predictions\n"
      ],
      "execution_count": 0,
      "outputs": []
    },
    {
      "cell_type": "code",
      "metadata": {
        "id": "2aqKhIL2oGHO",
        "colab_type": "code",
        "colab": {}
      },
      "source": [
        "\n",
        "INPUT_DIM = len(text_vocab)\n",
        "EMBEDDING_DIM = 300\n",
        "HIDDEN_DIM = 256\n",
        "OUTPUT_DIM = len(labels)\n",
        "N_LAYERS = 2\n",
        "\n",
        "DROPOUT = 0.25\n",
        "PAD_IDX = text_vocab.stoi[input_field.pad_token]\n",
        "model = LSTM_Tagger(INPUT_DIM, \n",
        "                        EMBEDDING_DIM, \n",
        "                        HIDDEN_DIM, \n",
        "                        OUTPUT_DIM, \n",
        "                        N_LAYERS,\n",
        "                        DROPOUT, \n",
        "                        PAD_IDX)"
      ],
      "execution_count": 0,
      "outputs": []
    },
    {
      "cell_type": "code",
      "metadata": {
        "id": "WThHQcnhX0YQ",
        "colab_type": "code",
        "outputId": "db518e00-91d9-4022-d2bb-672a05de0479",
        "colab": {
          "base_uri": "https://localhost:8080/",
          "height": 34
        }
      },
      "source": [
        "pretrained_embeddings = text_vocab.vectors\n",
        "\n",
        "print(pretrained_embeddings.shape)"
      ],
      "execution_count": 208,
      "outputs": [
        {
          "output_type": "stream",
          "text": [
            "torch.Size([26872, 300])\n"
          ],
          "name": "stdout"
        }
      ]
    },
    {
      "cell_type": "code",
      "metadata": {
        "id": "51cdRoCyX0YT",
        "colab_type": "code",
        "outputId": "617cff76-025d-4f6d-e190-fa8af92c6eb1",
        "colab": {
          "base_uri": "https://localhost:8080/",
          "height": 138
        }
      },
      "source": [
        "model.embedding.weight.data.copy_(pretrained_embeddings)"
      ],
      "execution_count": 209,
      "outputs": [
        {
          "output_type": "execute_result",
          "data": {
            "text/plain": [
              "tensor([[ 0.0000,  0.0000,  0.0000,  ...,  0.0000,  0.0000,  0.0000],\n",
              "        [ 0.0000,  0.0000,  0.0000,  ...,  0.0000,  0.0000,  0.0000],\n",
              "        [ 0.0466,  0.2132, -0.0074,  ...,  0.0091, -0.2099,  0.0539],\n",
              "        ...,\n",
              "        [ 0.0702, -0.0498,  0.2675,  ...,  0.2944, -0.4164,  0.3202],\n",
              "        [-0.1881, -0.4332, -0.4754,  ...,  0.6583,  0.2311,  0.1486],\n",
              "        [ 0.0000,  0.0000,  0.0000,  ...,  0.0000,  0.0000,  0.0000]])"
            ]
          },
          "metadata": {
            "tags": []
          },
          "execution_count": 209
        }
      ]
    },
    {
      "cell_type": "code",
      "metadata": {
        "id": "hhr-6NRyX0YW",
        "colab_type": "code",
        "outputId": "617e6d0f-a082-471a-f1f6-8709f7f8deab",
        "colab": {
          "base_uri": "https://localhost:8080/",
          "height": 138
        }
      },
      "source": [
        "model.embedding.weight.data[PAD_IDX] = torch.zeros(EMBEDDING_DIM)\n",
        "\n",
        "print(model.embedding.weight.data)"
      ],
      "execution_count": 210,
      "outputs": [
        {
          "output_type": "stream",
          "text": [
            "tensor([[ 0.0000,  0.0000,  0.0000,  ...,  0.0000,  0.0000,  0.0000],\n",
            "        [ 0.0000,  0.0000,  0.0000,  ...,  0.0000,  0.0000,  0.0000],\n",
            "        [ 0.0466,  0.2132, -0.0074,  ...,  0.0091, -0.2099,  0.0539],\n",
            "        ...,\n",
            "        [ 0.0702, -0.0498,  0.2675,  ...,  0.2944, -0.4164,  0.3202],\n",
            "        [-0.1881, -0.4332, -0.4754,  ...,  0.6583,  0.2311,  0.1486],\n",
            "        [ 0.0000,  0.0000,  0.0000,  ...,  0.0000,  0.0000,  0.0000]])\n"
          ],
          "name": "stdout"
        }
      ]
    },
    {
      "cell_type": "code",
      "metadata": {
        "id": "zsS_V0Ocooff",
        "colab_type": "code",
        "colab": {}
      },
      "source": [
        "device = torch.device(\"cuda\")"
      ],
      "execution_count": 0,
      "outputs": []
    },
    {
      "cell_type": "code",
      "metadata": {
        "id": "FqvjwF894_fc",
        "colab_type": "code",
        "colab": {}
      },
      "source": [
        ""
      ],
      "execution_count": 0,
      "outputs": []
    },
    {
      "cell_type": "code",
      "metadata": {
        "id": "2jd_2AkSX0YZ",
        "colab_type": "code",
        "colab": {}
      },
      "source": [
        "optimizer = torch.optim.Adam(model.parameters(),lr = 2e-5)"
      ],
      "execution_count": 0,
      "outputs": []
    },
    {
      "cell_type": "code",
      "metadata": {
        "id": "Lzxy1i2YX0Yc",
        "colab_type": "code",
        "colab": {}
      },
      "source": [
        "TAG_PAD_IDX = labels.stoi[label_field.pad_token]\n",
        "\n",
        "criterion = nn.CrossEntropyLoss(ignore_index = TAG_PAD_IDX)"
      ],
      "execution_count": 0,
      "outputs": []
    },
    {
      "cell_type": "code",
      "metadata": {
        "id": "rw_Ku0uiX0Yf",
        "colab_type": "code",
        "colab": {}
      },
      "source": [
        "model = model.to(device)\n",
        "criterion = criterion.to(device)"
      ],
      "execution_count": 0,
      "outputs": []
    },
    {
      "cell_type": "code",
      "metadata": {
        "id": "WWBOvVsKX0Yi",
        "colab_type": "code",
        "colab": {}
      },
      "source": [
        "def categorical_accuracy(preds, y, tag_pad_idx):\n",
        "    \"\"\"\n",
        "    Returns accuracy per batch, i.e. if you get 8/10 right, this returns 0.8, NOT 8\n",
        "    \"\"\"\n",
        "    max_preds = preds.argmax(dim = 1, keepdim = True) # get the index of the max probability\n",
        "    non_pad_elements = (y != tag_pad_idx).nonzero()\n",
        "    correct = max_preds[non_pad_elements].squeeze(1).eq(y[non_pad_elements])\n",
        "    return correct.sum() / torch.FloatTensor([y[non_pad_elements].shape[0]])"
      ],
      "execution_count": 0,
      "outputs": []
    },
    {
      "cell_type": "code",
      "metadata": {
        "id": "6qxr7S_yvxC1",
        "colab_type": "code",
        "colab": {}
      },
      "source": [
        "def metric_f1(preds, y, tag_pad_idx):\n",
        "  preds=preds.to('cpu')\n",
        "  y = y.to('cpu')\n",
        "  max_preds = preds.argmax(dim = 1, keepdim = True) # get the index of the max probability\n",
        "  non_pad_elements = (y != tag_pad_idx).nonzero()\n",
        "  shape = max_preds[non_pad_elements].shape[0]\n",
        "  #print(max_preds[non_pad_elements])\n",
        "  #print(max_preds[non_pad_elements].view(shape).shape)\n",
        "  #print(y[non_pad_elements])\n",
        "  #print(y[non_pad_elements].view(shape).shape)\n",
        "  return f1_score(y[non_pad_elements].detach().view(shape).numpy(),max_preds[non_pad_elements].detach().view(shape).numpy(),average='macro')"
      ],
      "execution_count": 0,
      "outputs": []
    },
    {
      "cell_type": "code",
      "metadata": {
        "id": "hsX6rKVBX0Yl",
        "colab_type": "code",
        "colab": {}
      },
      "source": [
        "def clip_gradient(model, clip_value):\n",
        "    params = list(filter(lambda p: p.grad is not None, model.parameters()))\n",
        "    for p in params:\n",
        "        p.grad.data.clamp_(-clip_value, clip_value)\n",
        "\n",
        "def train(model, iterator, optimizer, criterion, tag_pad_idx):\n",
        "    \n",
        "    epoch_loss = 0\n",
        "    epoch_acc = 0\n",
        "    epoch_f1 = 0\n",
        "    \n",
        "    model.train()\n",
        "    \n",
        "    for batch in iterator:\n",
        "        \n",
        "        text = batch.inputs_word\n",
        "        tags = batch.labels\n",
        "        \n",
        "        optimizer.zero_grad()\n",
        "        \n",
        "        #text = [sent len, batch size]\n",
        "        \n",
        "        predictions = model(text)\n",
        "        \n",
        "        #predictions = [sent len, batch size, output dim]\n",
        "        #tags = [sent len, batch size]\n",
        "        \n",
        "        predictions = predictions.view(-1, predictions.shape[-1])\n",
        "        tags = tags.view(-1)\n",
        "        \n",
        "        #predictions = [sent len * batch size, output dim]\n",
        "        #tags = [sent len * batch size]\n",
        "        \n",
        "        loss = criterion(predictions, tags)\n",
        "                \n",
        "        acc = categorical_accuracy(predictions, tags, tag_pad_idx)\n",
        "        f1 = metric_f1(predictions, tags, tag_pad_idx)\n",
        "        \n",
        "        loss.backward()\n",
        "        clip_gradient(model, 1e-1)\n",
        "        optimizer.step()\n",
        "        \n",
        "        epoch_loss += loss.item()\n",
        "        epoch_acc += acc.item()\n",
        "        epoch_f1 += f1\n",
        "        \n",
        "    return epoch_loss / len(iterator), epoch_acc / len(iterator), epoch_f1 / len(iterator)"
      ],
      "execution_count": 0,
      "outputs": []
    },
    {
      "cell_type": "code",
      "metadata": {
        "id": "gHLt5qCwX0Yo",
        "colab_type": "code",
        "colab": {}
      },
      "source": [
        "def evaluate(model, iterator, criterion, tag_pad_idx):\n",
        "    \n",
        "    epoch_loss = 0\n",
        "    epoch_acc = 0\n",
        "    epoch_f1 = 0\n",
        "    \n",
        "    model.eval()\n",
        "    \n",
        "    with torch.no_grad():\n",
        "    \n",
        "        for batch in iterator:\n",
        "\n",
        "            text = batch.inputs_word\n",
        "            tags = batch.labels\n",
        "            \n",
        "            predictions = model(text)\n",
        "            \n",
        "            predictions = predictions.view(-1, predictions.shape[-1])\n",
        "            tags = tags.view(-1)\n",
        "            \n",
        "            loss = criterion(predictions, tags)\n",
        "            \n",
        "            acc = categorical_accuracy(predictions, tags, tag_pad_idx)\n",
        "            f1 = metric_f1(predictions, tags, tag_pad_idx)\n",
        "\n",
        "            epoch_loss += loss.item()\n",
        "            epoch_acc += acc.item()\n",
        "            epoch_f1 += f1\n",
        "        \n",
        "    return epoch_loss / len(iterator), epoch_acc / len(iterator), epoch_f1 / len(iterator)"
      ],
      "execution_count": 0,
      "outputs": []
    },
    {
      "cell_type": "code",
      "metadata": {
        "id": "xJA1lbSyX0Ys",
        "colab_type": "code",
        "colab": {}
      },
      "source": [
        "def epoch_time(start_time, end_time):\n",
        "    elapsed_time = end_time - start_time\n",
        "    elapsed_mins = int(elapsed_time / 60)\n",
        "    elapsed_secs = int(elapsed_time - (elapsed_mins * 60))\n",
        "    return elapsed_mins, elapsed_secs"
      ],
      "execution_count": 0,
      "outputs": []
    },
    {
      "cell_type": "code",
      "metadata": {
        "id": "vAFacwnuX0Yu",
        "colab_type": "code",
        "outputId": "502576ac-477a-461e-b90b-502372e5ac18",
        "colab": {
          "base_uri": "https://localhost:8080/",
          "height": 1000
        }
      },
      "source": [
        "N_EPOCHS = 100\n",
        "\n",
        "best_valid_f1 = float(0)\n",
        "\n",
        "for epoch in range(N_EPOCHS):\n",
        "\n",
        "    start_time = time.time()\n",
        "    \n",
        "    train_loss, train_acc, train_f1 = train(model, train_iter, optimizer, criterion, TAG_PAD_IDX)\n",
        "    valid_loss, valid_acc, valid_f1 = evaluate(model, valid_iter, criterion, TAG_PAD_IDX)\n",
        "    \n",
        "    end_time = time.time()\n",
        "\n",
        "    epoch_mins, epoch_secs = epoch_time(start_time, end_time)\n",
        "    \n",
        "    if valid_f1 > best_valid_f1:\n",
        "        best_valid_f1 = valid_f1\n",
        "        torch.save(model.state_dict(), 'best_f1_bilstmmodel.pt')\n",
        "    \n",
        "    print(f'Epoch: {epoch+1:02} | Epoch Time: {epoch_mins}m {epoch_secs}s')\n",
        "    print(f'\\tTrain Loss: {train_loss:.3f} | Train Acc: {train_acc*100:.2f}% | Train_F1: {train_f1}')\n",
        "    print(f'\\t Val. Loss: {valid_loss:.3f} |  Val. Acc: {valid_acc*100:.2f}% | Valid_F1: {valid_f1}')"
      ],
      "execution_count": 220,
      "outputs": [
        {
          "output_type": "stream",
          "text": [
            "Epoch: 01 | Epoch Time: 0m 8s\n",
            "\tTrain Loss: 2.037 | Train Acc: 77.59% | Train_F1: 0.14019553411928612\n",
            "\t Val. Loss: 1.926 |  Val. Acc: 78.30% | Valid_F1: 0.16747860084634342\n",
            "Epoch: 02 | Epoch Time: 0m 8s\n",
            "\tTrain Loss: 1.391 | Train Acc: 83.34% | Train_F1: 0.15772370645433126\n",
            "\t Val. Loss: 1.181 |  Val. Acc: 78.31% | Valid_F1: 0.16957552358501618\n",
            "Epoch: 03 | Epoch Time: 0m 8s\n",
            "\tTrain Loss: 0.785 | Train Acc: 83.34% | Train_F1: 0.16101099029517615\n",
            "\t Val. Loss: 1.083 |  Val. Acc: 78.31% | Valid_F1: 0.16957552358501618\n",
            "Epoch: 04 | Epoch Time: 0m 8s\n",
            "\tTrain Loss: 0.717 | Train Acc: 83.34% | Train_F1: 0.16239746966517668\n",
            "\t Val. Loss: 1.027 |  Val. Acc: 78.32% | Valid_F1: 0.16796096340478545\n",
            "Epoch: 05 | Epoch Time: 0m 8s\n",
            "\tTrain Loss: 0.667 | Train Acc: 83.34% | Train_F1: 0.1609999266921179\n",
            "\t Val. Loss: 0.983 |  Val. Acc: 78.33% | Valid_F1: 0.16796526250987526\n",
            "Epoch: 06 | Epoch Time: 0m 8s\n",
            "\tTrain Loss: 0.630 | Train Acc: 83.34% | Train_F1: 0.16052968701456163\n",
            "\t Val. Loss: 0.957 |  Val. Acc: 78.36% | Valid_F1: 0.16847686323302244\n",
            "Epoch: 07 | Epoch Time: 0m 8s\n",
            "\tTrain Loss: 0.607 | Train Acc: 83.32% | Train_F1: 0.15928826730766432\n",
            "\t Val. Loss: 0.936 |  Val. Acc: 78.40% | Valid_F1: 0.17044471846264334\n",
            "Epoch: 08 | Epoch Time: 0m 8s\n",
            "\tTrain Loss: 0.584 | Train Acc: 83.34% | Train_F1: 0.16158185988048504\n",
            "\t Val. Loss: 0.913 |  Val. Acc: 78.43% | Valid_F1: 0.17173375178649494\n",
            "Epoch: 09 | Epoch Time: 0m 8s\n",
            "\tTrain Loss: 0.563 | Train Acc: 83.37% | Train_F1: 0.16392117784753707\n",
            "\t Val. Loss: 0.889 |  Val. Acc: 78.57% | Valid_F1: 0.1774534473885818\n",
            "Epoch: 10 | Epoch Time: 0m 8s\n",
            "\tTrain Loss: 0.543 | Train Acc: 83.53% | Train_F1: 0.18226736801627158\n",
            "\t Val. Loss: 0.864 |  Val. Acc: 78.84% | Valid_F1: 0.19422304109870667\n",
            "Epoch: 11 | Epoch Time: 0m 8s\n",
            "\tTrain Loss: 0.521 | Train Acc: 83.98% | Train_F1: 0.2100478116678306\n",
            "\t Val. Loss: 0.838 |  Val. Acc: 79.30% | Valid_F1: 0.21897942062972486\n",
            "Epoch: 12 | Epoch Time: 0m 8s\n",
            "\tTrain Loss: 0.501 | Train Acc: 84.45% | Train_F1: 0.24052298326106655\n",
            "\t Val. Loss: 0.808 |  Val. Acc: 80.13% | Valid_F1: 0.2536318500363132\n",
            "Epoch: 13 | Epoch Time: 0m 8s\n",
            "\tTrain Loss: 0.476 | Train Acc: 85.13% | Train_F1: 0.2730349189136871\n",
            "\t Val. Loss: 0.778 |  Val. Acc: 81.16% | Valid_F1: 0.28804223578499805\n",
            "Epoch: 14 | Epoch Time: 0m 8s\n",
            "\tTrain Loss: 0.449 | Train Acc: 85.85% | Train_F1: 0.30712811937258794\n",
            "\t Val. Loss: 0.749 |  Val. Acc: 82.05% | Valid_F1: 0.31738363260829283\n",
            "Epoch: 15 | Epoch Time: 0m 8s\n",
            "\tTrain Loss: 0.423 | Train Acc: 86.55% | Train_F1: 0.33443571197464\n",
            "\t Val. Loss: 0.721 |  Val. Acc: 82.73% | Valid_F1: 0.3395617739436765\n",
            "Epoch: 16 | Epoch Time: 0m 8s\n",
            "\tTrain Loss: 0.399 | Train Acc: 87.14% | Train_F1: 0.36416278629780546\n",
            "\t Val. Loss: 0.696 |  Val. Acc: 83.55% | Valid_F1: 0.37905873070707286\n",
            "Epoch: 17 | Epoch Time: 0m 8s\n",
            "\tTrain Loss: 0.376 | Train Acc: 87.75% | Train_F1: 0.38859342739909963\n",
            "\t Val. Loss: 0.669 |  Val. Acc: 84.10% | Valid_F1: 0.39937959997654954\n",
            "Epoch: 18 | Epoch Time: 0m 8s\n",
            "\tTrain Loss: 0.354 | Train Acc: 88.39% | Train_F1: 0.4210316155370869\n",
            "\t Val. Loss: 0.644 |  Val. Acc: 85.10% | Valid_F1: 0.43560473488252727\n",
            "Epoch: 19 | Epoch Time: 0m 8s\n",
            "\tTrain Loss: 0.334 | Train Acc: 89.08% | Train_F1: 0.45219076829585375\n",
            "\t Val. Loss: 0.620 |  Val. Acc: 86.02% | Valid_F1: 0.47361003733398027\n",
            "Epoch: 20 | Epoch Time: 0m 8s\n",
            "\tTrain Loss: 0.317 | Train Acc: 89.71% | Train_F1: 0.4823450303640114\n",
            "\t Val. Loss: 0.600 |  Val. Acc: 87.55% | Valid_F1: 0.5217864516184002\n",
            "Epoch: 21 | Epoch Time: 0m 8s\n",
            "\tTrain Loss: 0.301 | Train Acc: 90.22% | Train_F1: 0.5018010904843185\n",
            "\t Val. Loss: 0.581 |  Val. Acc: 88.59% | Valid_F1: 0.5447926884573889\n",
            "Epoch: 22 | Epoch Time: 0m 8s\n",
            "\tTrain Loss: 0.287 | Train Acc: 90.74% | Train_F1: 0.5284131618676503\n",
            "\t Val. Loss: 0.563 |  Val. Acc: 89.29% | Valid_F1: 0.5647200268849694\n",
            "Epoch: 23 | Epoch Time: 0m 8s\n",
            "\tTrain Loss: 0.275 | Train Acc: 91.18% | Train_F1: 0.5427403547974918\n",
            "\t Val. Loss: 0.547 |  Val. Acc: 89.89% | Valid_F1: 0.5823717572731725\n",
            "Epoch: 24 | Epoch Time: 0m 8s\n",
            "\tTrain Loss: 0.264 | Train Acc: 91.56% | Train_F1: 0.5631968660976414\n",
            "\t Val. Loss: 0.533 |  Val. Acc: 90.44% | Valid_F1: 0.6016363265265907\n",
            "Epoch: 25 | Epoch Time: 0m 8s\n",
            "\tTrain Loss: 0.254 | Train Acc: 91.86% | Train_F1: 0.5782078705498063\n",
            "\t Val. Loss: 0.520 |  Val. Acc: 90.79% | Valid_F1: 0.617593280538952\n",
            "Epoch: 26 | Epoch Time: 0m 8s\n",
            "\tTrain Loss: 0.246 | Train Acc: 92.09% | Train_F1: 0.592971954138426\n",
            "\t Val. Loss: 0.509 |  Val. Acc: 91.13% | Valid_F1: 0.6336985863500081\n",
            "Epoch: 27 | Epoch Time: 0m 8s\n",
            "\tTrain Loss: 0.238 | Train Acc: 92.46% | Train_F1: 0.6129704674017441\n",
            "\t Val. Loss: 0.498 |  Val. Acc: 91.62% | Valid_F1: 0.6532713179512408\n",
            "Epoch: 28 | Epoch Time: 0m 8s\n",
            "\tTrain Loss: 0.231 | Train Acc: 92.64% | Train_F1: 0.614617072046008\n",
            "\t Val. Loss: 0.488 |  Val. Acc: 91.86% | Valid_F1: 0.6656701006943939\n",
            "Epoch: 29 | Epoch Time: 0m 8s\n",
            "\tTrain Loss: 0.224 | Train Acc: 92.84% | Train_F1: 0.6257011782973403\n",
            "\t Val. Loss: 0.478 |  Val. Acc: 92.16% | Valid_F1: 0.6763483251184654\n",
            "Epoch: 30 | Epoch Time: 0m 8s\n",
            "\tTrain Loss: 0.219 | Train Acc: 93.05% | Train_F1: 0.6330815518418729\n",
            "\t Val. Loss: 0.468 |  Val. Acc: 92.40% | Valid_F1: 0.6839141975942116\n",
            "Epoch: 31 | Epoch Time: 0m 8s\n",
            "\tTrain Loss: 0.213 | Train Acc: 93.23% | Train_F1: 0.6497309188687692\n",
            "\t Val. Loss: 0.460 |  Val. Acc: 92.54% | Valid_F1: 0.6900829922670926\n",
            "Epoch: 32 | Epoch Time: 0m 8s\n",
            "\tTrain Loss: 0.209 | Train Acc: 93.41% | Train_F1: 0.6564489729930788\n",
            "\t Val. Loss: 0.452 |  Val. Acc: 92.75% | Valid_F1: 0.6989386383572008\n",
            "Epoch: 33 | Epoch Time: 0m 8s\n",
            "\tTrain Loss: 0.203 | Train Acc: 93.62% | Train_F1: 0.6697051977392151\n",
            "\t Val. Loss: 0.445 |  Val. Acc: 92.96% | Valid_F1: 0.709687475243863\n",
            "Epoch: 34 | Epoch Time: 0m 8s\n",
            "\tTrain Loss: 0.198 | Train Acc: 93.74% | Train_F1: 0.6708129782255576\n",
            "\t Val. Loss: 0.438 |  Val. Acc: 93.11% | Valid_F1: 0.7151423919321579\n",
            "Epoch: 35 | Epoch Time: 0m 8s\n",
            "\tTrain Loss: 0.194 | Train Acc: 93.88% | Train_F1: 0.6729117136490864\n",
            "\t Val. Loss: 0.432 |  Val. Acc: 93.21% | Valid_F1: 0.7211611192009579\n",
            "Epoch: 36 | Epoch Time: 0m 8s\n",
            "\tTrain Loss: 0.192 | Train Acc: 93.93% | Train_F1: 0.6816797404134999\n",
            "\t Val. Loss: 0.426 |  Val. Acc: 93.29% | Valid_F1: 0.7252026246533662\n",
            "Epoch: 37 | Epoch Time: 0m 8s\n",
            "\tTrain Loss: 0.188 | Train Acc: 94.11% | Train_F1: 0.6940915600133123\n",
            "\t Val. Loss: 0.420 |  Val. Acc: 93.40% | Valid_F1: 0.7246132462170777\n",
            "Epoch: 38 | Epoch Time: 0m 8s\n",
            "\tTrain Loss: 0.183 | Train Acc: 94.23% | Train_F1: 0.6929807091859295\n",
            "\t Val. Loss: 0.415 |  Val. Acc: 93.51% | Valid_F1: 0.7354389649584963\n",
            "Epoch: 39 | Epoch Time: 0m 8s\n",
            "\tTrain Loss: 0.181 | Train Acc: 94.33% | Train_F1: 0.6967235591127193\n",
            "\t Val. Loss: 0.408 |  Val. Acc: 93.68% | Valid_F1: 0.734290142443952\n",
            "Epoch: 40 | Epoch Time: 0m 8s\n",
            "\tTrain Loss: 0.177 | Train Acc: 94.38% | Train_F1: 0.6953525500995468\n",
            "\t Val. Loss: 0.404 |  Val. Acc: 93.77% | Valid_F1: 0.7429603263122609\n",
            "Epoch: 41 | Epoch Time: 0m 8s\n",
            "\tTrain Loss: 0.174 | Train Acc: 94.45% | Train_F1: 0.701518874289961\n",
            "\t Val. Loss: 0.398 |  Val. Acc: 93.79% | Valid_F1: 0.7380458806510048\n",
            "Epoch: 42 | Epoch Time: 0m 8s\n",
            "\tTrain Loss: 0.170 | Train Acc: 94.66% | Train_F1: 0.7195220202715022\n",
            "\t Val. Loss: 0.394 |  Val. Acc: 93.94% | Valid_F1: 0.7521813352200315\n",
            "Epoch: 43 | Epoch Time: 0m 8s\n",
            "\tTrain Loss: 0.168 | Train Acc: 94.67% | Train_F1: 0.706524697805203\n",
            "\t Val. Loss: 0.389 |  Val. Acc: 94.13% | Valid_F1: 0.7553921400745995\n",
            "Epoch: 44 | Epoch Time: 0m 8s\n",
            "\tTrain Loss: 0.165 | Train Acc: 94.80% | Train_F1: 0.7117000478518403\n",
            "\t Val. Loss: 0.384 |  Val. Acc: 94.17% | Valid_F1: 0.7591165066289092\n",
            "Epoch: 45 | Epoch Time: 0m 8s\n",
            "\tTrain Loss: 0.161 | Train Acc: 94.98% | Train_F1: 0.7213521028356044\n",
            "\t Val. Loss: 0.380 |  Val. Acc: 94.26% | Valid_F1: 0.760937215019564\n",
            "Epoch: 46 | Epoch Time: 0m 8s\n",
            "\tTrain Loss: 0.159 | Train Acc: 94.95% | Train_F1: 0.7213868390056495\n",
            "\t Val. Loss: 0.375 |  Val. Acc: 94.33% | Valid_F1: 0.7630214993793859\n",
            "Epoch: 47 | Epoch Time: 0m 8s\n",
            "\tTrain Loss: 0.158 | Train Acc: 95.00% | Train_F1: 0.7212930567681868\n",
            "\t Val. Loss: 0.372 |  Val. Acc: 94.44% | Valid_F1: 0.7680249365905593\n",
            "Epoch: 48 | Epoch Time: 0m 8s\n",
            "\tTrain Loss: 0.155 | Train Acc: 95.13% | Train_F1: 0.7279886225166419\n",
            "\t Val. Loss: 0.368 |  Val. Acc: 94.49% | Valid_F1: 0.7696144038800609\n",
            "Epoch: 49 | Epoch Time: 0m 8s\n",
            "\tTrain Loss: 0.152 | Train Acc: 95.22% | Train_F1: 0.7264927151788417\n",
            "\t Val. Loss: 0.363 |  Val. Acc: 94.57% | Valid_F1: 0.7703018800006748\n",
            "Epoch: 50 | Epoch Time: 0m 8s\n",
            "\tTrain Loss: 0.149 | Train Acc: 95.28% | Train_F1: 0.7292229695609852\n",
            "\t Val. Loss: 0.360 |  Val. Acc: 94.71% | Valid_F1: 0.7768230489619852\n",
            "Epoch: 51 | Epoch Time: 0m 8s\n",
            "\tTrain Loss: 0.147 | Train Acc: 95.36% | Train_F1: 0.7322322429886687\n",
            "\t Val. Loss: 0.356 |  Val. Acc: 94.75% | Valid_F1: 0.7764436468121385\n",
            "Epoch: 52 | Epoch Time: 0m 8s\n",
            "\tTrain Loss: 0.145 | Train Acc: 95.41% | Train_F1: 0.7325688707530901\n",
            "\t Val. Loss: 0.352 |  Val. Acc: 94.86% | Valid_F1: 0.783423726721445\n",
            "Epoch: 53 | Epoch Time: 0m 8s\n",
            "\tTrain Loss: 0.144 | Train Acc: 95.49% | Train_F1: 0.7414786032643829\n",
            "\t Val. Loss: 0.349 |  Val. Acc: 94.94% | Valid_F1: 0.7828342939756819\n",
            "Epoch: 54 | Epoch Time: 0m 8s\n",
            "\tTrain Loss: 0.142 | Train Acc: 95.46% | Train_F1: 0.7406121379200248\n",
            "\t Val. Loss: 0.345 |  Val. Acc: 95.03% | Valid_F1: 0.7883319332255639\n",
            "Epoch: 55 | Epoch Time: 0m 8s\n",
            "\tTrain Loss: 0.139 | Train Acc: 95.59% | Train_F1: 0.7425958543127731\n",
            "\t Val. Loss: 0.342 |  Val. Acc: 95.08% | Valid_F1: 0.7896713144471816\n",
            "Epoch: 56 | Epoch Time: 0m 8s\n",
            "\tTrain Loss: 0.137 | Train Acc: 95.68% | Train_F1: 0.7493405904847165\n",
            "\t Val. Loss: 0.339 |  Val. Acc: 95.13% | Valid_F1: 0.7922506933639873\n",
            "Epoch: 57 | Epoch Time: 0m 8s\n",
            "\tTrain Loss: 0.135 | Train Acc: 95.76% | Train_F1: 0.754238985682141\n",
            "\t Val. Loss: 0.335 |  Val. Acc: 95.17% | Valid_F1: 0.7925052440218463\n",
            "Epoch: 58 | Epoch Time: 0m 8s\n",
            "\tTrain Loss: 0.134 | Train Acc: 95.80% | Train_F1: 0.7506100227240514\n",
            "\t Val. Loss: 0.332 |  Val. Acc: 95.20% | Valid_F1: 0.7975908988843814\n",
            "Epoch: 59 | Epoch Time: 0m 8s\n",
            "\tTrain Loss: 0.132 | Train Acc: 95.86% | Train_F1: 0.7561208787101199\n",
            "\t Val. Loss: 0.329 |  Val. Acc: 95.27% | Valid_F1: 0.7986583152080831\n",
            "Epoch: 60 | Epoch Time: 0m 8s\n",
            "\tTrain Loss: 0.130 | Train Acc: 95.85% | Train_F1: 0.74494736932643\n",
            "\t Val. Loss: 0.327 |  Val. Acc: 95.24% | Valid_F1: 0.7903610741679746\n",
            "Epoch: 61 | Epoch Time: 0m 8s\n",
            "\tTrain Loss: 0.129 | Train Acc: 95.92% | Train_F1: 0.7549924279325216\n",
            "\t Val. Loss: 0.323 |  Val. Acc: 95.35% | Valid_F1: 0.7943335235630277\n",
            "Epoch: 62 | Epoch Time: 0m 8s\n",
            "\tTrain Loss: 0.126 | Train Acc: 95.98% | Train_F1: 0.7719345193703977\n",
            "\t Val. Loss: 0.320 |  Val. Acc: 95.37% | Valid_F1: 0.7965672657465167\n",
            "Epoch: 63 | Epoch Time: 0m 8s\n",
            "\tTrain Loss: 0.126 | Train Acc: 96.00% | Train_F1: 0.7581474591980784\n",
            "\t Val. Loss: 0.317 |  Val. Acc: 95.47% | Valid_F1: 0.7972287487920343\n",
            "Epoch: 64 | Epoch Time: 0m 8s\n",
            "\tTrain Loss: 0.124 | Train Acc: 96.05% | Train_F1: 0.7505592806983306\n",
            "\t Val. Loss: 0.314 |  Val. Acc: 95.47% | Valid_F1: 0.7976570254031491\n",
            "Epoch: 65 | Epoch Time: 0m 8s\n",
            "\tTrain Loss: 0.122 | Train Acc: 96.09% | Train_F1: 0.7616635960714715\n",
            "\t Val. Loss: 0.312 |  Val. Acc: 95.56% | Valid_F1: 0.7998303329100364\n",
            "Epoch: 66 | Epoch Time: 0m 8s\n",
            "\tTrain Loss: 0.121 | Train Acc: 96.18% | Train_F1: 0.7632872383639023\n",
            "\t Val. Loss: 0.309 |  Val. Acc: 95.61% | Valid_F1: 0.8025208617359685\n",
            "Epoch: 67 | Epoch Time: 0m 8s\n",
            "\tTrain Loss: 0.120 | Train Acc: 96.21% | Train_F1: 0.7612428566277881\n",
            "\t Val. Loss: 0.307 |  Val. Acc: 95.62% | Valid_F1: 0.8018970076141935\n",
            "Epoch: 68 | Epoch Time: 0m 8s\n",
            "\tTrain Loss: 0.118 | Train Acc: 96.29% | Train_F1: 0.7665244218857896\n",
            "\t Val. Loss: 0.304 |  Val. Acc: 95.67% | Valid_F1: 0.8039164592382255\n",
            "Epoch: 69 | Epoch Time: 0m 8s\n",
            "\tTrain Loss: 0.116 | Train Acc: 96.29% | Train_F1: 0.765803241174472\n",
            "\t Val. Loss: 0.302 |  Val. Acc: 95.68% | Valid_F1: 0.8047665536167244\n",
            "Epoch: 70 | Epoch Time: 0m 8s\n",
            "\tTrain Loss: 0.114 | Train Acc: 96.39% | Train_F1: 0.7631973972867484\n",
            "\t Val. Loss: 0.300 |  Val. Acc: 95.68% | Valid_F1: 0.8042449589302152\n",
            "Epoch: 71 | Epoch Time: 0m 8s\n",
            "\tTrain Loss: 0.113 | Train Acc: 96.42% | Train_F1: 0.7749035530836884\n",
            "\t Val. Loss: 0.297 |  Val. Acc: 95.74% | Valid_F1: 0.8075292981270185\n",
            "Epoch: 72 | Epoch Time: 0m 8s\n",
            "\tTrain Loss: 0.113 | Train Acc: 96.47% | Train_F1: 0.7694225104461235\n",
            "\t Val. Loss: 0.294 |  Val. Acc: 95.73% | Valid_F1: 0.8051990285867949\n",
            "Epoch: 73 | Epoch Time: 0m 8s\n",
            "\tTrain Loss: 0.111 | Train Acc: 96.51% | Train_F1: 0.7769499715043426\n",
            "\t Val. Loss: 0.292 |  Val. Acc: 95.78% | Valid_F1: 0.8074025624183252\n",
            "Epoch: 74 | Epoch Time: 0m 8s\n",
            "\tTrain Loss: 0.109 | Train Acc: 96.54% | Train_F1: 0.7825116286153873\n",
            "\t Val. Loss: 0.290 |  Val. Acc: 95.81% | Valid_F1: 0.8101085550313626\n",
            "Epoch: 75 | Epoch Time: 0m 8s\n",
            "\tTrain Loss: 0.108 | Train Acc: 96.61% | Train_F1: 0.7849539275831106\n",
            "\t Val. Loss: 0.287 |  Val. Acc: 95.84% | Valid_F1: 0.8119486054789903\n",
            "Epoch: 76 | Epoch Time: 0m 8s\n",
            "\tTrain Loss: 0.108 | Train Acc: 96.61% | Train_F1: 0.7805399576054579\n",
            "\t Val. Loss: 0.285 |  Val. Acc: 95.91% | Valid_F1: 0.8127726526499979\n",
            "Epoch: 77 | Epoch Time: 0m 8s\n",
            "\tTrain Loss: 0.107 | Train Acc: 96.66% | Train_F1: 0.7782020358725318\n",
            "\t Val. Loss: 0.283 |  Val. Acc: 95.95% | Valid_F1: 0.8149817419919966\n",
            "Epoch: 78 | Epoch Time: 0m 8s\n",
            "\tTrain Loss: 0.105 | Train Acc: 96.67% | Train_F1: 0.7822299366707492\n",
            "\t Val. Loss: 0.281 |  Val. Acc: 95.89% | Valid_F1: 0.8114376019380278\n",
            "Epoch: 79 | Epoch Time: 0m 8s\n",
            "\tTrain Loss: 0.104 | Train Acc: 96.76% | Train_F1: 0.7783494905292024\n",
            "\t Val. Loss: 0.278 |  Val. Acc: 95.94% | Valid_F1: 0.8139231120576718\n",
            "Epoch: 80 | Epoch Time: 0m 8s\n",
            "\tTrain Loss: 0.103 | Train Acc: 96.76% | Train_F1: 0.7747165252823267\n",
            "\t Val. Loss: 0.276 |  Val. Acc: 96.00% | Valid_F1: 0.8149225658880893\n",
            "Epoch: 81 | Epoch Time: 0m 8s\n",
            "\tTrain Loss: 0.101 | Train Acc: 96.78% | Train_F1: 0.7902292997606074\n",
            "\t Val. Loss: 0.275 |  Val. Acc: 95.99% | Valid_F1: 0.8148233434348848\n",
            "Epoch: 82 | Epoch Time: 0m 8s\n",
            "\tTrain Loss: 0.101 | Train Acc: 96.83% | Train_F1: 0.7821672511393619\n",
            "\t Val. Loss: 0.272 |  Val. Acc: 96.04% | Valid_F1: 0.8168318225420405\n",
            "Epoch: 83 | Epoch Time: 0m 8s\n",
            "\tTrain Loss: 0.100 | Train Acc: 96.85% | Train_F1: 0.7933812110791906\n",
            "\t Val. Loss: 0.270 |  Val. Acc: 96.10% | Valid_F1: 0.8190443116235245\n",
            "Epoch: 84 | Epoch Time: 0m 8s\n",
            "\tTrain Loss: 0.098 | Train Acc: 96.87% | Train_F1: 0.7826455076927437\n",
            "\t Val. Loss: 0.268 |  Val. Acc: 96.12% | Valid_F1: 0.8204770360357684\n",
            "Epoch: 85 | Epoch Time: 0m 8s\n",
            "\tTrain Loss: 0.097 | Train Acc: 96.88% | Train_F1: 0.7890664539932544\n",
            "\t Val. Loss: 0.266 |  Val. Acc: 96.09% | Valid_F1: 0.8181274716134312\n",
            "Epoch: 86 | Epoch Time: 0m 8s\n",
            "\tTrain Loss: 0.097 | Train Acc: 96.98% | Train_F1: 0.7856792471090741\n",
            "\t Val. Loss: 0.264 |  Val. Acc: 96.27% | Valid_F1: 0.82462802611235\n",
            "Epoch: 87 | Epoch Time: 0m 8s\n",
            "\tTrain Loss: 0.096 | Train Acc: 96.94% | Train_F1: 0.7946164550033187\n",
            "\t Val. Loss: 0.262 |  Val. Acc: 96.19% | Valid_F1: 0.8217692476484267\n",
            "Epoch: 88 | Epoch Time: 0m 8s\n",
            "\tTrain Loss: 0.094 | Train Acc: 96.99% | Train_F1: 0.789747363029422\n",
            "\t Val. Loss: 0.260 |  Val. Acc: 96.30% | Valid_F1: 0.8249497875772261\n",
            "Epoch: 89 | Epoch Time: 0m 8s\n",
            "\tTrain Loss: 0.093 | Train Acc: 97.06% | Train_F1: 0.7911652302732967\n",
            "\t Val. Loss: 0.258 |  Val. Acc: 96.37% | Valid_F1: 0.8271735593871865\n",
            "Epoch: 90 | Epoch Time: 0m 8s\n",
            "\tTrain Loss: 0.092 | Train Acc: 97.09% | Train_F1: 0.7931496700223486\n",
            "\t Val. Loss: 0.256 |  Val. Acc: 96.38% | Valid_F1: 0.828350857483133\n",
            "Epoch: 91 | Epoch Time: 0m 8s\n",
            "\tTrain Loss: 0.092 | Train Acc: 97.09% | Train_F1: 0.7931949132609284\n",
            "\t Val. Loss: 0.255 |  Val. Acc: 96.40% | Valid_F1: 0.8285632222506311\n",
            "Epoch: 92 | Epoch Time: 0m 8s\n",
            "\tTrain Loss: 0.090 | Train Acc: 97.13% | Train_F1: 0.7912683522330122\n",
            "\t Val. Loss: 0.253 |  Val. Acc: 96.42% | Valid_F1: 0.8294156082819165\n",
            "Epoch: 93 | Epoch Time: 0m 8s\n",
            "\tTrain Loss: 0.090 | Train Acc: 97.17% | Train_F1: 0.7956450754996979\n",
            "\t Val. Loss: 0.251 |  Val. Acc: 96.41% | Valid_F1: 0.8293926854778544\n",
            "Epoch: 94 | Epoch Time: 0m 8s\n",
            "\tTrain Loss: 0.088 | Train Acc: 97.18% | Train_F1: 0.7921817313742611\n",
            "\t Val. Loss: 0.250 |  Val. Acc: 96.43% | Valid_F1: 0.8287054696473678\n",
            "Epoch: 95 | Epoch Time: 0m 8s\n",
            "\tTrain Loss: 0.088 | Train Acc: 97.20% | Train_F1: 0.8040195960569526\n",
            "\t Val. Loss: 0.248 |  Val. Acc: 96.45% | Valid_F1: 0.83005474777152\n",
            "Epoch: 96 | Epoch Time: 0m 8s\n",
            "\tTrain Loss: 0.086 | Train Acc: 97.23% | Train_F1: 0.7968263255117216\n",
            "\t Val. Loss: 0.246 |  Val. Acc: 96.51% | Valid_F1: 0.8328113937228158\n",
            "Epoch: 97 | Epoch Time: 0m 8s\n",
            "\tTrain Loss: 0.085 | Train Acc: 97.26% | Train_F1: 0.7928048385739624\n",
            "\t Val. Loss: 0.244 |  Val. Acc: 96.51% | Valid_F1: 0.8315459068611731\n",
            "Epoch: 98 | Epoch Time: 0m 8s\n",
            "\tTrain Loss: 0.085 | Train Acc: 97.30% | Train_F1: 0.8008232906691335\n",
            "\t Val. Loss: 0.242 |  Val. Acc: 96.54% | Valid_F1: 0.8327418627565174\n",
            "Epoch: 99 | Epoch Time: 0m 8s\n",
            "\tTrain Loss: 0.085 | Train Acc: 97.30% | Train_F1: 0.8003949475581261\n",
            "\t Val. Loss: 0.240 |  Val. Acc: 96.57% | Valid_F1: 0.8333147205638144\n",
            "Epoch: 100 | Epoch Time: 0m 8s\n",
            "\tTrain Loss: 0.083 | Train Acc: 97.36% | Train_F1: 0.7982353207551787\n",
            "\t Val. Loss: 0.240 |  Val. Acc: 96.57% | Valid_F1: 0.8333933795722201\n"
          ],
          "name": "stdout"
        }
      ]
    },
    {
      "cell_type": "code",
      "metadata": {
        "id": "EnbNBGFoteFX",
        "colab_type": "code",
        "colab": {
          "base_uri": "https://localhost:8080/",
          "height": 34
        },
        "outputId": "63a07e10-e7ec-49e4-e9aa-5e63efb106d8"
      },
      "source": [
        "model.load_state_dict(torch.load('best_f1_bilstmmodel.pt'))\n",
        "\n",
        "test_loss, test_acc,test_f1 = evaluate(model, test_iter, criterion, TAG_PAD_IDX)\n",
        "\n",
        "print(f'Test Loss: {test_loss:.3f} |  Test Acc: {test_acc*100:.2f}% | Test_F1: {test_f1}')"
      ],
      "execution_count": 222,
      "outputs": [
        {
          "output_type": "stream",
          "text": [
            "Test Loss: 0.318 |  Test Acc: 94.57% | Test_F1: 0.7343369025854302\n"
          ],
          "name": "stdout"
        }
      ]
    },
    {
      "cell_type": "code",
      "metadata": {
        "id": "J9kf6M7PteCC",
        "colab_type": "code",
        "colab": {}
      },
      "source": [
        ""
      ],
      "execution_count": 0,
      "outputs": []
    },
    {
      "cell_type": "code",
      "metadata": {
        "id": "IaMRwC5MX0Y1",
        "colab_type": "code",
        "colab": {}
      },
      "source": [
        "def tag_sentence(model, device, sentence, text_field, tag_field):\n",
        "    \n",
        "    model.eval()\n",
        "    \n",
        "    if isinstance(sentence, str):\n",
        "        nlp = spacy.load('en')\n",
        "        tokens = [token.text for token in nlp(sentence)]\n",
        "    else:\n",
        "        tokens = [token for token in sentence]\n",
        "\n",
        "    if text_field.lower:\n",
        "        tokens = [t.lower() for t in tokens]\n",
        "        \n",
        "    numericalized_tokens = [text_field.vocab.stoi[t] for t in tokens]\n",
        "\n",
        "    unk_idx = text_field.vocab.stoi[text_field.unk_token]\n",
        "    \n",
        "    unks = [t for t, n in zip(tokens, numericalized_tokens) if n == unk_idx]\n",
        "    \n",
        "    token_tensor = torch.LongTensor(numericalized_tokens)\n",
        "    \n",
        "    token_tensor = token_tensor.unsqueeze(-1).to(device)\n",
        "         \n",
        "    predictions = model(token_tensor)\n",
        "    \n",
        "    top_predictions = predictions.argmax(-1)\n",
        "    \n",
        "    predicted_tags = [tag_field.vocab.itos[t.item()] for t in top_predictions]\n",
        "    \n",
        "    return tokens, predicted_tags, unks"
      ],
      "execution_count": 0,
      "outputs": []
    },
    {
      "cell_type": "code",
      "metadata": {
        "id": "johHmAKHX0Y3",
        "colab_type": "code",
        "outputId": "ac7c3208-b3dc-48ca-921c-fef8e54f3dde",
        "colab": {
          "base_uri": "https://localhost:8080/",
          "height": 34
        }
      },
      "source": [
        "example_index = 1\n",
        "\n",
        "sentence = 'The Queen will deliver a speech about the conflict in North Korea at 1pm tomorrow.'\n",
        "\n",
        "\n",
        "print(sentence)"
      ],
      "execution_count": 41,
      "outputs": [
        {
          "output_type": "stream",
          "text": [
            "The Queen will deliver a speech about the conflict in North Korea at 1pm tomorrow.\n"
          ],
          "name": "stdout"
        }
      ]
    },
    {
      "cell_type": "code",
      "metadata": {
        "id": "-TlCvtpYX0Y6",
        "colab_type": "code",
        "outputId": "6f4181a7-05b3-451d-a056-fc7162d09b57",
        "colab": {
          "base_uri": "https://localhost:8080/",
          "height": 52
        }
      },
      "source": [
        "import spacy\n",
        "tokens, pred_tags, unks = tag_sentence(model, \n",
        "                                       device, \n",
        "                                       sentence, \n",
        "                                       input_field, \n",
        "                                       label_field)\n",
        "\n",
        "print(pred_tags)\n",
        "print(tokens)"
      ],
      "execution_count": 47,
      "outputs": [
        {
          "output_type": "stream",
          "text": [
            "['O', 'O', 'O', 'O', 'O', 'O', 'O', 'O', 'O', 'O', 'O', 'I-LOC', 'O', 'O', 'O', 'O', 'O']\n",
            "['the', 'queen', 'will', 'deliver', 'a', 'speech', 'about', 'the', 'conflict', 'in', 'north', 'korea', 'at', '1', 'pm', 'tomorrow', '.']\n"
          ],
          "name": "stdout"
        }
      ]
    },
    {
      "cell_type": "code",
      "metadata": {
        "id": "U1UqTJhnX0Y9",
        "colab_type": "code",
        "outputId": "f7b770c3-a59a-46bc-eae8-6761c05b7d29",
        "colab": {}
      },
      "source": [
        "print(\"Pred. Tag\\tActual Tag\\tCorrect?\\tToken\\n\")\n",
        "\n",
        "for token, pred_tag, actual_tag in zip(tokens, pred_tags, actual_tags):\n",
        "    correct = '✔' if pred_tag == actual_tag else '✘'\n",
        "    print(f\"{pred_tag}\\t\\t{actual_tag}\\t\\t{correct}\\t\\t{token}\")"
      ],
      "execution_count": 0,
      "outputs": [
        {
          "output_type": "stream",
          "text": [
            "Pred. Tag\tActual Tag\tCorrect?\tToken\n",
            "\n",
            "PUNCT\t\tPUNCT\t\t✔\t\t[\n",
            "DET\t\tDET\t\t✔\t\tthis\n",
            "NOUN\t\tNOUN\t\t✔\t\tkilling\n",
            "ADP\t\tADP\t\t✔\t\tof\n",
            "DET\t\tDET\t\t✔\t\ta\n",
            "ADJ\t\tADJ\t\t✔\t\trespected\n",
            "NOUN\t\tNOUN\t\t✔\t\tcleric\n",
            "AUX\t\tAUX\t\t✔\t\twill\n",
            "AUX\t\tAUX\t\t✔\t\tbe\n",
            "VERB\t\tVERB\t\t✔\t\tcausing\n",
            "PRON\t\tPRON\t\t✔\t\tus\n",
            "NOUN\t\tNOUN\t\t✔\t\ttrouble\n",
            "ADP\t\tADP\t\t✔\t\tfor\n",
            "NOUN\t\tNOUN\t\t✔\t\tyears\n",
            "PART\t\tPART\t\t✔\t\tto\n",
            "VERB\t\tVERB\t\t✔\t\tcome\n",
            "PUNCT\t\tPUNCT\t\t✔\t\t.\n",
            "PUNCT\t\tPUNCT\t\t✔\t\t]\n"
          ],
          "name": "stdout"
        }
      ]
    },
    {
      "cell_type": "code",
      "metadata": {
        "id": "NOQBmbWLX0Y_",
        "colab_type": "code",
        "outputId": "cdebf044-42f1-4713-b8f2-b2b781bf41bb",
        "colab": {}
      },
      "source": [
        "sentence = 'The Queen will deliver a speech about the conflict in North Korea at 1pm tomorrow.'\n",
        "\n",
        "tokens, tags, unks = tag_sentence(model, \n",
        "                                  device, \n",
        "                                  sentence, \n",
        "                                  TEXT, \n",
        "                                  UD_TAGS)\n",
        "\n",
        "print(unks)"
      ],
      "execution_count": 0,
      "outputs": [
        {
          "output_type": "stream",
          "text": [
            "[]\n"
          ],
          "name": "stdout"
        }
      ]
    },
    {
      "cell_type": "code",
      "metadata": {
        "id": "wu9_5I4CX0ZC",
        "colab_type": "code",
        "outputId": "37486a25-fd87-4d9a-9f1f-0e72aefef369",
        "colab": {}
      },
      "source": [
        "print(\"Pred. Tag\\tToken\\n\")\n",
        "\n",
        "for token, tag in zip(tokens, tags):\n",
        "    print(f\"{tag}\\t\\t{token}\")"
      ],
      "execution_count": 0,
      "outputs": [
        {
          "output_type": "stream",
          "text": [
            "Pred. Tag\tToken\n",
            "\n",
            "DET\t\tthe\n",
            "NOUN\t\tqueen\n",
            "AUX\t\twill\n",
            "VERB\t\tdeliver\n",
            "DET\t\ta\n",
            "NOUN\t\tspeech\n",
            "ADP\t\tabout\n",
            "DET\t\tthe\n",
            "NOUN\t\tconflict\n",
            "ADP\t\tin\n",
            "PROPN\t\tnorth\n",
            "PROPN\t\tkorea\n",
            "ADP\t\tat\n",
            "NUM\t\t1\n",
            "NOUN\t\tpm\n",
            "NOUN\t\ttomorrow\n",
            "PUNCT\t\t.\n"
          ],
          "name": "stdout"
        }
      ]
    },
    {
      "cell_type": "code",
      "metadata": {
        "id": "3bBXEUhYtd_X",
        "colab_type": "code",
        "colab": {}
      },
      "source": [
        ""
      ],
      "execution_count": 0,
      "outputs": []
    },
    {
      "cell_type": "code",
      "metadata": {
        "id": "yep9Q0Zgtd8Y",
        "colab_type": "code",
        "colab": {}
      },
      "source": [
        ""
      ],
      "execution_count": 0,
      "outputs": []
    },
    {
      "cell_type": "code",
      "metadata": {
        "id": "1HSUqqwMtd3F",
        "colab_type": "code",
        "colab": {}
      },
      "source": [
        ""
      ],
      "execution_count": 0,
      "outputs": []
    },
    {
      "cell_type": "code",
      "metadata": {
        "id": "HneFG4BRtdzm",
        "colab_type": "code",
        "colab": {}
      },
      "source": [
        ""
      ],
      "execution_count": 0,
      "outputs": []
    },
    {
      "cell_type": "code",
      "metadata": {
        "id": "uFytRdKrUwHO",
        "colab_type": "code",
        "colab": {}
      },
      "source": [
        "device = torch.device(\"cpu\")\n",
        "def loss_fn(outputs, labels):\n",
        "  TAG_PAD_IDX =text_vocab.stoi[input_field.pad_token]\n",
        "  criterion = nn.CrossEntropyLoss(ignore_index = TAG_PAD_IDX)\n",
        "  criterion = criterion.to(device)\n",
        "  scores = criterion(outputs, labels)\n",
        "  return scores\n",
        "\n",
        "def clip_gradient(model, clip_value):\n",
        "    params = list(filter(lambda p: p.grad is not None, model.parameters()))\n",
        "    for p in params:\n",
        "        p.grad.data.clamp_(-clip_value, clip_value)\n",
        "    \n",
        "def train_model(model, train_iter, epoch):\n",
        "    total_epoch_loss = 0\n",
        "    total_epoch_acc = 0\n",
        "    model.to(device)\n",
        "    \n",
        "    optim = torch.optim.Adam(filter(lambda p: p.requires_grad, model.parameters()))\n",
        "    steps = 0\n",
        "    model.train()\n",
        "    for idx, batch in enumerate(train_iter):\n",
        "        text = batch.inputs_word\n",
        "       \n",
        "        target = batch.labels\n",
        "        target = torch.autograd.Variable(target).long()\n",
        "        if torch.cuda.is_available():\n",
        "            text = text.to(device)\n",
        "            target = target.to(device)\n",
        "        if (text.size()[0] is not 64):# One of the batch returned by BucketIterator has length different than 32.\n",
        "            continue\n",
        "        optim.zero_grad()\n",
        "        prediction = model(text)\n",
        "        loss = loss_fn(prediction, target)\n",
        "        num_corrects = (torch.max(prediction, 1)[1].view(target.size()).data == target.data).float().sum()\n",
        "        acc = 100.0 * num_corrects/len(batch)\n",
        "        loss.backward()\n",
        "        clip_gradient(model, 1e-1)\n",
        "        optim.step()\n",
        "        steps += 1\n",
        "        \n",
        "        if steps % 100 == 0:\n",
        "            print (f'Epoch: {epoch+1}, Idx: {idx+1}, Training Loss: {loss.item():.4f}, Training Accuracy: {acc.item(): .2f}%')\n",
        "        \n",
        "        total_epoch_loss += loss.item()\n",
        "        total_epoch_acc += acc.item()\n",
        "        \n",
        "    return total_epoch_loss/len(train_iter), total_epoch_acc/len(train_iter)\n",
        "\n",
        "def eval_model(model, val_iter):\n",
        "    total_epoch_loss = 0\n",
        "    total_epoch_acc = 0\n",
        "    model.eval()\n",
        "    with torch.no_grad():\n",
        "        for idx, batch in enumerate(val_iter):\n",
        "            text = batch.inputs_word\n",
        "            if (text.size()[0] is not 64):\n",
        "                continue\n",
        "            target = batch.labels\n",
        "            target = torch.autograd.Variable(target).long()\n",
        "            if torch.cuda.is_available():\n",
        "                text = text.cuda()\n",
        "                target = target.cuda()\n",
        "            predictions = model(text)\n",
        "\n",
        "            predictions = predictions.view(-1, predictions.shape[-1])\n",
        "            target = target.view(-1)\n",
        "            \n",
        "            loss = loss_fn(predictions, target)\n",
        "            num_corrects = (torch.max(predictions, 1)[1].view(target.size()).data == target.data).sum()\n",
        "            acc = 100.0 * num_corrects/len(batch)\n",
        "            total_epoch_loss += loss.item()\n",
        "            total_epoch_acc += acc.item()\n",
        "\n",
        "    return total_epoch_loss/len(val_iter), total_epoch_acc/len(val_iter)\n",
        "\t\n",
        "\n"
      ],
      "execution_count": 0,
      "outputs": []
    },
    {
      "cell_type": "code",
      "metadata": {
        "id": "USEclqAO6Xo4",
        "colab_type": "code",
        "outputId": "60a85f29-ab42-4ec6-9315-2967d75125dd",
        "colab": {
          "base_uri": "https://localhost:8080/",
          "height": 430
        }
      },
      "source": [
        "learning_rate = 2e-5\n",
        "batch_size = 64\n",
        "\n",
        "\n",
        "for epoch in range(10):\n",
        "    train_loss, train_acc = train_model(model, train_iter, epoch)\n",
        "    val_loss, val_acc = eval_model(model, valid_iter)\n",
        "    \n",
        "    print(f'Epoch: {epoch+1:02}, Train Loss: {train_loss:.3f}, Train Acc: {train_acc:.2f}%, Val. Loss: {val_loss:3f}, Val. Acc: {val_acc:.2f}%')\n",
        "    \n",
        "test_loss, test_acc = eval_model(model, test_iter)\n",
        "print(f'Test Loss: {test_loss:.3f}, Test Acc: {test_acc:.2f}%')"
      ],
      "execution_count": 87,
      "outputs": [
        {
          "output_type": "stream",
          "text": [
            "Epoch: 01, Train Loss: 0.000, Train Acc: 0.00%, Val. Loss: 0.000000, Val. Acc: 0.00%\n",
            "Epoch: 02, Train Loss: 0.000, Train Acc: 0.00%, Val. Loss: 0.000000, Val. Acc: 0.00%\n",
            "Epoch: 03, Train Loss: 0.000, Train Acc: 0.00%, Val. Loss: 0.000000, Val. Acc: 0.00%\n"
          ],
          "name": "stdout"
        },
        {
          "output_type": "error",
          "ename": "KeyboardInterrupt",
          "evalue": "ignored",
          "traceback": [
            "\u001b[0;31m---------------------------------------------------------------------------\u001b[0m",
            "\u001b[0;31mKeyboardInterrupt\u001b[0m                         Traceback (most recent call last)",
            "\u001b[0;32m<ipython-input-87-6644f8df5110>\u001b[0m in \u001b[0;36m<module>\u001b[0;34m()\u001b[0m\n\u001b[1;32m      4\u001b[0m \u001b[0;34m\u001b[0m\u001b[0m\n\u001b[1;32m      5\u001b[0m \u001b[0;32mfor\u001b[0m \u001b[0mepoch\u001b[0m \u001b[0;32min\u001b[0m \u001b[0mrange\u001b[0m\u001b[0;34m(\u001b[0m\u001b[0;36m10\u001b[0m\u001b[0;34m)\u001b[0m\u001b[0;34m:\u001b[0m\u001b[0;34m\u001b[0m\u001b[0;34m\u001b[0m\u001b[0m\n\u001b[0;32m----> 6\u001b[0;31m     \u001b[0mtrain_loss\u001b[0m\u001b[0;34m,\u001b[0m \u001b[0mtrain_acc\u001b[0m \u001b[0;34m=\u001b[0m \u001b[0mtrain_model\u001b[0m\u001b[0;34m(\u001b[0m\u001b[0mmodel\u001b[0m\u001b[0;34m,\u001b[0m \u001b[0mtrain_iter\u001b[0m\u001b[0;34m,\u001b[0m \u001b[0mepoch\u001b[0m\u001b[0;34m)\u001b[0m\u001b[0;34m\u001b[0m\u001b[0;34m\u001b[0m\u001b[0m\n\u001b[0m\u001b[1;32m      7\u001b[0m     \u001b[0mval_loss\u001b[0m\u001b[0;34m,\u001b[0m \u001b[0mval_acc\u001b[0m \u001b[0;34m=\u001b[0m \u001b[0meval_model\u001b[0m\u001b[0;34m(\u001b[0m\u001b[0mmodel\u001b[0m\u001b[0;34m,\u001b[0m \u001b[0mvalid_iter\u001b[0m\u001b[0;34m)\u001b[0m\u001b[0;34m\u001b[0m\u001b[0;34m\u001b[0m\u001b[0m\n\u001b[1;32m      8\u001b[0m \u001b[0;34m\u001b[0m\u001b[0m\n",
            "\u001b[0;32m<ipython-input-86-313cefe7a521>\u001b[0m in \u001b[0;36mtrain_model\u001b[0;34m(model, train_iter, epoch)\u001b[0m\n\u001b[1;32m     20\u001b[0m     \u001b[0msteps\u001b[0m \u001b[0;34m=\u001b[0m \u001b[0;36m0\u001b[0m\u001b[0;34m\u001b[0m\u001b[0;34m\u001b[0m\u001b[0m\n\u001b[1;32m     21\u001b[0m     \u001b[0mmodel\u001b[0m\u001b[0;34m.\u001b[0m\u001b[0mtrain\u001b[0m\u001b[0;34m(\u001b[0m\u001b[0;34m)\u001b[0m\u001b[0;34m\u001b[0m\u001b[0;34m\u001b[0m\u001b[0m\n\u001b[0;32m---> 22\u001b[0;31m     \u001b[0;32mfor\u001b[0m \u001b[0midx\u001b[0m\u001b[0;34m,\u001b[0m \u001b[0mbatch\u001b[0m \u001b[0;32min\u001b[0m \u001b[0menumerate\u001b[0m\u001b[0;34m(\u001b[0m\u001b[0mtrain_iter\u001b[0m\u001b[0;34m)\u001b[0m\u001b[0;34m:\u001b[0m\u001b[0;34m\u001b[0m\u001b[0;34m\u001b[0m\u001b[0m\n\u001b[0m\u001b[1;32m     23\u001b[0m         \u001b[0mtext\u001b[0m \u001b[0;34m=\u001b[0m \u001b[0mbatch\u001b[0m\u001b[0;34m.\u001b[0m\u001b[0minputs_word\u001b[0m\u001b[0;34m\u001b[0m\u001b[0;34m\u001b[0m\u001b[0m\n\u001b[1;32m     24\u001b[0m \u001b[0;34m\u001b[0m\u001b[0m\n",
            "\u001b[0;32m/usr/local/lib/python3.6/dist-packages/torchtext/data/iterator.py\u001b[0m in \u001b[0;36m__iter__\u001b[0;34m(self)\u001b[0m\n\u001b[1;32m    155\u001b[0m                     \u001b[0;32melse\u001b[0m\u001b[0;34m:\u001b[0m\u001b[0;34m\u001b[0m\u001b[0;34m\u001b[0m\u001b[0m\n\u001b[1;32m    156\u001b[0m                         \u001b[0mminibatch\u001b[0m\u001b[0;34m.\u001b[0m\u001b[0msort\u001b[0m\u001b[0;34m(\u001b[0m\u001b[0mkey\u001b[0m\u001b[0;34m=\u001b[0m\u001b[0mself\u001b[0m\u001b[0;34m.\u001b[0m\u001b[0msort_key\u001b[0m\u001b[0;34m,\u001b[0m \u001b[0mreverse\u001b[0m\u001b[0;34m=\u001b[0m\u001b[0;32mTrue\u001b[0m\u001b[0;34m)\u001b[0m\u001b[0;34m\u001b[0m\u001b[0;34m\u001b[0m\u001b[0m\n\u001b[0;32m--> 157\u001b[0;31m                 \u001b[0;32myield\u001b[0m \u001b[0mBatch\u001b[0m\u001b[0;34m(\u001b[0m\u001b[0mminibatch\u001b[0m\u001b[0;34m,\u001b[0m \u001b[0mself\u001b[0m\u001b[0;34m.\u001b[0m\u001b[0mdataset\u001b[0m\u001b[0;34m,\u001b[0m \u001b[0mself\u001b[0m\u001b[0;34m.\u001b[0m\u001b[0mdevice\u001b[0m\u001b[0;34m)\u001b[0m\u001b[0;34m\u001b[0m\u001b[0;34m\u001b[0m\u001b[0m\n\u001b[0m\u001b[1;32m    158\u001b[0m             \u001b[0;32mif\u001b[0m \u001b[0;32mnot\u001b[0m \u001b[0mself\u001b[0m\u001b[0;34m.\u001b[0m\u001b[0mrepeat\u001b[0m\u001b[0;34m:\u001b[0m\u001b[0;34m\u001b[0m\u001b[0;34m\u001b[0m\u001b[0m\n\u001b[1;32m    159\u001b[0m                 \u001b[0;32mreturn\u001b[0m\u001b[0;34m\u001b[0m\u001b[0;34m\u001b[0m\u001b[0m\n",
            "\u001b[0;32m/usr/local/lib/python3.6/dist-packages/torchtext/data/batch.py\u001b[0m in \u001b[0;36m__init__\u001b[0;34m(self, data, dataset, device)\u001b[0m\n\u001b[1;32m     32\u001b[0m                 \u001b[0;32mif\u001b[0m \u001b[0mfield\u001b[0m \u001b[0;32mis\u001b[0m \u001b[0;32mnot\u001b[0m \u001b[0;32mNone\u001b[0m\u001b[0;34m:\u001b[0m\u001b[0;34m\u001b[0m\u001b[0;34m\u001b[0m\u001b[0m\n\u001b[1;32m     33\u001b[0m                     \u001b[0mbatch\u001b[0m \u001b[0;34m=\u001b[0m \u001b[0;34m[\u001b[0m\u001b[0mgetattr\u001b[0m\u001b[0;34m(\u001b[0m\u001b[0mx\u001b[0m\u001b[0;34m,\u001b[0m \u001b[0mname\u001b[0m\u001b[0;34m)\u001b[0m \u001b[0;32mfor\u001b[0m \u001b[0mx\u001b[0m \u001b[0;32min\u001b[0m \u001b[0mdata\u001b[0m\u001b[0;34m]\u001b[0m\u001b[0;34m\u001b[0m\u001b[0;34m\u001b[0m\u001b[0m\n\u001b[0;32m---> 34\u001b[0;31m                     \u001b[0msetattr\u001b[0m\u001b[0;34m(\u001b[0m\u001b[0mself\u001b[0m\u001b[0;34m,\u001b[0m \u001b[0mname\u001b[0m\u001b[0;34m,\u001b[0m \u001b[0mfield\u001b[0m\u001b[0;34m.\u001b[0m\u001b[0mprocess\u001b[0m\u001b[0;34m(\u001b[0m\u001b[0mbatch\u001b[0m\u001b[0;34m,\u001b[0m \u001b[0mdevice\u001b[0m\u001b[0;34m=\u001b[0m\u001b[0mdevice\u001b[0m\u001b[0;34m)\u001b[0m\u001b[0;34m)\u001b[0m\u001b[0;34m\u001b[0m\u001b[0;34m\u001b[0m\u001b[0m\n\u001b[0m\u001b[1;32m     35\u001b[0m \u001b[0;34m\u001b[0m\u001b[0m\n\u001b[1;32m     36\u001b[0m     \u001b[0;34m@\u001b[0m\u001b[0mclassmethod\u001b[0m\u001b[0;34m\u001b[0m\u001b[0;34m\u001b[0m\u001b[0m\n",
            "\u001b[0;32m/usr/local/lib/python3.6/dist-packages/torchtext/data/field.py\u001b[0m in \u001b[0;36mprocess\u001b[0;34m(self, batch, device)\u001b[0m\n\u001b[1;32m    198\u001b[0m             \u001b[0;32mand\u001b[0m \u001b[0mcustom\u001b[0m \u001b[0mpostprocessing\u001b[0m \u001b[0mPipeline\u001b[0m\u001b[0;34m.\u001b[0m\u001b[0;34m\u001b[0m\u001b[0;34m\u001b[0m\u001b[0m\n\u001b[1;32m    199\u001b[0m         \"\"\"\n\u001b[0;32m--> 200\u001b[0;31m         \u001b[0mpadded\u001b[0m \u001b[0;34m=\u001b[0m \u001b[0mself\u001b[0m\u001b[0;34m.\u001b[0m\u001b[0mpad\u001b[0m\u001b[0;34m(\u001b[0m\u001b[0mbatch\u001b[0m\u001b[0;34m)\u001b[0m\u001b[0;34m\u001b[0m\u001b[0;34m\u001b[0m\u001b[0m\n\u001b[0m\u001b[1;32m    201\u001b[0m         \u001b[0mtensor\u001b[0m \u001b[0;34m=\u001b[0m \u001b[0mself\u001b[0m\u001b[0;34m.\u001b[0m\u001b[0mnumericalize\u001b[0m\u001b[0;34m(\u001b[0m\u001b[0mpadded\u001b[0m\u001b[0;34m,\u001b[0m \u001b[0mdevice\u001b[0m\u001b[0;34m=\u001b[0m\u001b[0mdevice\u001b[0m\u001b[0;34m)\u001b[0m\u001b[0;34m\u001b[0m\u001b[0;34m\u001b[0m\u001b[0m\n\u001b[1;32m    202\u001b[0m         \u001b[0;32mreturn\u001b[0m \u001b[0mtensor\u001b[0m\u001b[0;34m\u001b[0m\u001b[0;34m\u001b[0m\u001b[0m\n",
            "\u001b[0;32m/usr/local/lib/python3.6/dist-packages/torchtext/data/field.py\u001b[0m in \u001b[0;36mpad\u001b[0;34m(self, minibatch)\u001b[0m\n\u001b[1;32m    572\u001b[0m         \u001b[0mself\u001b[0m\u001b[0;34m.\u001b[0m\u001b[0mnesting_field\u001b[0m\u001b[0;34m.\u001b[0m\u001b[0minclude_lengths\u001b[0m \u001b[0;34m=\u001b[0m \u001b[0;32mTrue\u001b[0m\u001b[0;34m\u001b[0m\u001b[0;34m\u001b[0m\u001b[0m\n\u001b[1;32m    573\u001b[0m         \u001b[0mpadded\u001b[0m\u001b[0;34m,\u001b[0m \u001b[0msentence_lengths\u001b[0m \u001b[0;34m=\u001b[0m \u001b[0msuper\u001b[0m\u001b[0;34m(\u001b[0m\u001b[0mNestedField\u001b[0m\u001b[0;34m,\u001b[0m \u001b[0mself\u001b[0m\u001b[0;34m)\u001b[0m\u001b[0;34m.\u001b[0m\u001b[0mpad\u001b[0m\u001b[0;34m(\u001b[0m\u001b[0mminibatch\u001b[0m\u001b[0;34m)\u001b[0m\u001b[0;34m\u001b[0m\u001b[0;34m\u001b[0m\u001b[0m\n\u001b[0;32m--> 574\u001b[0;31m         \u001b[0mpadded_with_lengths\u001b[0m \u001b[0;34m=\u001b[0m \u001b[0;34m[\u001b[0m\u001b[0mself\u001b[0m\u001b[0;34m.\u001b[0m\u001b[0mnesting_field\u001b[0m\u001b[0;34m.\u001b[0m\u001b[0mpad\u001b[0m\u001b[0;34m(\u001b[0m\u001b[0mex\u001b[0m\u001b[0;34m)\u001b[0m \u001b[0;32mfor\u001b[0m \u001b[0mex\u001b[0m \u001b[0;32min\u001b[0m \u001b[0mpadded\u001b[0m\u001b[0;34m]\u001b[0m\u001b[0;34m\u001b[0m\u001b[0;34m\u001b[0m\u001b[0m\n\u001b[0m\u001b[1;32m    575\u001b[0m         \u001b[0mword_lengths\u001b[0m \u001b[0;34m=\u001b[0m \u001b[0;34m[\u001b[0m\u001b[0;34m]\u001b[0m\u001b[0;34m\u001b[0m\u001b[0;34m\u001b[0m\u001b[0m\n\u001b[1;32m    576\u001b[0m         \u001b[0mfinal_padded\u001b[0m \u001b[0;34m=\u001b[0m \u001b[0;34m[\u001b[0m\u001b[0;34m]\u001b[0m\u001b[0;34m\u001b[0m\u001b[0;34m\u001b[0m\u001b[0m\n",
            "\u001b[0;32m/usr/local/lib/python3.6/dist-packages/torchtext/data/field.py\u001b[0m in \u001b[0;36m<listcomp>\u001b[0;34m(.0)\u001b[0m\n\u001b[1;32m    572\u001b[0m         \u001b[0mself\u001b[0m\u001b[0;34m.\u001b[0m\u001b[0mnesting_field\u001b[0m\u001b[0;34m.\u001b[0m\u001b[0minclude_lengths\u001b[0m \u001b[0;34m=\u001b[0m \u001b[0;32mTrue\u001b[0m\u001b[0;34m\u001b[0m\u001b[0;34m\u001b[0m\u001b[0m\n\u001b[1;32m    573\u001b[0m         \u001b[0mpadded\u001b[0m\u001b[0;34m,\u001b[0m \u001b[0msentence_lengths\u001b[0m \u001b[0;34m=\u001b[0m \u001b[0msuper\u001b[0m\u001b[0;34m(\u001b[0m\u001b[0mNestedField\u001b[0m\u001b[0;34m,\u001b[0m \u001b[0mself\u001b[0m\u001b[0;34m)\u001b[0m\u001b[0;34m.\u001b[0m\u001b[0mpad\u001b[0m\u001b[0;34m(\u001b[0m\u001b[0mminibatch\u001b[0m\u001b[0;34m)\u001b[0m\u001b[0;34m\u001b[0m\u001b[0;34m\u001b[0m\u001b[0m\n\u001b[0;32m--> 574\u001b[0;31m         \u001b[0mpadded_with_lengths\u001b[0m \u001b[0;34m=\u001b[0m \u001b[0;34m[\u001b[0m\u001b[0mself\u001b[0m\u001b[0;34m.\u001b[0m\u001b[0mnesting_field\u001b[0m\u001b[0;34m.\u001b[0m\u001b[0mpad\u001b[0m\u001b[0;34m(\u001b[0m\u001b[0mex\u001b[0m\u001b[0;34m)\u001b[0m \u001b[0;32mfor\u001b[0m \u001b[0mex\u001b[0m \u001b[0;32min\u001b[0m \u001b[0mpadded\u001b[0m\u001b[0;34m]\u001b[0m\u001b[0;34m\u001b[0m\u001b[0;34m\u001b[0m\u001b[0m\n\u001b[0m\u001b[1;32m    575\u001b[0m         \u001b[0mword_lengths\u001b[0m \u001b[0;34m=\u001b[0m \u001b[0;34m[\u001b[0m\u001b[0;34m]\u001b[0m\u001b[0;34m\u001b[0m\u001b[0;34m\u001b[0m\u001b[0m\n\u001b[1;32m    576\u001b[0m         \u001b[0mfinal_padded\u001b[0m \u001b[0;34m=\u001b[0m \u001b[0;34m[\u001b[0m\u001b[0;34m]\u001b[0m\u001b[0;34m\u001b[0m\u001b[0;34m\u001b[0m\u001b[0m\n",
            "\u001b[0;32m/usr/local/lib/python3.6/dist-packages/torchtext/data/field.py\u001b[0m in \u001b[0;36mpad\u001b[0;34m(self, minibatch)\u001b[0m\n\u001b[1;32m    233\u001b[0m                     \u001b[0mlist\u001b[0m\u001b[0;34m(\u001b[0m\u001b[0mx\u001b[0m\u001b[0;34m[\u001b[0m\u001b[0;34m-\u001b[0m\u001b[0mmax_len\u001b[0m\u001b[0;34m:\u001b[0m\u001b[0;34m]\u001b[0m \u001b[0;32mif\u001b[0m \u001b[0mself\u001b[0m\u001b[0;34m.\u001b[0m\u001b[0mtruncate_first\u001b[0m \u001b[0;32melse\u001b[0m \u001b[0mx\u001b[0m\u001b[0;34m[\u001b[0m\u001b[0;34m:\u001b[0m\u001b[0mmax_len\u001b[0m\u001b[0;34m]\u001b[0m\u001b[0;34m)\u001b[0m \u001b[0;34m+\u001b[0m\u001b[0;34m\u001b[0m\u001b[0;34m\u001b[0m\u001b[0m\n\u001b[1;32m    234\u001b[0m                     \u001b[0;34m(\u001b[0m\u001b[0;34m[\u001b[0m\u001b[0;34m]\u001b[0m \u001b[0;32mif\u001b[0m \u001b[0mself\u001b[0m\u001b[0;34m.\u001b[0m\u001b[0meos_token\u001b[0m \u001b[0;32mis\u001b[0m \u001b[0;32mNone\u001b[0m \u001b[0;32melse\u001b[0m \u001b[0;34m[\u001b[0m\u001b[0mself\u001b[0m\u001b[0;34m.\u001b[0m\u001b[0meos_token\u001b[0m\u001b[0;34m]\u001b[0m\u001b[0;34m)\u001b[0m \u001b[0;34m+\u001b[0m\u001b[0;34m\u001b[0m\u001b[0;34m\u001b[0m\u001b[0m\n\u001b[0;32m--> 235\u001b[0;31m                     [self.pad_token] * max(0, max_len - len(x)))\n\u001b[0m\u001b[1;32m    236\u001b[0m             \u001b[0mlengths\u001b[0m\u001b[0;34m.\u001b[0m\u001b[0mappend\u001b[0m\u001b[0;34m(\u001b[0m\u001b[0mlen\u001b[0m\u001b[0;34m(\u001b[0m\u001b[0mpadded\u001b[0m\u001b[0;34m[\u001b[0m\u001b[0;34m-\u001b[0m\u001b[0;36m1\u001b[0m\u001b[0;34m]\u001b[0m\u001b[0;34m)\u001b[0m \u001b[0;34m-\u001b[0m \u001b[0mmax\u001b[0m\u001b[0;34m(\u001b[0m\u001b[0;36m0\u001b[0m\u001b[0;34m,\u001b[0m \u001b[0mmax_len\u001b[0m \u001b[0;34m-\u001b[0m \u001b[0mlen\u001b[0m\u001b[0;34m(\u001b[0m\u001b[0mx\u001b[0m\u001b[0;34m)\u001b[0m\u001b[0;34m)\u001b[0m\u001b[0;34m)\u001b[0m\u001b[0;34m\u001b[0m\u001b[0;34m\u001b[0m\u001b[0m\n\u001b[1;32m    237\u001b[0m         \u001b[0;32mif\u001b[0m \u001b[0mself\u001b[0m\u001b[0;34m.\u001b[0m\u001b[0minclude_lengths\u001b[0m\u001b[0;34m:\u001b[0m\u001b[0;34m\u001b[0m\u001b[0;34m\u001b[0m\u001b[0m\n",
            "\u001b[0;31mKeyboardInterrupt\u001b[0m: "
          ]
        }
      ]
    },
    {
      "cell_type": "code",
      "metadata": {
        "id": "qrW7tPOc7jLg",
        "colab_type": "code",
        "outputId": "ca2a1f0b-b922-40dc-896e-938e8d4805a6",
        "colab": {
          "base_uri": "https://localhost:8080/",
          "height": 35
        }
      },
      "source": [
        "pred_cat = model.predict(X_te)\n",
        "pred = np.argmax(pred_cat, axis=-1)\n",
        "y_te_true = np.argmax(y_te, -1)\n",
        "from sklearn_crfsuite.metrics import flat_classification_report\n",
        "\n",
        "# Convert the index to tag\n",
        "pred_tag = [[idx2tag[i] for i in row] for row in pred]\n",
        "y_te_true_tag = [[idx2tag[i] for i in row] for row in y_te_true] \n",
        "\n",
        "report = flat_classification_report(y_pred=pred_tag, y_true=y_te_true_tag)\n",
        "print(report)"
      ],
      "execution_count": 0,
      "outputs": [
        {
          "output_type": "execute_result",
          "data": {
            "text/plain": [
              "3"
            ]
          },
          "metadata": {
            "tags": []
          },
          "execution_count": 23
        }
      ]
    },
    {
      "cell_type": "code",
      "metadata": {
        "id": "KxUqSGsNbZMp",
        "colab_type": "code",
        "colab": {}
      },
      "source": [
        ""
      ],
      "execution_count": 0,
      "outputs": []
    },
    {
      "cell_type": "code",
      "metadata": {
        "id": "iPfLM2mGCwqP",
        "colab_type": "code",
        "colab": {}
      },
      "source": [
        "def zero_digits(s):\n",
        "    \"\"\"\n",
        "    Replace every digit in a string by a zero.\n",
        "    \"\"\"\n",
        "    return re.sub('\\d', '0', s)\n",
        "\n",
        "def load_sentences(path, zeros):\n",
        "    \"\"\"\n",
        "    Load sentences. A line must contain at least a word and its tag.\n",
        "    Sentences are separated by empty lines.\n",
        "    \"\"\"\n",
        "\n",
        "    \n",
        "    sentences = []\n",
        "    sentence = []\n",
        "    for line in codecs.open(path, 'r', 'utf8'):\n",
        "        line = zero_digits(line.rstrip()) if zeros else line.rstrip()\n",
        "        if not line:\n",
        "            if len(sentence) > 0:\n",
        "                if 'DOCSTART' not in sentence[0][0]:\n",
        "                    sentences.append(sentence)\n",
        "                sentence = []\n",
        "        else:\n",
        "            word = line.split()\n",
        "            assert len(word) >= 2\n",
        "            sentence.append(word)\n",
        "    if len(sentence) > 0:\n",
        "        if 'DOCSTART' not in sentence[0][0]:\n",
        "            sentences.append(sentence)\n",
        "    return sentences"
      ],
      "execution_count": 0,
      "outputs": []
    },
    {
      "cell_type": "code",
      "metadata": {
        "id": "EHxaimwECgt1",
        "colab_type": "code",
        "colab": {}
      },
      "source": [
        "train_sentences = load_sentences('/content/NER/corpus/CoNLL-2003/eng.train',zeros=True)\n",
        "test_sentences = load_sentences('/content/NER/corpus/CoNLL-2003/eng.testb', zeros=True)\n",
        "dev_sentences = load_sentences('/content/NER/corpus/CoNLL-2003/eng.testa', zeros=True)"
      ],
      "execution_count": 0,
      "outputs": []
    },
    {
      "cell_type": "code",
      "metadata": {
        "id": "aFbtjfmgCgpV",
        "colab_type": "code",
        "outputId": "46d55c45-0c94-412f-8202-4b4e604f0613",
        "colab": {
          "base_uri": "https://localhost:8080/",
          "height": 35
        }
      },
      "source": [
        "len(train_sentences)"
      ],
      "execution_count": 0,
      "outputs": [
        {
          "output_type": "execute_result",
          "data": {
            "text/plain": [
              "14041"
            ]
          },
          "metadata": {
            "tags": []
          },
          "execution_count": 5
        }
      ]
    },
    {
      "cell_type": "code",
      "metadata": {
        "id": "Nu80JtNpCglv",
        "colab_type": "code",
        "outputId": "074008c2-99f3-4c04-d0ac-1cd72b75c79d",
        "colab": {
          "base_uri": "https://localhost:8080/",
          "height": 35
        }
      },
      "source": [
        "train_sentences[2]"
      ],
      "execution_count": 0,
      "outputs": [
        {
          "output_type": "execute_result",
          "data": {
            "text/plain": [
              "[['BRUSSELS', 'NNP', 'I-NP', 'I-LOC'], ['0000-00-00', 'CD', 'I-NP', 'O']]"
            ]
          },
          "metadata": {
            "tags": []
          },
          "execution_count": 6
        }
      ]
    },
    {
      "cell_type": "code",
      "metadata": {
        "id": "Q0_cfC5SCge6",
        "colab_type": "code",
        "outputId": "f86c927c-6ae0-4947-a032-a4d025e20f7b",
        "colab": {
          "base_uri": "https://localhost:8080/",
          "height": 235
        }
      },
      "source": [
        "def lower_case(x,lower=False):\n",
        "    if lower:\n",
        "        return x.lower()  \n",
        "    else:\n",
        "        return x\n",
        "\n",
        "def prepare_dataset(sentences, word_to_id, char_to_id, tag_to_id, lower=False):\n",
        "    \"\"\"\n",
        "    Prepare the dataset. Return a list of lists of dictionaries containing:\n",
        "        - word indexes\n",
        "        - word char indexes\n",
        "        - tag indexes\n",
        "    \"\"\"\n",
        "    data = []\n",
        "    for s in sentences:\n",
        "        str_words = [w[0] for w in s]\n",
        "        words = [word_to_id[lower_case(w,lower) if lower_case(w,lower) in word_to_id else '<UNK>']\n",
        "                 for w in str_words]\n",
        "        # Skip characters that are not in the training set\n",
        "        chars = [[char_to_id[c] for c in w if c in char_to_id]\n",
        "                 for w in str_words]\n",
        "        tags = [tag_to_id[w[-1]] for w in s]\n",
        "        data.append({\n",
        "            'str_words': str_words,\n",
        "            'words': words,\n",
        "            'chars': chars,\n",
        "            'tags': tags,\n",
        "        })\n",
        "    return data\n",
        "\n",
        "train_data = prepare_dataset(\n",
        "    train_sentences, word_to_id, char_to_id, tag_to_id, parameters['lower']\n",
        ")\n",
        "dev_data = prepare_dataset(\n",
        "    dev_sentences, word_to_id, char_to_id, tag_to_id, parameters['lower']\n",
        ")\n",
        "test_data = prepare_dataset(\n",
        "    test_sentences, word_to_id, char_to_id, tag_to_id, parameters['lower']\n",
        ")\n",
        "print(\"{} / {} / {} sentences in train / dev / test.\".format(len(train_data), len(dev_data), len(test_data)))"
      ],
      "execution_count": 0,
      "outputs": [
        {
          "output_type": "error",
          "ename": "NameError",
          "evalue": "ignored",
          "traceback": [
            "\u001b[0;31m---------------------------------------------------------------------------\u001b[0m",
            "\u001b[0;31mNameError\u001b[0m                                 Traceback (most recent call last)",
            "\u001b[0;32m<ipython-input-7-403e524c544c>\u001b[0m in \u001b[0;36m<module>\u001b[0;34m()\u001b[0m\n\u001b[1;32m     30\u001b[0m \u001b[0;34m\u001b[0m\u001b[0m\n\u001b[1;32m     31\u001b[0m train_data = prepare_dataset(\n\u001b[0;32m---> 32\u001b[0;31m     \u001b[0mtrain_sentences\u001b[0m\u001b[0;34m,\u001b[0m \u001b[0mword_to_id\u001b[0m\u001b[0;34m,\u001b[0m \u001b[0mchar_to_id\u001b[0m\u001b[0;34m,\u001b[0m \u001b[0mtag_to_id\u001b[0m\u001b[0;34m,\u001b[0m \u001b[0mparameters\u001b[0m\u001b[0;34m[\u001b[0m\u001b[0;34m'lower'\u001b[0m\u001b[0;34m]\u001b[0m\u001b[0;34m\u001b[0m\u001b[0;34m\u001b[0m\u001b[0m\n\u001b[0m\u001b[1;32m     33\u001b[0m )\n\u001b[1;32m     34\u001b[0m dev_data = prepare_dataset(\n",
            "\u001b[0;31mNameError\u001b[0m: name 'word_to_id' is not defined"
          ]
        }
      ]
    }
  ]
}